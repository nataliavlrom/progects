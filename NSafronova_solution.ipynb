{
  "nbformat": 4,
  "nbformat_minor": 0,
  "metadata": {
    "colab": {
      "name": "NSafronova_solution.ipynb",
      "provenance": [],
      "collapsed_sections": [
        "2DVE6wDz2w-8",
        "vIZicyfJ3D37",
        "Ji6mEBH_Tpci",
        "frLKNruiEPhr",
        "GqsnUTg0G6h4",
        "B0c78qwJfI0b"
      ],
      "authorship_tag": "ABX9TyPkwl/5dLdLVDmdP1lCpFxz",
      "include_colab_link": true
    },
    "kernelspec": {
      "name": "python3",
      "display_name": "Python 3"
    },
    "language_info": {
      "name": "python"
    }
  },
  "cells": [
    {
      "cell_type": "markdown",
      "metadata": {
        "id": "view-in-github",
        "colab_type": "text"
      },
      "source": [
        "<a href=\"https://colab.research.google.com/github/nataliavlrom/progects/blob/main/NSafronova_solution.ipynb\" target=\"_parent\"><img src=\"https://colab.research.google.com/assets/colab-badge.svg\" alt=\"Open In Colab\"/></a>"
      ]
    },
    {
      "cell_type": "markdown",
      "source": [
        "#Курсовой проект "
      ],
      "metadata": {
        "id": "Xl4ugJJqgkNk"
      }
    },
    {
      "cell_type": "markdown",
      "source": [
        "## \"Прогнозирование невыполнения долговых обязательств по текущему кредиту\""
      ],
      "metadata": {
        "id": "bWp0AYB_S8sh"
      }
    },
    {
      "cell_type": "markdown",
      "source": [
        "**Целевая переменная**\n",
        "\n",
        "Credit Default - факт невыполнения кредитных обязательств\n",
        "\n",
        "**Метрика качества**\n",
        "\n",
        "F1-score (sklearn.metrics.f1_score)"
      ],
      "metadata": {
        "id": "E67B7UAEha8k"
      }
    },
    {
      "cell_type": "markdown",
      "source": [
        "**Целевая метрика**\n",
        "\n",
        "F1 > 0.5\n",
        "\n",
        "Метрика оценивается по качеству прогноза для главного класса (1 - просрочка по кредиту)"
      ],
      "metadata": {
        "id": "PjK5rqXHhoFc"
      }
    },
    {
      "cell_type": "markdown",
      "source": [
        "**Описание датасета:**\n",
        "\n",
        "\n",
        "**Home Ownership** - домовладение\n",
        "\n",
        "**Annual Income** - годовой доход\n",
        "\n",
        "**Years in current job** - количество лет на текущем месте работы\n",
        "\n",
        "**Tax Liens** - налоговые обременения\n",
        "\n",
        "**Number of Open Accounts** - количество открытых счетов\n",
        "\n",
        "**Years of Credit History** - количество лет кредитной истории\n",
        "\n",
        "**Maximum Open Credit** - наибольший открытый кредит\n",
        "\n",
        "**Number of Credit Problems** - количество проблем с кредитом\n",
        "\n",
        "**Months since last delinquent** - количество месяцев с последней просрочки платежа\n",
        "\n",
        "**Bankruptcies** - банкротства\n",
        "\n",
        "**Purpose** - цель кредита\n",
        "\n",
        "**Term** - срок кредита\n",
        "\n",
        "**Current Loan Amount** - текущая сумма кредита\n",
        "\n",
        "**Current Credit Balance** - текущий кредитный баланс\n",
        "\n",
        "**Monthly Debt** - ежемесячный долг\n",
        "\n",
        "**Credit Default** - факт невыполнения кредитных обязательств (0 - погашен вовремя, 1 - просрочка)"
      ],
      "metadata": {
        "id": "DcWipdWzi5v6"
      }
    },
    {
      "cell_type": "markdown",
      "source": [
        "**Подключение библиотек и скриптов**"
      ],
      "metadata": {
        "id": "yWbHFuctmQ0p"
      }
    },
    {
      "cell_type": "code",
      "source": [
        "!pip install xgboost\n",
        "!pip install lightgbm\n",
        "!pip install catboost"
      ],
      "metadata": {
        "colab": {
          "base_uri": "https://localhost:8080/"
        },
        "id": "LkpweedHVZxF",
        "outputId": "74b95fdd-5bc6-4986-f855-d0b1c38c9b58"
      },
      "execution_count": null,
      "outputs": [
        {
          "output_type": "stream",
          "name": "stdout",
          "text": [
            "Requirement already satisfied: xgboost in /usr/local/lib/python3.7/dist-packages (0.90)\n",
            "Requirement already satisfied: scipy in /usr/local/lib/python3.7/dist-packages (from xgboost) (1.4.1)\n",
            "Requirement already satisfied: numpy in /usr/local/lib/python3.7/dist-packages (from xgboost) (1.21.5)\n",
            "Requirement already satisfied: lightgbm in /usr/local/lib/python3.7/dist-packages (2.2.3)\n",
            "Requirement already satisfied: numpy in /usr/local/lib/python3.7/dist-packages (from lightgbm) (1.21.5)\n",
            "Requirement already satisfied: scipy in /usr/local/lib/python3.7/dist-packages (from lightgbm) (1.4.1)\n",
            "Requirement already satisfied: scikit-learn in /usr/local/lib/python3.7/dist-packages (from lightgbm) (1.0.2)\n",
            "Requirement already satisfied: joblib>=0.11 in /usr/local/lib/python3.7/dist-packages (from scikit-learn->lightgbm) (1.1.0)\n",
            "Requirement already satisfied: threadpoolctl>=2.0.0 in /usr/local/lib/python3.7/dist-packages (from scikit-learn->lightgbm) (3.1.0)\n",
            "Collecting catboost\n",
            "  Downloading catboost-1.0.4-cp37-none-manylinux1_x86_64.whl (76.1 MB)\n",
            "\u001b[K     |████████████████████████████████| 76.1 MB 55 kB/s \n",
            "\u001b[?25hRequirement already satisfied: numpy>=1.16.0 in /usr/local/lib/python3.7/dist-packages (from catboost) (1.21.5)\n",
            "Requirement already satisfied: plotly in /usr/local/lib/python3.7/dist-packages (from catboost) (5.5.0)\n",
            "Requirement already satisfied: matplotlib in /usr/local/lib/python3.7/dist-packages (from catboost) (3.2.2)\n",
            "Requirement already satisfied: pandas>=0.24.0 in /usr/local/lib/python3.7/dist-packages (from catboost) (1.3.5)\n",
            "Requirement already satisfied: six in /usr/local/lib/python3.7/dist-packages (from catboost) (1.15.0)\n",
            "Requirement already satisfied: scipy in /usr/local/lib/python3.7/dist-packages (from catboost) (1.4.1)\n",
            "Requirement already satisfied: graphviz in /usr/local/lib/python3.7/dist-packages (from catboost) (0.10.1)\n",
            "Requirement already satisfied: pytz>=2017.3 in /usr/local/lib/python3.7/dist-packages (from pandas>=0.24.0->catboost) (2018.9)\n",
            "Requirement already satisfied: python-dateutil>=2.7.3 in /usr/local/lib/python3.7/dist-packages (from pandas>=0.24.0->catboost) (2.8.2)\n",
            "Requirement already satisfied: kiwisolver>=1.0.1 in /usr/local/lib/python3.7/dist-packages (from matplotlib->catboost) (1.4.0)\n",
            "Requirement already satisfied: pyparsing!=2.0.4,!=2.1.2,!=2.1.6,>=2.0.1 in /usr/local/lib/python3.7/dist-packages (from matplotlib->catboost) (3.0.7)\n",
            "Requirement already satisfied: cycler>=0.10 in /usr/local/lib/python3.7/dist-packages (from matplotlib->catboost) (0.11.0)\n",
            "Requirement already satisfied: typing-extensions in /usr/local/lib/python3.7/dist-packages (from kiwisolver>=1.0.1->matplotlib->catboost) (3.10.0.2)\n",
            "Requirement already satisfied: tenacity>=6.2.0 in /usr/local/lib/python3.7/dist-packages (from plotly->catboost) (8.0.1)\n",
            "Installing collected packages: catboost\n",
            "Successfully installed catboost-1.0.4\n"
          ]
        }
      ]
    },
    {
      "cell_type": "code",
      "source": [
        "import numpy as np\n",
        "import pandas as pd\n",
        "import pickle\n",
        "import random\n",
        "\n",
        "from sklearn.preprocessing import StandardScaler, MinMaxScaler\n",
        "from sklearn.model_selection import train_test_split, ShuffleSplit, cross_val_score, learning_curve\n",
        "from sklearn.model_selection import KFold, GridSearchCV, RandomizedSearchCV\n",
        "from sklearn.metrics import classification_report, f1_score, precision_score, recall_score\n",
        "\n",
        "from sklearn.linear_model import LogisticRegression\n",
        "from sklearn.neighbors import KNeighborsClassifier\n",
        "import xgboost as xgb, lightgbm as lgbm, catboost as catb\n",
        "\n",
        "import matplotlib\n",
        "import matplotlib.pyplot as plt\n",
        "import seaborn as sns\n",
        "%matplotlib inline"
      ],
      "metadata": {
        "id": "L57_iFscmTNM"
      },
      "execution_count": null,
      "outputs": []
    },
    {
      "cell_type": "code",
      "source": [
        "import imblearn\n",
        "from imblearn.under_sampling import RandomUnderSampler\n",
        "from imblearn.under_sampling import NearMiss"
      ],
      "metadata": {
        "id": "jLqbKNfF_TNb"
      },
      "execution_count": null,
      "outputs": []
    },
    {
      "cell_type": "code",
      "source": [
        "import warnings\n",
        "warnings.filterwarnings('ignore')"
      ],
      "metadata": {
        "id": "zu77WNDfmoFq"
      },
      "execution_count": null,
      "outputs": []
    },
    {
      "cell_type": "code",
      "source": [
        "matplotlib.rcParams.update({'font.size': 14})"
      ],
      "metadata": {
        "id": "6_j53d4YmsNR"
      },
      "execution_count": null,
      "outputs": []
    },
    {
      "cell_type": "code",
      "source": [
        "def get_classification_report(y_train_true, y_train_pred, y_test_true, y_test_pred):\n",
        "    print('TRAIN\\n\\n' + classification_report(y_train_true, y_train_pred))\n",
        "    print('TEST\\n\\n' + classification_report(y_test_true, y_test_pred))\n",
        "    print('CONFUSION MATRIX\\n')\n",
        "    print(pd.crosstab(y_test_true, y_test_pred))"
      ],
      "metadata": {
        "id": "yBv-qsH0mQNG"
      },
      "execution_count": null,
      "outputs": []
    },
    {
      "cell_type": "code",
      "source": [
        "def balance_df_by_target(df, target_name):\n",
        "\n",
        "    target_counts = df[target_name].value_counts()\n",
        "\n",
        "    major_class_name = target_counts.argmax()\n",
        "    minor_class_name = target_counts.argmin()\n",
        "\n",
        "    disbalance_coeff = int(target_counts[major_class_name] / target_counts[minor_class_name]) - 1\n",
        "\n",
        "    for i in range(disbalance_coeff):\n",
        "        sample = df[df[target_name] == minor_class_name].sample(target_counts[minor_class_name])\n",
        "        df = df.append(sample, ignore_index=True)\n",
        "\n",
        "    return df.sample(frac=1) "
      ],
      "metadata": {
        "id": "p9MxdhjgmT-i"
      },
      "execution_count": null,
      "outputs": []
    },
    {
      "cell_type": "code",
      "source": [
        "def show_feature_importances(feature_names, feature_importances, get_top=None):\n",
        "    feature_importances = pd.DataFrame({'feature': feature_names, 'importance': feature_importances})\n",
        "    feature_importances = feature_importances.sort_values('importance', ascending=False)\n",
        "       \n",
        "    plt.figure(figsize = (20, len(feature_importances) * 0.355))\n",
        "    \n",
        "    sns.barplot(feature_importances['importance'], feature_importances['feature'])\n",
        "    \n",
        "    plt.xlabel('Importance')\n",
        "    plt.title('Importance of features')\n",
        "    plt.show()\n",
        "    \n",
        "    if get_top is not None:\n",
        "        return feature_importances['feature'][:get_top].tolist()"
      ],
      "metadata": {
        "id": "JUKJ7ckn4LTo"
      },
      "execution_count": null,
      "outputs": []
    },
    {
      "cell_type": "markdown",
      "source": [
        "**Пути к директориям и файлам**"
      ],
      "metadata": {
        "id": "aL3sjQsllTJC"
      }
    },
    {
      "cell_type": "code",
      "source": [
        "TRAIN_DATASET_PATH = '/content/sample_data/course_project_train.csv'\n",
        "TEST_DATASET_PATH = '/content/sample_data/course_project_test.csv'"
      ],
      "metadata": {
        "id": "PQwDjK1mhlyI"
      },
      "execution_count": null,
      "outputs": []
    },
    {
      "cell_type": "markdown",
      "source": [
        "**Загрузка данных**"
      ],
      "metadata": {
        "id": "wEdgxlPDl8xf"
      }
    },
    {
      "cell_type": "code",
      "execution_count": null,
      "metadata": {
        "colab": {
          "base_uri": "https://localhost:8080/",
          "height": 408
        },
        "id": "bRxHycbCgXXD",
        "outputId": "cabe37f9-5bcf-441f-ad95-ec2c58e95f18"
      },
      "outputs": [
        {
          "output_type": "execute_result",
          "data": {
            "text/plain": [
              "  Home Ownership  Annual Income Years in current job  Tax Liens  \\\n",
              "0       Own Home       482087.0                  NaN        0.0   \n",
              "1       Own Home      1025487.0            10+ years        0.0   \n",
              "2  Home Mortgage       751412.0              8 years        0.0   \n",
              "3       Own Home       805068.0              6 years        0.0   \n",
              "4           Rent       776264.0              8 years        0.0   \n",
              "\n",
              "   Number of Open Accounts  Years of Credit History  Maximum Open Credit  \\\n",
              "0                     11.0                     26.3             685960.0   \n",
              "1                     15.0                     15.3            1181730.0   \n",
              "2                     11.0                     35.0            1182434.0   \n",
              "3                      8.0                     22.5             147400.0   \n",
              "4                     13.0                     13.6             385836.0   \n",
              "\n",
              "   Number of Credit Problems  Months since last delinquent  Bankruptcies  \\\n",
              "0                        1.0                           NaN           1.0   \n",
              "1                        0.0                           NaN           0.0   \n",
              "2                        0.0                           NaN           0.0   \n",
              "3                        1.0                           NaN           1.0   \n",
              "4                        1.0                           NaN           0.0   \n",
              "\n",
              "              Purpose        Term  Current Loan Amount  \\\n",
              "0  debt consolidation  Short Term           99999999.0   \n",
              "1  debt consolidation   Long Term             264968.0   \n",
              "2  debt consolidation  Short Term           99999999.0   \n",
              "3  debt consolidation  Short Term             121396.0   \n",
              "4  debt consolidation  Short Term             125840.0   \n",
              "\n",
              "   Current Credit Balance  Monthly Debt  Credit Score  Credit Default  \n",
              "0                 47386.0        7914.0         749.0               0  \n",
              "1                394972.0       18373.0         737.0               1  \n",
              "2                308389.0       13651.0         742.0               0  \n",
              "3                 95855.0       11338.0         694.0               0  \n",
              "4                 93309.0        7180.0         719.0               0  "
            ],
            "text/html": [
              "\n",
              "  <div id=\"df-f3ce0d6c-3875-4135-8562-1b5b0930ed05\">\n",
              "    <div class=\"colab-df-container\">\n",
              "      <div>\n",
              "<style scoped>\n",
              "    .dataframe tbody tr th:only-of-type {\n",
              "        vertical-align: middle;\n",
              "    }\n",
              "\n",
              "    .dataframe tbody tr th {\n",
              "        vertical-align: top;\n",
              "    }\n",
              "\n",
              "    .dataframe thead th {\n",
              "        text-align: right;\n",
              "    }\n",
              "</style>\n",
              "<table border=\"1\" class=\"dataframe\">\n",
              "  <thead>\n",
              "    <tr style=\"text-align: right;\">\n",
              "      <th></th>\n",
              "      <th>Home Ownership</th>\n",
              "      <th>Annual Income</th>\n",
              "      <th>Years in current job</th>\n",
              "      <th>Tax Liens</th>\n",
              "      <th>Number of Open Accounts</th>\n",
              "      <th>Years of Credit History</th>\n",
              "      <th>Maximum Open Credit</th>\n",
              "      <th>Number of Credit Problems</th>\n",
              "      <th>Months since last delinquent</th>\n",
              "      <th>Bankruptcies</th>\n",
              "      <th>Purpose</th>\n",
              "      <th>Term</th>\n",
              "      <th>Current Loan Amount</th>\n",
              "      <th>Current Credit Balance</th>\n",
              "      <th>Monthly Debt</th>\n",
              "      <th>Credit Score</th>\n",
              "      <th>Credit Default</th>\n",
              "    </tr>\n",
              "  </thead>\n",
              "  <tbody>\n",
              "    <tr>\n",
              "      <th>0</th>\n",
              "      <td>Own Home</td>\n",
              "      <td>482087.0</td>\n",
              "      <td>NaN</td>\n",
              "      <td>0.0</td>\n",
              "      <td>11.0</td>\n",
              "      <td>26.3</td>\n",
              "      <td>685960.0</td>\n",
              "      <td>1.0</td>\n",
              "      <td>NaN</td>\n",
              "      <td>1.0</td>\n",
              "      <td>debt consolidation</td>\n",
              "      <td>Short Term</td>\n",
              "      <td>99999999.0</td>\n",
              "      <td>47386.0</td>\n",
              "      <td>7914.0</td>\n",
              "      <td>749.0</td>\n",
              "      <td>0</td>\n",
              "    </tr>\n",
              "    <tr>\n",
              "      <th>1</th>\n",
              "      <td>Own Home</td>\n",
              "      <td>1025487.0</td>\n",
              "      <td>10+ years</td>\n",
              "      <td>0.0</td>\n",
              "      <td>15.0</td>\n",
              "      <td>15.3</td>\n",
              "      <td>1181730.0</td>\n",
              "      <td>0.0</td>\n",
              "      <td>NaN</td>\n",
              "      <td>0.0</td>\n",
              "      <td>debt consolidation</td>\n",
              "      <td>Long Term</td>\n",
              "      <td>264968.0</td>\n",
              "      <td>394972.0</td>\n",
              "      <td>18373.0</td>\n",
              "      <td>737.0</td>\n",
              "      <td>1</td>\n",
              "    </tr>\n",
              "    <tr>\n",
              "      <th>2</th>\n",
              "      <td>Home Mortgage</td>\n",
              "      <td>751412.0</td>\n",
              "      <td>8 years</td>\n",
              "      <td>0.0</td>\n",
              "      <td>11.0</td>\n",
              "      <td>35.0</td>\n",
              "      <td>1182434.0</td>\n",
              "      <td>0.0</td>\n",
              "      <td>NaN</td>\n",
              "      <td>0.0</td>\n",
              "      <td>debt consolidation</td>\n",
              "      <td>Short Term</td>\n",
              "      <td>99999999.0</td>\n",
              "      <td>308389.0</td>\n",
              "      <td>13651.0</td>\n",
              "      <td>742.0</td>\n",
              "      <td>0</td>\n",
              "    </tr>\n",
              "    <tr>\n",
              "      <th>3</th>\n",
              "      <td>Own Home</td>\n",
              "      <td>805068.0</td>\n",
              "      <td>6 years</td>\n",
              "      <td>0.0</td>\n",
              "      <td>8.0</td>\n",
              "      <td>22.5</td>\n",
              "      <td>147400.0</td>\n",
              "      <td>1.0</td>\n",
              "      <td>NaN</td>\n",
              "      <td>1.0</td>\n",
              "      <td>debt consolidation</td>\n",
              "      <td>Short Term</td>\n",
              "      <td>121396.0</td>\n",
              "      <td>95855.0</td>\n",
              "      <td>11338.0</td>\n",
              "      <td>694.0</td>\n",
              "      <td>0</td>\n",
              "    </tr>\n",
              "    <tr>\n",
              "      <th>4</th>\n",
              "      <td>Rent</td>\n",
              "      <td>776264.0</td>\n",
              "      <td>8 years</td>\n",
              "      <td>0.0</td>\n",
              "      <td>13.0</td>\n",
              "      <td>13.6</td>\n",
              "      <td>385836.0</td>\n",
              "      <td>1.0</td>\n",
              "      <td>NaN</td>\n",
              "      <td>0.0</td>\n",
              "      <td>debt consolidation</td>\n",
              "      <td>Short Term</td>\n",
              "      <td>125840.0</td>\n",
              "      <td>93309.0</td>\n",
              "      <td>7180.0</td>\n",
              "      <td>719.0</td>\n",
              "      <td>0</td>\n",
              "    </tr>\n",
              "  </tbody>\n",
              "</table>\n",
              "</div>\n",
              "      <button class=\"colab-df-convert\" onclick=\"convertToInteractive('df-f3ce0d6c-3875-4135-8562-1b5b0930ed05')\"\n",
              "              title=\"Convert this dataframe to an interactive table.\"\n",
              "              style=\"display:none;\">\n",
              "        \n",
              "  <svg xmlns=\"http://www.w3.org/2000/svg\" height=\"24px\"viewBox=\"0 0 24 24\"\n",
              "       width=\"24px\">\n",
              "    <path d=\"M0 0h24v24H0V0z\" fill=\"none\"/>\n",
              "    <path d=\"M18.56 5.44l.94 2.06.94-2.06 2.06-.94-2.06-.94-.94-2.06-.94 2.06-2.06.94zm-11 1L8.5 8.5l.94-2.06 2.06-.94-2.06-.94L8.5 2.5l-.94 2.06-2.06.94zm10 10l.94 2.06.94-2.06 2.06-.94-2.06-.94-.94-2.06-.94 2.06-2.06.94z\"/><path d=\"M17.41 7.96l-1.37-1.37c-.4-.4-.92-.59-1.43-.59-.52 0-1.04.2-1.43.59L10.3 9.45l-7.72 7.72c-.78.78-.78 2.05 0 2.83L4 21.41c.39.39.9.59 1.41.59.51 0 1.02-.2 1.41-.59l7.78-7.78 2.81-2.81c.8-.78.8-2.07 0-2.86zM5.41 20L4 18.59l7.72-7.72 1.47 1.35L5.41 20z\"/>\n",
              "  </svg>\n",
              "      </button>\n",
              "      \n",
              "  <style>\n",
              "    .colab-df-container {\n",
              "      display:flex;\n",
              "      flex-wrap:wrap;\n",
              "      gap: 12px;\n",
              "    }\n",
              "\n",
              "    .colab-df-convert {\n",
              "      background-color: #E8F0FE;\n",
              "      border: none;\n",
              "      border-radius: 50%;\n",
              "      cursor: pointer;\n",
              "      display: none;\n",
              "      fill: #1967D2;\n",
              "      height: 32px;\n",
              "      padding: 0 0 0 0;\n",
              "      width: 32px;\n",
              "    }\n",
              "\n",
              "    .colab-df-convert:hover {\n",
              "      background-color: #E2EBFA;\n",
              "      box-shadow: 0px 1px 2px rgba(60, 64, 67, 0.3), 0px 1px 3px 1px rgba(60, 64, 67, 0.15);\n",
              "      fill: #174EA6;\n",
              "    }\n",
              "\n",
              "    [theme=dark] .colab-df-convert {\n",
              "      background-color: #3B4455;\n",
              "      fill: #D2E3FC;\n",
              "    }\n",
              "\n",
              "    [theme=dark] .colab-df-convert:hover {\n",
              "      background-color: #434B5C;\n",
              "      box-shadow: 0px 1px 3px 1px rgba(0, 0, 0, 0.15);\n",
              "      filter: drop-shadow(0px 1px 2px rgba(0, 0, 0, 0.3));\n",
              "      fill: #FFFFFF;\n",
              "    }\n",
              "  </style>\n",
              "\n",
              "      <script>\n",
              "        const buttonEl =\n",
              "          document.querySelector('#df-f3ce0d6c-3875-4135-8562-1b5b0930ed05 button.colab-df-convert');\n",
              "        buttonEl.style.display =\n",
              "          google.colab.kernel.accessAllowed ? 'block' : 'none';\n",
              "\n",
              "        async function convertToInteractive(key) {\n",
              "          const element = document.querySelector('#df-f3ce0d6c-3875-4135-8562-1b5b0930ed05');\n",
              "          const dataTable =\n",
              "            await google.colab.kernel.invokeFunction('convertToInteractive',\n",
              "                                                     [key], {});\n",
              "          if (!dataTable) return;\n",
              "\n",
              "          const docLinkHtml = 'Like what you see? Visit the ' +\n",
              "            '<a target=\"_blank\" href=https://colab.research.google.com/notebooks/data_table.ipynb>data table notebook</a>'\n",
              "            + ' to learn more about interactive tables.';\n",
              "          element.innerHTML = '';\n",
              "          dataTable['output_type'] = 'display_data';\n",
              "          await google.colab.output.renderOutput(dataTable, element);\n",
              "          const docLink = document.createElement('div');\n",
              "          docLink.innerHTML = docLinkHtml;\n",
              "          element.appendChild(docLink);\n",
              "        }\n",
              "      </script>\n",
              "    </div>\n",
              "  </div>\n",
              "  "
            ]
          },
          "metadata": {},
          "execution_count": 9
        }
      ],
      "source": [
        "df_train = pd.read_csv(TRAIN_DATASET_PATH)\n",
        "df_train.head()"
      ]
    },
    {
      "cell_type": "code",
      "source": [
        "df_train.shape"
      ],
      "metadata": {
        "colab": {
          "base_uri": "https://localhost:8080/"
        },
        "id": "qs-NXrPstQhT",
        "outputId": "892419fa-e5e9-42ce-9c47-afbae5d615fe"
      },
      "execution_count": null,
      "outputs": [
        {
          "output_type": "execute_result",
          "data": {
            "text/plain": [
              "(7500, 17)"
            ]
          },
          "metadata": {},
          "execution_count": 10
        }
      ]
    },
    {
      "cell_type": "markdown",
      "source": [
        "## EDA"
      ],
      "metadata": {
        "id": "C_3D-52pSonT"
      }
    },
    {
      "cell_type": "code",
      "source": [
        "# Целевая переменная\n",
        "df_train['Credit Default'].value_counts()"
      ],
      "metadata": {
        "colab": {
          "base_uri": "https://localhost:8080/"
        },
        "id": "vajAfqFeu-Kz",
        "outputId": "385a662f-dd36-4b82-ba1d-f4390b3e3e5b"
      },
      "execution_count": null,
      "outputs": [
        {
          "output_type": "execute_result",
          "data": {
            "text/plain": [
              "0    5387\n",
              "1    2113\n",
              "Name: Credit Default, dtype: int64"
            ]
          },
          "metadata": {},
          "execution_count": 11
        }
      ]
    },
    {
      "cell_type": "code",
      "source": [
        "df_train.info()"
      ],
      "metadata": {
        "colab": {
          "base_uri": "https://localhost:8080/"
        },
        "id": "S8AHWL2dvuvE",
        "outputId": "9ccde2e3-0ea6-4c74-9a65-f0be676c0d94"
      },
      "execution_count": null,
      "outputs": [
        {
          "output_type": "stream",
          "name": "stdout",
          "text": [
            "<class 'pandas.core.frame.DataFrame'>\n",
            "RangeIndex: 7500 entries, 0 to 7499\n",
            "Data columns (total 17 columns):\n",
            " #   Column                        Non-Null Count  Dtype  \n",
            "---  ------                        --------------  -----  \n",
            " 0   Home Ownership                7500 non-null   object \n",
            " 1   Annual Income                 5943 non-null   float64\n",
            " 2   Years in current job          7129 non-null   object \n",
            " 3   Tax Liens                     7500 non-null   float64\n",
            " 4   Number of Open Accounts       7500 non-null   float64\n",
            " 5   Years of Credit History       7500 non-null   float64\n",
            " 6   Maximum Open Credit           7500 non-null   float64\n",
            " 7   Number of Credit Problems     7500 non-null   float64\n",
            " 8   Months since last delinquent  3419 non-null   float64\n",
            " 9   Bankruptcies                  7486 non-null   float64\n",
            " 10  Purpose                       7500 non-null   object \n",
            " 11  Term                          7500 non-null   object \n",
            " 12  Current Loan Amount           7500 non-null   float64\n",
            " 13  Current Credit Balance        7500 non-null   float64\n",
            " 14  Monthly Debt                  7500 non-null   float64\n",
            " 15  Credit Score                  5943 non-null   float64\n",
            " 16  Credit Default                7500 non-null   int64  \n",
            "dtypes: float64(12), int64(1), object(4)\n",
            "memory usage: 996.2+ KB\n"
          ]
        }
      ]
    },
    {
      "cell_type": "markdown",
      "source": [
        "###**Количественные переменные**"
      ],
      "metadata": {
        "id": "2DVE6wDz2w-8"
      }
    },
    {
      "cell_type": "code",
      "source": [
        "df_train.describe()"
      ],
      "metadata": {
        "colab": {
          "base_uri": "https://localhost:8080/"
        },
        "id": "713e6pGE03WS",
        "outputId": "fa4a01de-1579-4d10-e40d-13e80794372c"
      },
      "execution_count": null,
      "outputs": [
        {
          "output_type": "execute_result",
          "data": {
            "text/plain": [
              "       Annual Income    Tax Liens  Number of Open Accounts  \\\n",
              "count   5.943000e+03  7500.000000              7500.000000   \n",
              "mean    1.366392e+06     0.030133                11.130933   \n",
              "std     8.453392e+05     0.271604                 4.908924   \n",
              "min     1.645970e+05     0.000000                 2.000000   \n",
              "25%     8.443410e+05     0.000000                 8.000000   \n",
              "50%     1.168386e+06     0.000000                10.000000   \n",
              "75%     1.640137e+06     0.000000                14.000000   \n",
              "max     1.014934e+07     7.000000                43.000000   \n",
              "\n",
              "       Years of Credit History  Maximum Open Credit  \\\n",
              "count              7500.000000         7.500000e+03   \n",
              "mean                 18.317467         9.451537e+05   \n",
              "std                   7.041946         1.602622e+07   \n",
              "min                   4.000000         0.000000e+00   \n",
              "25%                  13.500000         2.792295e+05   \n",
              "50%                  17.000000         4.781590e+05   \n",
              "75%                  21.800000         7.935015e+05   \n",
              "max                  57.700000         1.304726e+09   \n",
              "\n",
              "       Number of Credit Problems  Months since last delinquent  Bankruptcies  \\\n",
              "count                7500.000000                   3419.000000   7486.000000   \n",
              "mean                    0.170000                     34.692600      0.117152   \n",
              "std                     0.498598                     21.688806      0.347192   \n",
              "min                     0.000000                      0.000000      0.000000   \n",
              "25%                     0.000000                     16.000000      0.000000   \n",
              "50%                     0.000000                     32.000000      0.000000   \n",
              "75%                     0.000000                     50.000000      0.000000   \n",
              "max                     7.000000                    118.000000      4.000000   \n",
              "\n",
              "       Current Loan Amount  Current Credit Balance   Monthly Debt  \\\n",
              "count         7.500000e+03            7.500000e+03    7500.000000   \n",
              "mean          1.187318e+07            2.898332e+05   18314.454133   \n",
              "std           3.192612e+07            3.178714e+05   11926.764673   \n",
              "min           1.124200e+04            0.000000e+00       0.000000   \n",
              "25%           1.801690e+05            1.142565e+05   10067.500000   \n",
              "50%           3.095730e+05            2.093230e+05   16076.500000   \n",
              "75%           5.198820e+05            3.604062e+05   23818.000000   \n",
              "max           1.000000e+08            6.506797e+06  136679.000000   \n",
              "\n",
              "       Credit Score  Credit Default  \n",
              "count   5943.000000     7500.000000  \n",
              "mean    1151.087498        0.281733  \n",
              "std     1604.451418        0.449874  \n",
              "min      585.000000        0.000000  \n",
              "25%      711.000000        0.000000  \n",
              "50%      731.000000        0.000000  \n",
              "75%      743.000000        1.000000  \n",
              "max     7510.000000        1.000000  "
            ],
            "text/html": [
              "\n",
              "  <div id=\"df-85929481-9a77-494b-a0c7-67722bc4bf52\">\n",
              "    <div class=\"colab-df-container\">\n",
              "      <div>\n",
              "<style scoped>\n",
              "    .dataframe tbody tr th:only-of-type {\n",
              "        vertical-align: middle;\n",
              "    }\n",
              "\n",
              "    .dataframe tbody tr th {\n",
              "        vertical-align: top;\n",
              "    }\n",
              "\n",
              "    .dataframe thead th {\n",
              "        text-align: right;\n",
              "    }\n",
              "</style>\n",
              "<table border=\"1\" class=\"dataframe\">\n",
              "  <thead>\n",
              "    <tr style=\"text-align: right;\">\n",
              "      <th></th>\n",
              "      <th>Annual Income</th>\n",
              "      <th>Tax Liens</th>\n",
              "      <th>Number of Open Accounts</th>\n",
              "      <th>Years of Credit History</th>\n",
              "      <th>Maximum Open Credit</th>\n",
              "      <th>Number of Credit Problems</th>\n",
              "      <th>Months since last delinquent</th>\n",
              "      <th>Bankruptcies</th>\n",
              "      <th>Current Loan Amount</th>\n",
              "      <th>Current Credit Balance</th>\n",
              "      <th>Monthly Debt</th>\n",
              "      <th>Credit Score</th>\n",
              "      <th>Credit Default</th>\n",
              "    </tr>\n",
              "  </thead>\n",
              "  <tbody>\n",
              "    <tr>\n",
              "      <th>count</th>\n",
              "      <td>5.943000e+03</td>\n",
              "      <td>7500.000000</td>\n",
              "      <td>7500.000000</td>\n",
              "      <td>7500.000000</td>\n",
              "      <td>7.500000e+03</td>\n",
              "      <td>7500.000000</td>\n",
              "      <td>3419.000000</td>\n",
              "      <td>7486.000000</td>\n",
              "      <td>7.500000e+03</td>\n",
              "      <td>7.500000e+03</td>\n",
              "      <td>7500.000000</td>\n",
              "      <td>5943.000000</td>\n",
              "      <td>7500.000000</td>\n",
              "    </tr>\n",
              "    <tr>\n",
              "      <th>mean</th>\n",
              "      <td>1.366392e+06</td>\n",
              "      <td>0.030133</td>\n",
              "      <td>11.130933</td>\n",
              "      <td>18.317467</td>\n",
              "      <td>9.451537e+05</td>\n",
              "      <td>0.170000</td>\n",
              "      <td>34.692600</td>\n",
              "      <td>0.117152</td>\n",
              "      <td>1.187318e+07</td>\n",
              "      <td>2.898332e+05</td>\n",
              "      <td>18314.454133</td>\n",
              "      <td>1151.087498</td>\n",
              "      <td>0.281733</td>\n",
              "    </tr>\n",
              "    <tr>\n",
              "      <th>std</th>\n",
              "      <td>8.453392e+05</td>\n",
              "      <td>0.271604</td>\n",
              "      <td>4.908924</td>\n",
              "      <td>7.041946</td>\n",
              "      <td>1.602622e+07</td>\n",
              "      <td>0.498598</td>\n",
              "      <td>21.688806</td>\n",
              "      <td>0.347192</td>\n",
              "      <td>3.192612e+07</td>\n",
              "      <td>3.178714e+05</td>\n",
              "      <td>11926.764673</td>\n",
              "      <td>1604.451418</td>\n",
              "      <td>0.449874</td>\n",
              "    </tr>\n",
              "    <tr>\n",
              "      <th>min</th>\n",
              "      <td>1.645970e+05</td>\n",
              "      <td>0.000000</td>\n",
              "      <td>2.000000</td>\n",
              "      <td>4.000000</td>\n",
              "      <td>0.000000e+00</td>\n",
              "      <td>0.000000</td>\n",
              "      <td>0.000000</td>\n",
              "      <td>0.000000</td>\n",
              "      <td>1.124200e+04</td>\n",
              "      <td>0.000000e+00</td>\n",
              "      <td>0.000000</td>\n",
              "      <td>585.000000</td>\n",
              "      <td>0.000000</td>\n",
              "    </tr>\n",
              "    <tr>\n",
              "      <th>25%</th>\n",
              "      <td>8.443410e+05</td>\n",
              "      <td>0.000000</td>\n",
              "      <td>8.000000</td>\n",
              "      <td>13.500000</td>\n",
              "      <td>2.792295e+05</td>\n",
              "      <td>0.000000</td>\n",
              "      <td>16.000000</td>\n",
              "      <td>0.000000</td>\n",
              "      <td>1.801690e+05</td>\n",
              "      <td>1.142565e+05</td>\n",
              "      <td>10067.500000</td>\n",
              "      <td>711.000000</td>\n",
              "      <td>0.000000</td>\n",
              "    </tr>\n",
              "    <tr>\n",
              "      <th>50%</th>\n",
              "      <td>1.168386e+06</td>\n",
              "      <td>0.000000</td>\n",
              "      <td>10.000000</td>\n",
              "      <td>17.000000</td>\n",
              "      <td>4.781590e+05</td>\n",
              "      <td>0.000000</td>\n",
              "      <td>32.000000</td>\n",
              "      <td>0.000000</td>\n",
              "      <td>3.095730e+05</td>\n",
              "      <td>2.093230e+05</td>\n",
              "      <td>16076.500000</td>\n",
              "      <td>731.000000</td>\n",
              "      <td>0.000000</td>\n",
              "    </tr>\n",
              "    <tr>\n",
              "      <th>75%</th>\n",
              "      <td>1.640137e+06</td>\n",
              "      <td>0.000000</td>\n",
              "      <td>14.000000</td>\n",
              "      <td>21.800000</td>\n",
              "      <td>7.935015e+05</td>\n",
              "      <td>0.000000</td>\n",
              "      <td>50.000000</td>\n",
              "      <td>0.000000</td>\n",
              "      <td>5.198820e+05</td>\n",
              "      <td>3.604062e+05</td>\n",
              "      <td>23818.000000</td>\n",
              "      <td>743.000000</td>\n",
              "      <td>1.000000</td>\n",
              "    </tr>\n",
              "    <tr>\n",
              "      <th>max</th>\n",
              "      <td>1.014934e+07</td>\n",
              "      <td>7.000000</td>\n",
              "      <td>43.000000</td>\n",
              "      <td>57.700000</td>\n",
              "      <td>1.304726e+09</td>\n",
              "      <td>7.000000</td>\n",
              "      <td>118.000000</td>\n",
              "      <td>4.000000</td>\n",
              "      <td>1.000000e+08</td>\n",
              "      <td>6.506797e+06</td>\n",
              "      <td>136679.000000</td>\n",
              "      <td>7510.000000</td>\n",
              "      <td>1.000000</td>\n",
              "    </tr>\n",
              "  </tbody>\n",
              "</table>\n",
              "</div>\n",
              "      <button class=\"colab-df-convert\" onclick=\"convertToInteractive('df-85929481-9a77-494b-a0c7-67722bc4bf52')\"\n",
              "              title=\"Convert this dataframe to an interactive table.\"\n",
              "              style=\"display:none;\">\n",
              "        \n",
              "  <svg xmlns=\"http://www.w3.org/2000/svg\" height=\"24px\"viewBox=\"0 0 24 24\"\n",
              "       width=\"24px\">\n",
              "    <path d=\"M0 0h24v24H0V0z\" fill=\"none\"/>\n",
              "    <path d=\"M18.56 5.44l.94 2.06.94-2.06 2.06-.94-2.06-.94-.94-2.06-.94 2.06-2.06.94zm-11 1L8.5 8.5l.94-2.06 2.06-.94-2.06-.94L8.5 2.5l-.94 2.06-2.06.94zm10 10l.94 2.06.94-2.06 2.06-.94-2.06-.94-.94-2.06-.94 2.06-2.06.94z\"/><path d=\"M17.41 7.96l-1.37-1.37c-.4-.4-.92-.59-1.43-.59-.52 0-1.04.2-1.43.59L10.3 9.45l-7.72 7.72c-.78.78-.78 2.05 0 2.83L4 21.41c.39.39.9.59 1.41.59.51 0 1.02-.2 1.41-.59l7.78-7.78 2.81-2.81c.8-.78.8-2.07 0-2.86zM5.41 20L4 18.59l7.72-7.72 1.47 1.35L5.41 20z\"/>\n",
              "  </svg>\n",
              "      </button>\n",
              "      \n",
              "  <style>\n",
              "    .colab-df-container {\n",
              "      display:flex;\n",
              "      flex-wrap:wrap;\n",
              "      gap: 12px;\n",
              "    }\n",
              "\n",
              "    .colab-df-convert {\n",
              "      background-color: #E8F0FE;\n",
              "      border: none;\n",
              "      border-radius: 50%;\n",
              "      cursor: pointer;\n",
              "      display: none;\n",
              "      fill: #1967D2;\n",
              "      height: 32px;\n",
              "      padding: 0 0 0 0;\n",
              "      width: 32px;\n",
              "    }\n",
              "\n",
              "    .colab-df-convert:hover {\n",
              "      background-color: #E2EBFA;\n",
              "      box-shadow: 0px 1px 2px rgba(60, 64, 67, 0.3), 0px 1px 3px 1px rgba(60, 64, 67, 0.15);\n",
              "      fill: #174EA6;\n",
              "    }\n",
              "\n",
              "    [theme=dark] .colab-df-convert {\n",
              "      background-color: #3B4455;\n",
              "      fill: #D2E3FC;\n",
              "    }\n",
              "\n",
              "    [theme=dark] .colab-df-convert:hover {\n",
              "      background-color: #434B5C;\n",
              "      box-shadow: 0px 1px 3px 1px rgba(0, 0, 0, 0.15);\n",
              "      filter: drop-shadow(0px 1px 2px rgba(0, 0, 0, 0.3));\n",
              "      fill: #FFFFFF;\n",
              "    }\n",
              "  </style>\n",
              "\n",
              "      <script>\n",
              "        const buttonEl =\n",
              "          document.querySelector('#df-85929481-9a77-494b-a0c7-67722bc4bf52 button.colab-df-convert');\n",
              "        buttonEl.style.display =\n",
              "          google.colab.kernel.accessAllowed ? 'block' : 'none';\n",
              "\n",
              "        async function convertToInteractive(key) {\n",
              "          const element = document.querySelector('#df-85929481-9a77-494b-a0c7-67722bc4bf52');\n",
              "          const dataTable =\n",
              "            await google.colab.kernel.invokeFunction('convertToInteractive',\n",
              "                                                     [key], {});\n",
              "          if (!dataTable) return;\n",
              "\n",
              "          const docLinkHtml = 'Like what you see? Visit the ' +\n",
              "            '<a target=\"_blank\" href=https://colab.research.google.com/notebooks/data_table.ipynb>data table notebook</a>'\n",
              "            + ' to learn more about interactive tables.';\n",
              "          element.innerHTML = '';\n",
              "          dataTable['output_type'] = 'display_data';\n",
              "          await google.colab.output.renderOutput(dataTable, element);\n",
              "          const docLink = document.createElement('div');\n",
              "          docLink.innerHTML = docLinkHtml;\n",
              "          element.appendChild(docLink);\n",
              "        }\n",
              "      </script>\n",
              "    </div>\n",
              "  </div>\n",
              "  "
            ]
          },
          "metadata": {},
          "execution_count": 13
        }
      ]
    },
    {
      "cell_type": "code",
      "source": [
        "corelation = df_train.corr()"
      ],
      "metadata": {
        "id": "KeYLNU9l1WRD"
      },
      "execution_count": null,
      "outputs": []
    },
    {
      "cell_type": "code",
      "source": [
        "fig, ax = plt.subplots(figsize=(15,15)) \n",
        "sns.heatmap(corelation, xticklabels=corelation.columns, yticklabels=corelation.columns, annot=True, ax=ax)"
      ],
      "metadata": {
        "colab": {
          "base_uri": "https://localhost:8080/"
        },
        "id": "yTSJjsS21e9x",
        "outputId": "4147e9c0-70f5-49c8-b1d5-0ca47b22cfc5"
      },
      "execution_count": null,
      "outputs": [
        {
          "output_type": "execute_result",
          "data": {
            "text/plain": [
              "<matplotlib.axes._subplots.AxesSubplot at 0x7f9fa7869f10>"
            ]
          },
          "metadata": {},
          "execution_count": 15
        },
        {
          "output_type": "display_data",
          "data": {
            "text/plain": [
              "<Figure size 1080x1080 with 2 Axes>"
            ],
            "image/png": "[encoded data removed]"
          },
          "metadata": {
            "needs_background": "light"
          }
        }
      ]
    },
    {
      "cell_type": "markdown",
      "source": [
        "*В таблице представлены коэффициенты корреляции Пирсона между количественными переменными*"
      ],
      "metadata": {
        "id": "NITx70d825Qr"
      }
    },
    {
      "cell_type": "markdown",
      "source": [
        "###**Качественные переменные**"
      ],
      "metadata": {
        "id": "vIZicyfJ3D37"
      }
    },
    {
      "cell_type": "code",
      "source": [
        "df_train.select_dtypes(include='object').columns.tolist()"
      ],
      "metadata": {
        "colab": {
          "base_uri": "https://localhost:8080/"
        },
        "id": "BTPw7jTc2amp",
        "outputId": "0a1871c9-8385-475b-d68c-43c8be2c3d9d"
      },
      "execution_count": null,
      "outputs": [
        {
          "output_type": "execute_result",
          "data": {
            "text/plain": [
              "['Home Ownership', 'Years in current job', 'Purpose', 'Term']"
            ]
          },
          "metadata": {},
          "execution_count": 16
        }
      ]
    },
    {
      "cell_type": "code",
      "source": [
        "df_train['Home Ownership'].value_counts().reset_index()"
      ],
      "metadata": {
        "colab": {
          "base_uri": "https://localhost:8080/"
        },
        "id": "HkhNabzG3UtR",
        "outputId": "50822416-f923-4967-9568-82f70e266105"
      },
      "execution_count": null,
      "outputs": [
        {
          "output_type": "execute_result",
          "data": {
            "text/plain": [
              "           index  Home Ownership\n",
              "0  Home Mortgage            3637\n",
              "1           Rent            3204\n",
              "2       Own Home             647\n",
              "3  Have Mortgage              12"
            ],
            "text/html": [
              "\n",
              "  <div id=\"df-a67eadf5-5683-4db5-8352-1338e6542c45\">\n",
              "    <div class=\"colab-df-container\">\n",
              "      <div>\n",
              "<style scoped>\n",
              "    .dataframe tbody tr th:only-of-type {\n",
              "        vertical-align: middle;\n",
              "    }\n",
              "\n",
              "    .dataframe tbody tr th {\n",
              "        vertical-align: top;\n",
              "    }\n",
              "\n",
              "    .dataframe thead th {\n",
              "        text-align: right;\n",
              "    }\n",
              "</style>\n",
              "<table border=\"1\" class=\"dataframe\">\n",
              "  <thead>\n",
              "    <tr style=\"text-align: right;\">\n",
              "      <th></th>\n",
              "      <th>index</th>\n",
              "      <th>Home Ownership</th>\n",
              "    </tr>\n",
              "  </thead>\n",
              "  <tbody>\n",
              "    <tr>\n",
              "      <th>0</th>\n",
              "      <td>Home Mortgage</td>\n",
              "      <td>3637</td>\n",
              "    </tr>\n",
              "    <tr>\n",
              "      <th>1</th>\n",
              "      <td>Rent</td>\n",
              "      <td>3204</td>\n",
              "    </tr>\n",
              "    <tr>\n",
              "      <th>2</th>\n",
              "      <td>Own Home</td>\n",
              "      <td>647</td>\n",
              "    </tr>\n",
              "    <tr>\n",
              "      <th>3</th>\n",
              "      <td>Have Mortgage</td>\n",
              "      <td>12</td>\n",
              "    </tr>\n",
              "  </tbody>\n",
              "</table>\n",
              "</div>\n",
              "      <button class=\"colab-df-convert\" onclick=\"convertToInteractive('df-a67eadf5-5683-4db5-8352-1338e6542c45')\"\n",
              "              title=\"Convert this dataframe to an interactive table.\"\n",
              "              style=\"display:none;\">\n",
              "        \n",
              "  <svg xmlns=\"http://www.w3.org/2000/svg\" height=\"24px\"viewBox=\"0 0 24 24\"\n",
              "       width=\"24px\">\n",
              "    <path d=\"M0 0h24v24H0V0z\" fill=\"none\"/>\n",
              "    <path d=\"M18.56 5.44l.94 2.06.94-2.06 2.06-.94-2.06-.94-.94-2.06-.94 2.06-2.06.94zm-11 1L8.5 8.5l.94-2.06 2.06-.94-2.06-.94L8.5 2.5l-.94 2.06-2.06.94zm10 10l.94 2.06.94-2.06 2.06-.94-2.06-.94-.94-2.06-.94 2.06-2.06.94z\"/><path d=\"M17.41 7.96l-1.37-1.37c-.4-.4-.92-.59-1.43-.59-.52 0-1.04.2-1.43.59L10.3 9.45l-7.72 7.72c-.78.78-.78 2.05 0 2.83L4 21.41c.39.39.9.59 1.41.59.51 0 1.02-.2 1.41-.59l7.78-7.78 2.81-2.81c.8-.78.8-2.07 0-2.86zM5.41 20L4 18.59l7.72-7.72 1.47 1.35L5.41 20z\"/>\n",
              "  </svg>\n",
              "      </button>\n",
              "      \n",
              "  <style>\n",
              "    .colab-df-container {\n",
              "      display:flex;\n",
              "      flex-wrap:wrap;\n",
              "      gap: 12px;\n",
              "    }\n",
              "\n",
              "    .colab-df-convert {\n",
              "      background-color: #E8F0FE;\n",
              "      border: none;\n",
              "      border-radius: 50%;\n",
              "      cursor: pointer;\n",
              "      display: none;\n",
              "      fill: #1967D2;\n",
              "      height: 32px;\n",
              "      padding: 0 0 0 0;\n",
              "      width: 32px;\n",
              "    }\n",
              "\n",
              "    .colab-df-convert:hover {\n",
              "      background-color: #E2EBFA;\n",
              "      box-shadow: 0px 1px 2px rgba(60, 64, 67, 0.3), 0px 1px 3px 1px rgba(60, 64, 67, 0.15);\n",
              "      fill: #174EA6;\n",
              "    }\n",
              "\n",
              "    [theme=dark] .colab-df-convert {\n",
              "      background-color: #3B4455;\n",
              "      fill: #D2E3FC;\n",
              "    }\n",
              "\n",
              "    [theme=dark] .colab-df-convert:hover {\n",
              "      background-color: #434B5C;\n",
              "      box-shadow: 0px 1px 3px 1px rgba(0, 0, 0, 0.15);\n",
              "      filter: drop-shadow(0px 1px 2px rgba(0, 0, 0, 0.3));\n",
              "      fill: #FFFFFF;\n",
              "    }\n",
              "  </style>\n",
              "\n",
              "      <script>\n",
              "        const buttonEl =\n",
              "          document.querySelector('#df-a67eadf5-5683-4db5-8352-1338e6542c45 button.colab-df-convert');\n",
              "        buttonEl.style.display =\n",
              "          google.colab.kernel.accessAllowed ? 'block' : 'none';\n",
              "\n",
              "        async function convertToInteractive(key) {\n",
              "          const element = document.querySelector('#df-a67eadf5-5683-4db5-8352-1338e6542c45');\n",
              "          const dataTable =\n",
              "            await google.colab.kernel.invokeFunction('convertToInteractive',\n",
              "                                                     [key], {});\n",
              "          if (!dataTable) return;\n",
              "\n",
              "          const docLinkHtml = 'Like what you see? Visit the ' +\n",
              "            '<a target=\"_blank\" href=https://colab.research.google.com/notebooks/data_table.ipynb>data table notebook</a>'\n",
              "            + ' to learn more about interactive tables.';\n",
              "          element.innerHTML = '';\n",
              "          dataTable['output_type'] = 'display_data';\n",
              "          await google.colab.output.renderOutput(dataTable, element);\n",
              "          const docLink = document.createElement('div');\n",
              "          docLink.innerHTML = docLinkHtml;\n",
              "          element.appendChild(docLink);\n",
              "        }\n",
              "      </script>\n",
              "    </div>\n",
              "  </div>\n",
              "  "
            ]
          },
          "metadata": {},
          "execution_count": 17
        }
      ]
    },
    {
      "cell_type": "code",
      "source": [
        "df_train['Years in current job'].value_counts().reset_index()"
      ],
      "metadata": {
        "colab": {
          "base_uri": "https://localhost:8080/"
        },
        "id": "DWs1Xt9X3mOA",
        "outputId": "a5abf3eb-1827-4df2-9d69-8ec23bf60cb1"
      },
      "execution_count": null,
      "outputs": [
        {
          "output_type": "execute_result",
          "data": {
            "text/plain": [
              "        index  Years in current job\n",
              "0   10+ years                  2332\n",
              "1     2 years                   705\n",
              "2     3 years                   620\n",
              "3    < 1 year                   563\n",
              "4     5 years                   516\n",
              "5      1 year                   504\n",
              "6     4 years                   469\n",
              "7     6 years                   426\n",
              "8     7 years                   396\n",
              "9     8 years                   339\n",
              "10    9 years                   259"
            ],
            "text/html": [
              "\n",
              "  <div id=\"df-3e2f84a3-8381-4e55-84b9-363102660fa4\">\n",
              "    <div class=\"colab-df-container\">\n",
              "      <div>\n",
              "<style scoped>\n",
              "    .dataframe tbody tr th:only-of-type {\n",
              "        vertical-align: middle;\n",
              "    }\n",
              "\n",
              "    .dataframe tbody tr th {\n",
              "        vertical-align: top;\n",
              "    }\n",
              "\n",
              "    .dataframe thead th {\n",
              "        text-align: right;\n",
              "    }\n",
              "</style>\n",
              "<table border=\"1\" class=\"dataframe\">\n",
              "  <thead>\n",
              "    <tr style=\"text-align: right;\">\n",
              "      <th></th>\n",
              "      <th>index</th>\n",
              "      <th>Years in current job</th>\n",
              "    </tr>\n",
              "  </thead>\n",
              "  <tbody>\n",
              "    <tr>\n",
              "      <th>0</th>\n",
              "      <td>10+ years</td>\n",
              "      <td>2332</td>\n",
              "    </tr>\n",
              "    <tr>\n",
              "      <th>1</th>\n",
              "      <td>2 years</td>\n",
              "      <td>705</td>\n",
              "    </tr>\n",
              "    <tr>\n",
              "      <th>2</th>\n",
              "      <td>3 years</td>\n",
              "      <td>620</td>\n",
              "    </tr>\n",
              "    <tr>\n",
              "      <th>3</th>\n",
              "      <td>&lt; 1 year</td>\n",
              "      <td>563</td>\n",
              "    </tr>\n",
              "    <tr>\n",
              "      <th>4</th>\n",
              "      <td>5 years</td>\n",
              "      <td>516</td>\n",
              "    </tr>\n",
              "    <tr>\n",
              "      <th>5</th>\n",
              "      <td>1 year</td>\n",
              "      <td>504</td>\n",
              "    </tr>\n",
              "    <tr>\n",
              "      <th>6</th>\n",
              "      <td>4 years</td>\n",
              "      <td>469</td>\n",
              "    </tr>\n",
              "    <tr>\n",
              "      <th>7</th>\n",
              "      <td>6 years</td>\n",
              "      <td>426</td>\n",
              "    </tr>\n",
              "    <tr>\n",
              "      <th>8</th>\n",
              "      <td>7 years</td>\n",
              "      <td>396</td>\n",
              "    </tr>\n",
              "    <tr>\n",
              "      <th>9</th>\n",
              "      <td>8 years</td>\n",
              "      <td>339</td>\n",
              "    </tr>\n",
              "    <tr>\n",
              "      <th>10</th>\n",
              "      <td>9 years</td>\n",
              "      <td>259</td>\n",
              "    </tr>\n",
              "  </tbody>\n",
              "</table>\n",
              "</div>\n",
              "      <button class=\"colab-df-convert\" onclick=\"convertToInteractive('df-3e2f84a3-8381-4e55-84b9-363102660fa4')\"\n",
              "              title=\"Convert this dataframe to an interactive table.\"\n",
              "              style=\"display:none;\">\n",
              "        \n",
              "  <svg xmlns=\"http://www.w3.org/2000/svg\" height=\"24px\"viewBox=\"0 0 24 24\"\n",
              "       width=\"24px\">\n",
              "    <path d=\"M0 0h24v24H0V0z\" fill=\"none\"/>\n",
              "    <path d=\"M18.56 5.44l.94 2.06.94-2.06 2.06-.94-2.06-.94-.94-2.06-.94 2.06-2.06.94zm-11 1L8.5 8.5l.94-2.06 2.06-.94-2.06-.94L8.5 2.5l-.94 2.06-2.06.94zm10 10l.94 2.06.94-2.06 2.06-.94-2.06-.94-.94-2.06-.94 2.06-2.06.94z\"/><path d=\"M17.41 7.96l-1.37-1.37c-.4-.4-.92-.59-1.43-.59-.52 0-1.04.2-1.43.59L10.3 9.45l-7.72 7.72c-.78.78-.78 2.05 0 2.83L4 21.41c.39.39.9.59 1.41.59.51 0 1.02-.2 1.41-.59l7.78-7.78 2.81-2.81c.8-.78.8-2.07 0-2.86zM5.41 20L4 18.59l7.72-7.72 1.47 1.35L5.41 20z\"/>\n",
              "  </svg>\n",
              "      </button>\n",
              "      \n",
              "  <style>\n",
              "    .colab-df-container {\n",
              "      display:flex;\n",
              "      flex-wrap:wrap;\n",
              "      gap: 12px;\n",
              "    }\n",
              "\n",
              "    .colab-df-convert {\n",
              "      background-color: #E8F0FE;\n",
              "      border: none;\n",
              "      border-radius: 50%;\n",
              "      cursor: pointer;\n",
              "      display: none;\n",
              "      fill: #1967D2;\n",
              "      height: 32px;\n",
              "      padding: 0 0 0 0;\n",
              "      width: 32px;\n",
              "    }\n",
              "\n",
              "    .colab-df-convert:hover {\n",
              "      background-color: #E2EBFA;\n",
              "      box-shadow: 0px 1px 2px rgba(60, 64, 67, 0.3), 0px 1px 3px 1px rgba(60, 64, 67, 0.15);\n",
              "      fill: #174EA6;\n",
              "    }\n",
              "\n",
              "    [theme=dark] .colab-df-convert {\n",
              "      background-color: #3B4455;\n",
              "      fill: #D2E3FC;\n",
              "    }\n",
              "\n",
              "    [theme=dark] .colab-df-convert:hover {\n",
              "      background-color: #434B5C;\n",
              "      box-shadow: 0px 1px 3px 1px rgba(0, 0, 0, 0.15);\n",
              "      filter: drop-shadow(0px 1px 2px rgba(0, 0, 0, 0.3));\n",
              "      fill: #FFFFFF;\n",
              "    }\n",
              "  </style>\n",
              "\n",
              "      <script>\n",
              "        const buttonEl =\n",
              "          document.querySelector('#df-3e2f84a3-8381-4e55-84b9-363102660fa4 button.colab-df-convert');\n",
              "        buttonEl.style.display =\n",
              "          google.colab.kernel.accessAllowed ? 'block' : 'none';\n",
              "\n",
              "        async function convertToInteractive(key) {\n",
              "          const element = document.querySelector('#df-3e2f84a3-8381-4e55-84b9-363102660fa4');\n",
              "          const dataTable =\n",
              "            await google.colab.kernel.invokeFunction('convertToInteractive',\n",
              "                                                     [key], {});\n",
              "          if (!dataTable) return;\n",
              "\n",
              "          const docLinkHtml = 'Like what you see? Visit the ' +\n",
              "            '<a target=\"_blank\" href=https://colab.research.google.com/notebooks/data_table.ipynb>data table notebook</a>'\n",
              "            + ' to learn more about interactive tables.';\n",
              "          element.innerHTML = '';\n",
              "          dataTable['output_type'] = 'display_data';\n",
              "          await google.colab.output.renderOutput(dataTable, element);\n",
              "          const docLink = document.createElement('div');\n",
              "          docLink.innerHTML = docLinkHtml;\n",
              "          element.appendChild(docLink);\n",
              "        }\n",
              "      </script>\n",
              "    </div>\n",
              "  </div>\n",
              "  "
            ]
          },
          "metadata": {},
          "execution_count": 18
        }
      ]
    },
    {
      "cell_type": "code",
      "source": [
        "df_train['Purpose'].value_counts().reset_index()"
      ],
      "metadata": {
        "colab": {
          "base_uri": "https://localhost:8080/"
        },
        "id": "1T-_r44F3ugh",
        "outputId": "842cf8c4-291e-4097-af77-451bc70900e5"
      },
      "execution_count": null,
      "outputs": [
        {
          "output_type": "execute_result",
          "data": {
            "text/plain": [
              "                   index  Purpose\n",
              "0     debt consolidation     5944\n",
              "1                  other      665\n",
              "2      home improvements      412\n",
              "3          business loan      129\n",
              "4              buy a car       96\n",
              "5          medical bills       71\n",
              "6         major purchase       40\n",
              "7            take a trip       37\n",
              "8              buy house       34\n",
              "9         small business       26\n",
              "10               wedding       15\n",
              "11                moving       11\n",
              "12  educational expenses       10\n",
              "13              vacation        8\n",
              "14      renewable energy        2"
            ],
            "text/html": [
              "\n",
              "  <div id=\"df-bbf8eec8-e3e6-4610-9957-6977b1f359e2\">\n",
              "    <div class=\"colab-df-container\">\n",
              "      <div>\n",
              "<style scoped>\n",
              "    .dataframe tbody tr th:only-of-type {\n",
              "        vertical-align: middle;\n",
              "    }\n",
              "\n",
              "    .dataframe tbody tr th {\n",
              "        vertical-align: top;\n",
              "    }\n",
              "\n",
              "    .dataframe thead th {\n",
              "        text-align: right;\n",
              "    }\n",
              "</style>\n",
              "<table border=\"1\" class=\"dataframe\">\n",
              "  <thead>\n",
              "    <tr style=\"text-align: right;\">\n",
              "      <th></th>\n",
              "      <th>index</th>\n",
              "      <th>Purpose</th>\n",
              "    </tr>\n",
              "  </thead>\n",
              "  <tbody>\n",
              "    <tr>\n",
              "      <th>0</th>\n",
              "      <td>debt consolidation</td>\n",
              "      <td>5944</td>\n",
              "    </tr>\n",
              "    <tr>\n",
              "      <th>1</th>\n",
              "      <td>other</td>\n",
              "      <td>665</td>\n",
              "    </tr>\n",
              "    <tr>\n",
              "      <th>2</th>\n",
              "      <td>home improvements</td>\n",
              "      <td>412</td>\n",
              "    </tr>\n",
              "    <tr>\n",
              "      <th>3</th>\n",
              "      <td>business loan</td>\n",
              "      <td>129</td>\n",
              "    </tr>\n",
              "    <tr>\n",
              "      <th>4</th>\n",
              "      <td>buy a car</td>\n",
              "      <td>96</td>\n",
              "    </tr>\n",
              "    <tr>\n",
              "      <th>5</th>\n",
              "      <td>medical bills</td>\n",
              "      <td>71</td>\n",
              "    </tr>\n",
              "    <tr>\n",
              "      <th>6</th>\n",
              "      <td>major purchase</td>\n",
              "      <td>40</td>\n",
              "    </tr>\n",
              "    <tr>\n",
              "      <th>7</th>\n",
              "      <td>take a trip</td>\n",
              "      <td>37</td>\n",
              "    </tr>\n",
              "    <tr>\n",
              "      <th>8</th>\n",
              "      <td>buy house</td>\n",
              "      <td>34</td>\n",
              "    </tr>\n",
              "    <tr>\n",
              "      <th>9</th>\n",
              "      <td>small business</td>\n",
              "      <td>26</td>\n",
              "    </tr>\n",
              "    <tr>\n",
              "      <th>10</th>\n",
              "      <td>wedding</td>\n",
              "      <td>15</td>\n",
              "    </tr>\n",
              "    <tr>\n",
              "      <th>11</th>\n",
              "      <td>moving</td>\n",
              "      <td>11</td>\n",
              "    </tr>\n",
              "    <tr>\n",
              "      <th>12</th>\n",
              "      <td>educational expenses</td>\n",
              "      <td>10</td>\n",
              "    </tr>\n",
              "    <tr>\n",
              "      <th>13</th>\n",
              "      <td>vacation</td>\n",
              "      <td>8</td>\n",
              "    </tr>\n",
              "    <tr>\n",
              "      <th>14</th>\n",
              "      <td>renewable energy</td>\n",
              "      <td>2</td>\n",
              "    </tr>\n",
              "  </tbody>\n",
              "</table>\n",
              "</div>\n",
              "      <button class=\"colab-df-convert\" onclick=\"convertToInteractive('df-bbf8eec8-e3e6-4610-9957-6977b1f359e2')\"\n",
              "              title=\"Convert this dataframe to an interactive table.\"\n",
              "              style=\"display:none;\">\n",
              "        \n",
              "  <svg xmlns=\"http://www.w3.org/2000/svg\" height=\"24px\"viewBox=\"0 0 24 24\"\n",
              "       width=\"24px\">\n",
              "    <path d=\"M0 0h24v24H0V0z\" fill=\"none\"/>\n",
              "    <path d=\"M18.56 5.44l.94 2.06.94-2.06 2.06-.94-2.06-.94-.94-2.06-.94 2.06-2.06.94zm-11 1L8.5 8.5l.94-2.06 2.06-.94-2.06-.94L8.5 2.5l-.94 2.06-2.06.94zm10 10l.94 2.06.94-2.06 2.06-.94-2.06-.94-.94-2.06-.94 2.06-2.06.94z\"/><path d=\"M17.41 7.96l-1.37-1.37c-.4-.4-.92-.59-1.43-.59-.52 0-1.04.2-1.43.59L10.3 9.45l-7.72 7.72c-.78.78-.78 2.05 0 2.83L4 21.41c.39.39.9.59 1.41.59.51 0 1.02-.2 1.41-.59l7.78-7.78 2.81-2.81c.8-.78.8-2.07 0-2.86zM5.41 20L4 18.59l7.72-7.72 1.47 1.35L5.41 20z\"/>\n",
              "  </svg>\n",
              "      </button>\n",
              "      \n",
              "  <style>\n",
              "    .colab-df-container {\n",
              "      display:flex;\n",
              "      flex-wrap:wrap;\n",
              "      gap: 12px;\n",
              "    }\n",
              "\n",
              "    .colab-df-convert {\n",
              "      background-color: #E8F0FE;\n",
              "      border: none;\n",
              "      border-radius: 50%;\n",
              "      cursor: pointer;\n",
              "      display: none;\n",
              "      fill: #1967D2;\n",
              "      height: 32px;\n",
              "      padding: 0 0 0 0;\n",
              "      width: 32px;\n",
              "    }\n",
              "\n",
              "    .colab-df-convert:hover {\n",
              "      background-color: #E2EBFA;\n",
              "      box-shadow: 0px 1px 2px rgba(60, 64, 67, 0.3), 0px 1px 3px 1px rgba(60, 64, 67, 0.15);\n",
              "      fill: #174EA6;\n",
              "    }\n",
              "\n",
              "    [theme=dark] .colab-df-convert {\n",
              "      background-color: #3B4455;\n",
              "      fill: #D2E3FC;\n",
              "    }\n",
              "\n",
              "    [theme=dark] .colab-df-convert:hover {\n",
              "      background-color: #434B5C;\n",
              "      box-shadow: 0px 1px 3px 1px rgba(0, 0, 0, 0.15);\n",
              "      filter: drop-shadow(0px 1px 2px rgba(0, 0, 0, 0.3));\n",
              "      fill: #FFFFFF;\n",
              "    }\n",
              "  </style>\n",
              "\n",
              "      <script>\n",
              "        const buttonEl =\n",
              "          document.querySelector('#df-bbf8eec8-e3e6-4610-9957-6977b1f359e2 button.colab-df-convert');\n",
              "        buttonEl.style.display =\n",
              "          google.colab.kernel.accessAllowed ? 'block' : 'none';\n",
              "\n",
              "        async function convertToInteractive(key) {\n",
              "          const element = document.querySelector('#df-bbf8eec8-e3e6-4610-9957-6977b1f359e2');\n",
              "          const dataTable =\n",
              "            await google.colab.kernel.invokeFunction('convertToInteractive',\n",
              "                                                     [key], {});\n",
              "          if (!dataTable) return;\n",
              "\n",
              "          const docLinkHtml = 'Like what you see? Visit the ' +\n",
              "            '<a target=\"_blank\" href=https://colab.research.google.com/notebooks/data_table.ipynb>data table notebook</a>'\n",
              "            + ' to learn more about interactive tables.';\n",
              "          element.innerHTML = '';\n",
              "          dataTable['output_type'] = 'display_data';\n",
              "          await google.colab.output.renderOutput(dataTable, element);\n",
              "          const docLink = document.createElement('div');\n",
              "          docLink.innerHTML = docLinkHtml;\n",
              "          element.appendChild(docLink);\n",
              "        }\n",
              "      </script>\n",
              "    </div>\n",
              "  </div>\n",
              "  "
            ]
          },
          "metadata": {},
          "execution_count": 19
        }
      ]
    },
    {
      "cell_type": "code",
      "source": [
        "df_train['Term'].value_counts().reset_index()"
      ],
      "metadata": {
        "colab": {
          "base_uri": "https://localhost:8080/"
        },
        "id": "zh9fIT873vVT",
        "outputId": "a3959046-c771-435d-e8a2-45deace2e8e5"
      },
      "execution_count": null,
      "outputs": [
        {
          "output_type": "execute_result",
          "data": {
            "text/plain": [
              "        index  Term\n",
              "0  Short Term  5556\n",
              "1   Long Term  1944"
            ],
            "text/html": [
              "\n",
              "  <div id=\"df-02a7c808-3082-4735-9b6d-8842eeb07799\">\n",
              "    <div class=\"colab-df-container\">\n",
              "      <div>\n",
              "<style scoped>\n",
              "    .dataframe tbody tr th:only-of-type {\n",
              "        vertical-align: middle;\n",
              "    }\n",
              "\n",
              "    .dataframe tbody tr th {\n",
              "        vertical-align: top;\n",
              "    }\n",
              "\n",
              "    .dataframe thead th {\n",
              "        text-align: right;\n",
              "    }\n",
              "</style>\n",
              "<table border=\"1\" class=\"dataframe\">\n",
              "  <thead>\n",
              "    <tr style=\"text-align: right;\">\n",
              "      <th></th>\n",
              "      <th>index</th>\n",
              "      <th>Term</th>\n",
              "    </tr>\n",
              "  </thead>\n",
              "  <tbody>\n",
              "    <tr>\n",
              "      <th>0</th>\n",
              "      <td>Short Term</td>\n",
              "      <td>5556</td>\n",
              "    </tr>\n",
              "    <tr>\n",
              "      <th>1</th>\n",
              "      <td>Long Term</td>\n",
              "      <td>1944</td>\n",
              "    </tr>\n",
              "  </tbody>\n",
              "</table>\n",
              "</div>\n",
              "      <button class=\"colab-df-convert\" onclick=\"convertToInteractive('df-02a7c808-3082-4735-9b6d-8842eeb07799')\"\n",
              "              title=\"Convert this dataframe to an interactive table.\"\n",
              "              style=\"display:none;\">\n",
              "        \n",
              "  <svg xmlns=\"http://www.w3.org/2000/svg\" height=\"24px\"viewBox=\"0 0 24 24\"\n",
              "       width=\"24px\">\n",
              "    <path d=\"M0 0h24v24H0V0z\" fill=\"none\"/>\n",
              "    <path d=\"M18.56 5.44l.94 2.06.94-2.06 2.06-.94-2.06-.94-.94-2.06-.94 2.06-2.06.94zm-11 1L8.5 8.5l.94-2.06 2.06-.94-2.06-.94L8.5 2.5l-.94 2.06-2.06.94zm10 10l.94 2.06.94-2.06 2.06-.94-2.06-.94-.94-2.06-.94 2.06-2.06.94z\"/><path d=\"M17.41 7.96l-1.37-1.37c-.4-.4-.92-.59-1.43-.59-.52 0-1.04.2-1.43.59L10.3 9.45l-7.72 7.72c-.78.78-.78 2.05 0 2.83L4 21.41c.39.39.9.59 1.41.59.51 0 1.02-.2 1.41-.59l7.78-7.78 2.81-2.81c.8-.78.8-2.07 0-2.86zM5.41 20L4 18.59l7.72-7.72 1.47 1.35L5.41 20z\"/>\n",
              "  </svg>\n",
              "      </button>\n",
              "      \n",
              "  <style>\n",
              "    .colab-df-container {\n",
              "      display:flex;\n",
              "      flex-wrap:wrap;\n",
              "      gap: 12px;\n",
              "    }\n",
              "\n",
              "    .colab-df-convert {\n",
              "      background-color: #E8F0FE;\n",
              "      border: none;\n",
              "      border-radius: 50%;\n",
              "      cursor: pointer;\n",
              "      display: none;\n",
              "      fill: #1967D2;\n",
              "      height: 32px;\n",
              "      padding: 0 0 0 0;\n",
              "      width: 32px;\n",
              "    }\n",
              "\n",
              "    .colab-df-convert:hover {\n",
              "      background-color: #E2EBFA;\n",
              "      box-shadow: 0px 1px 2px rgba(60, 64, 67, 0.3), 0px 1px 3px 1px rgba(60, 64, 67, 0.15);\n",
              "      fill: #174EA6;\n",
              "    }\n",
              "\n",
              "    [theme=dark] .colab-df-convert {\n",
              "      background-color: #3B4455;\n",
              "      fill: #D2E3FC;\n",
              "    }\n",
              "\n",
              "    [theme=dark] .colab-df-convert:hover {\n",
              "      background-color: #434B5C;\n",
              "      box-shadow: 0px 1px 3px 1px rgba(0, 0, 0, 0.15);\n",
              "      filter: drop-shadow(0px 1px 2px rgba(0, 0, 0, 0.3));\n",
              "      fill: #FFFFFF;\n",
              "    }\n",
              "  </style>\n",
              "\n",
              "      <script>\n",
              "        const buttonEl =\n",
              "          document.querySelector('#df-02a7c808-3082-4735-9b6d-8842eeb07799 button.colab-df-convert');\n",
              "        buttonEl.style.display =\n",
              "          google.colab.kernel.accessAllowed ? 'block' : 'none';\n",
              "\n",
              "        async function convertToInteractive(key) {\n",
              "          const element = document.querySelector('#df-02a7c808-3082-4735-9b6d-8842eeb07799');\n",
              "          const dataTable =\n",
              "            await google.colab.kernel.invokeFunction('convertToInteractive',\n",
              "                                                     [key], {});\n",
              "          if (!dataTable) return;\n",
              "\n",
              "          const docLinkHtml = 'Like what you see? Visit the ' +\n",
              "            '<a target=\"_blank\" href=https://colab.research.google.com/notebooks/data_table.ipynb>data table notebook</a>'\n",
              "            + ' to learn more about interactive tables.';\n",
              "          element.innerHTML = '';\n",
              "          dataTable['output_type'] = 'display_data';\n",
              "          await google.colab.output.renderOutput(dataTable, element);\n",
              "          const docLink = document.createElement('div');\n",
              "          docLink.innerHTML = docLinkHtml;\n",
              "          element.appendChild(docLink);\n",
              "        }\n",
              "      </script>\n",
              "    </div>\n",
              "  </div>\n",
              "  "
            ]
          },
          "metadata": {},
          "execution_count": 20
        }
      ]
    },
    {
      "cell_type": "markdown",
      "source": [
        "###**Обработка выбросов**"
      ],
      "metadata": {
        "id": "Ji6mEBH_Tpci"
      }
    },
    {
      "cell_type": "markdown",
      "source": [
        "Annual Income"
      ],
      "metadata": {
        "id": "El3-i9CsT03Y"
      }
    },
    {
      "cell_type": "code",
      "source": [
        "plt.figure(figsize = (16, 8))\n",
        "\n",
        "df_train['Annual Income'].hist(bins=50)\n",
        "plt.ylabel('Число клиентов')\n",
        "plt.xlabel('Годовой доход')\n",
        "\n",
        "plt.title('Распределение признака')\n",
        "plt.show()"
      ],
      "metadata": {
        "colab": {
          "base_uri": "https://localhost:8080/"
        },
        "id": "GmNav0W8TumA",
        "outputId": "9b74c4c3-a495-4585-fb04-9591f31829b2"
      },
      "execution_count": null,
      "outputs": [
        {
          "output_type": "display_data",
          "data": {
            "text/plain": [
              "<Figure size 1152x576 with 1 Axes>"
            ],
            "image/png": "[encoded data removed]"
          },
          "metadata": {
            "needs_background": "light"
          }
        }
      ]
    },
    {
      "cell_type": "code",
      "source": [
        "df_train.loc[(df_train['Annual Income'] >= 4000000), 'Annual Income'] = df_train['Annual Income'].median()"
      ],
      "metadata": {
        "id": "4P1odlBHVjT2"
      },
      "execution_count": null,
      "outputs": []
    },
    {
      "cell_type": "code",
      "source": [
        "plt.figure(figsize = (16, 8))\n",
        "\n",
        "df_train['Annual Income'].hist(bins=50)\n",
        "plt.ylabel('Число клиентов')\n",
        "plt.xlabel('Годовой доход')\n",
        "\n",
        "plt.title('Распределение признака')\n",
        "plt.show()"
      ],
      "metadata": {
        "colab": {
          "base_uri": "https://localhost:8080/"
        },
        "id": "pLG9ut1PWvkT",
        "outputId": "496772a7-ffa3-4a31-e26a-ad59936b91cc"
      },
      "execution_count": null,
      "outputs": [
        {
          "output_type": "display_data",
          "data": {
            "text/plain": [
              "<Figure size 1152x576 with 1 Axes>"
            ],
            "image/png": "[encoded data removed]"
          },
          "metadata": {
            "needs_background": "light"
          }
        }
      ]
    },
    {
      "cell_type": "markdown",
      "source": [
        "Tax Liens"
      ],
      "metadata": {
        "id": "f-NiScb0XC4I"
      }
    },
    {
      "cell_type": "code",
      "source": [
        "df_train['Tax Liens'].value_counts().reset_index()"
      ],
      "metadata": {
        "colab": {
          "base_uri": "https://localhost:8080/"
        },
        "id": "CFNHKExrXDN9",
        "outputId": "95e0f1a3-bd5f-4918-e85e-269859fc2220"
      },
      "execution_count": null,
      "outputs": [
        {
          "output_type": "execute_result",
          "data": {
            "text/plain": [
              "   index  Tax Liens\n",
              "0    0.0       7366\n",
              "1    1.0         83\n",
              "2    2.0         30\n",
              "3    3.0         10\n",
              "4    4.0          6\n",
              "5    6.0          2\n",
              "6    5.0          2\n",
              "7    7.0          1"
            ],
            "text/html": [
              "\n",
              "  <div id=\"df-4250876a-e9d6-4923-8a8f-fff5bba9ec38\">\n",
              "    <div class=\"colab-df-container\">\n",
              "      <div>\n",
              "<style scoped>\n",
              "    .dataframe tbody tr th:only-of-type {\n",
              "        vertical-align: middle;\n",
              "    }\n",
              "\n",
              "    .dataframe tbody tr th {\n",
              "        vertical-align: top;\n",
              "    }\n",
              "\n",
              "    .dataframe thead th {\n",
              "        text-align: right;\n",
              "    }\n",
              "</style>\n",
              "<table border=\"1\" class=\"dataframe\">\n",
              "  <thead>\n",
              "    <tr style=\"text-align: right;\">\n",
              "      <th></th>\n",
              "      <th>index</th>\n",
              "      <th>Tax Liens</th>\n",
              "    </tr>\n",
              "  </thead>\n",
              "  <tbody>\n",
              "    <tr>\n",
              "      <th>0</th>\n",
              "      <td>0.0</td>\n",
              "      <td>7366</td>\n",
              "    </tr>\n",
              "    <tr>\n",
              "      <th>1</th>\n",
              "      <td>1.0</td>\n",
              "      <td>83</td>\n",
              "    </tr>\n",
              "    <tr>\n",
              "      <th>2</th>\n",
              "      <td>2.0</td>\n",
              "      <td>30</td>\n",
              "    </tr>\n",
              "    <tr>\n",
              "      <th>3</th>\n",
              "      <td>3.0</td>\n",
              "      <td>10</td>\n",
              "    </tr>\n",
              "    <tr>\n",
              "      <th>4</th>\n",
              "      <td>4.0</td>\n",
              "      <td>6</td>\n",
              "    </tr>\n",
              "    <tr>\n",
              "      <th>5</th>\n",
              "      <td>6.0</td>\n",
              "      <td>2</td>\n",
              "    </tr>\n",
              "    <tr>\n",
              "      <th>6</th>\n",
              "      <td>5.0</td>\n",
              "      <td>2</td>\n",
              "    </tr>\n",
              "    <tr>\n",
              "      <th>7</th>\n",
              "      <td>7.0</td>\n",
              "      <td>1</td>\n",
              "    </tr>\n",
              "  </tbody>\n",
              "</table>\n",
              "</div>\n",
              "      <button class=\"colab-df-convert\" onclick=\"convertToInteractive('df-4250876a-e9d6-4923-8a8f-fff5bba9ec38')\"\n",
              "              title=\"Convert this dataframe to an interactive table.\"\n",
              "              style=\"display:none;\">\n",
              "        \n",
              "  <svg xmlns=\"http://www.w3.org/2000/svg\" height=\"24px\"viewBox=\"0 0 24 24\"\n",
              "       width=\"24px\">\n",
              "    <path d=\"M0 0h24v24H0V0z\" fill=\"none\"/>\n",
              "    <path d=\"M18.56 5.44l.94 2.06.94-2.06 2.06-.94-2.06-.94-.94-2.06-.94 2.06-2.06.94zm-11 1L8.5 8.5l.94-2.06 2.06-.94-2.06-.94L8.5 2.5l-.94 2.06-2.06.94zm10 10l.94 2.06.94-2.06 2.06-.94-2.06-.94-.94-2.06-.94 2.06-2.06.94z\"/><path d=\"M17.41 7.96l-1.37-1.37c-.4-.4-.92-.59-1.43-.59-.52 0-1.04.2-1.43.59L10.3 9.45l-7.72 7.72c-.78.78-.78 2.05 0 2.83L4 21.41c.39.39.9.59 1.41.59.51 0 1.02-.2 1.41-.59l7.78-7.78 2.81-2.81c.8-.78.8-2.07 0-2.86zM5.41 20L4 18.59l7.72-7.72 1.47 1.35L5.41 20z\"/>\n",
              "  </svg>\n",
              "      </button>\n",
              "      \n",
              "  <style>\n",
              "    .colab-df-container {\n",
              "      display:flex;\n",
              "      flex-wrap:wrap;\n",
              "      gap: 12px;\n",
              "    }\n",
              "\n",
              "    .colab-df-convert {\n",
              "      background-color: #E8F0FE;\n",
              "      border: none;\n",
              "      border-radius: 50%;\n",
              "      cursor: pointer;\n",
              "      display: none;\n",
              "      fill: #1967D2;\n",
              "      height: 32px;\n",
              "      padding: 0 0 0 0;\n",
              "      width: 32px;\n",
              "    }\n",
              "\n",
              "    .colab-df-convert:hover {\n",
              "      background-color: #E2EBFA;\n",
              "      box-shadow: 0px 1px 2px rgba(60, 64, 67, 0.3), 0px 1px 3px 1px rgba(60, 64, 67, 0.15);\n",
              "      fill: #174EA6;\n",
              "    }\n",
              "\n",
              "    [theme=dark] .colab-df-convert {\n",
              "      background-color: #3B4455;\n",
              "      fill: #D2E3FC;\n",
              "    }\n",
              "\n",
              "    [theme=dark] .colab-df-convert:hover {\n",
              "      background-color: #434B5C;\n",
              "      box-shadow: 0px 1px 3px 1px rgba(0, 0, 0, 0.15);\n",
              "      filter: drop-shadow(0px 1px 2px rgba(0, 0, 0, 0.3));\n",
              "      fill: #FFFFFF;\n",
              "    }\n",
              "  </style>\n",
              "\n",
              "      <script>\n",
              "        const buttonEl =\n",
              "          document.querySelector('#df-4250876a-e9d6-4923-8a8f-fff5bba9ec38 button.colab-df-convert');\n",
              "        buttonEl.style.display =\n",
              "          google.colab.kernel.accessAllowed ? 'block' : 'none';\n",
              "\n",
              "        async function convertToInteractive(key) {\n",
              "          const element = document.querySelector('#df-4250876a-e9d6-4923-8a8f-fff5bba9ec38');\n",
              "          const dataTable =\n",
              "            await google.colab.kernel.invokeFunction('convertToInteractive',\n",
              "                                                     [key], {});\n",
              "          if (!dataTable) return;\n",
              "\n",
              "          const docLinkHtml = 'Like what you see? Visit the ' +\n",
              "            '<a target=\"_blank\" href=https://colab.research.google.com/notebooks/data_table.ipynb>data table notebook</a>'\n",
              "            + ' to learn more about interactive tables.';\n",
              "          element.innerHTML = '';\n",
              "          dataTable['output_type'] = 'display_data';\n",
              "          await google.colab.output.renderOutput(dataTable, element);\n",
              "          const docLink = document.createElement('div');\n",
              "          docLink.innerHTML = docLinkHtml;\n",
              "          element.appendChild(docLink);\n",
              "        }\n",
              "      </script>\n",
              "    </div>\n",
              "  </div>\n",
              "  "
            ]
          },
          "metadata": {},
          "execution_count": 24
        }
      ]
    },
    {
      "cell_type": "code",
      "source": [
        "df_train.loc[(df_train['Tax Liens'] > 3), 'Tax Liens'] = 3"
      ],
      "metadata": {
        "id": "wFK3-IZNYapi"
      },
      "execution_count": null,
      "outputs": []
    },
    {
      "cell_type": "code",
      "source": [
        "df_train['Tax Liens'].value_counts().reset_index()"
      ],
      "metadata": {
        "colab": {
          "base_uri": "https://localhost:8080/"
        },
        "id": "2W8w7MJQYvCd",
        "outputId": "b2006318-74ed-44e1-a49e-7653422ad029"
      },
      "execution_count": null,
      "outputs": [
        {
          "output_type": "execute_result",
          "data": {
            "text/plain": [
              "   index  Tax Liens\n",
              "0    0.0       7366\n",
              "1    1.0         83\n",
              "2    2.0         30\n",
              "3    3.0         21"
            ],
            "text/html": [
              "\n",
              "  <div id=\"df-044b09b8-d2f0-4572-9b71-1c24b58a2ed3\">\n",
              "    <div class=\"colab-df-container\">\n",
              "      <div>\n",
              "<style scoped>\n",
              "    .dataframe tbody tr th:only-of-type {\n",
              "        vertical-align: middle;\n",
              "    }\n",
              "\n",
              "    .dataframe tbody tr th {\n",
              "        vertical-align: top;\n",
              "    }\n",
              "\n",
              "    .dataframe thead th {\n",
              "        text-align: right;\n",
              "    }\n",
              "</style>\n",
              "<table border=\"1\" class=\"dataframe\">\n",
              "  <thead>\n",
              "    <tr style=\"text-align: right;\">\n",
              "      <th></th>\n",
              "      <th>index</th>\n",
              "      <th>Tax Liens</th>\n",
              "    </tr>\n",
              "  </thead>\n",
              "  <tbody>\n",
              "    <tr>\n",
              "      <th>0</th>\n",
              "      <td>0.0</td>\n",
              "      <td>7366</td>\n",
              "    </tr>\n",
              "    <tr>\n",
              "      <th>1</th>\n",
              "      <td>1.0</td>\n",
              "      <td>83</td>\n",
              "    </tr>\n",
              "    <tr>\n",
              "      <th>2</th>\n",
              "      <td>2.0</td>\n",
              "      <td>30</td>\n",
              "    </tr>\n",
              "    <tr>\n",
              "      <th>3</th>\n",
              "      <td>3.0</td>\n",
              "      <td>21</td>\n",
              "    </tr>\n",
              "  </tbody>\n",
              "</table>\n",
              "</div>\n",
              "      <button class=\"colab-df-convert\" onclick=\"convertToInteractive('df-044b09b8-d2f0-4572-9b71-1c24b58a2ed3')\"\n",
              "              title=\"Convert this dataframe to an interactive table.\"\n",
              "              style=\"display:none;\">\n",
              "        \n",
              "  <svg xmlns=\"http://www.w3.org/2000/svg\" height=\"24px\"viewBox=\"0 0 24 24\"\n",
              "       width=\"24px\">\n",
              "    <path d=\"M0 0h24v24H0V0z\" fill=\"none\"/>\n",
              "    <path d=\"M18.56 5.44l.94 2.06.94-2.06 2.06-.94-2.06-.94-.94-2.06-.94 2.06-2.06.94zm-11 1L8.5 8.5l.94-2.06 2.06-.94-2.06-.94L8.5 2.5l-.94 2.06-2.06.94zm10 10l.94 2.06.94-2.06 2.06-.94-2.06-.94-.94-2.06-.94 2.06-2.06.94z\"/><path d=\"M17.41 7.96l-1.37-1.37c-.4-.4-.92-.59-1.43-.59-.52 0-1.04.2-1.43.59L10.3 9.45l-7.72 7.72c-.78.78-.78 2.05 0 2.83L4 21.41c.39.39.9.59 1.41.59.51 0 1.02-.2 1.41-.59l7.78-7.78 2.81-2.81c.8-.78.8-2.07 0-2.86zM5.41 20L4 18.59l7.72-7.72 1.47 1.35L5.41 20z\"/>\n",
              "  </svg>\n",
              "      </button>\n",
              "      \n",
              "  <style>\n",
              "    .colab-df-container {\n",
              "      display:flex;\n",
              "      flex-wrap:wrap;\n",
              "      gap: 12px;\n",
              "    }\n",
              "\n",
              "    .colab-df-convert {\n",
              "      background-color: #E8F0FE;\n",
              "      border: none;\n",
              "      border-radius: 50%;\n",
              "      cursor: pointer;\n",
              "      display: none;\n",
              "      fill: #1967D2;\n",
              "      height: 32px;\n",
              "      padding: 0 0 0 0;\n",
              "      width: 32px;\n",
              "    }\n",
              "\n",
              "    .colab-df-convert:hover {\n",
              "      background-color: #E2EBFA;\n",
              "      box-shadow: 0px 1px 2px rgba(60, 64, 67, 0.3), 0px 1px 3px 1px rgba(60, 64, 67, 0.15);\n",
              "      fill: #174EA6;\n",
              "    }\n",
              "\n",
              "    [theme=dark] .colab-df-convert {\n",
              "      background-color: #3B4455;\n",
              "      fill: #D2E3FC;\n",
              "    }\n",
              "\n",
              "    [theme=dark] .colab-df-convert:hover {\n",
              "      background-color: #434B5C;\n",
              "      box-shadow: 0px 1px 3px 1px rgba(0, 0, 0, 0.15);\n",
              "      filter: drop-shadow(0px 1px 2px rgba(0, 0, 0, 0.3));\n",
              "      fill: #FFFFFF;\n",
              "    }\n",
              "  </style>\n",
              "\n",
              "      <script>\n",
              "        const buttonEl =\n",
              "          document.querySelector('#df-044b09b8-d2f0-4572-9b71-1c24b58a2ed3 button.colab-df-convert');\n",
              "        buttonEl.style.display =\n",
              "          google.colab.kernel.accessAllowed ? 'block' : 'none';\n",
              "\n",
              "        async function convertToInteractive(key) {\n",
              "          const element = document.querySelector('#df-044b09b8-d2f0-4572-9b71-1c24b58a2ed3');\n",
              "          const dataTable =\n",
              "            await google.colab.kernel.invokeFunction('convertToInteractive',\n",
              "                                                     [key], {});\n",
              "          if (!dataTable) return;\n",
              "\n",
              "          const docLinkHtml = 'Like what you see? Visit the ' +\n",
              "            '<a target=\"_blank\" href=https://colab.research.google.com/notebooks/data_table.ipynb>data table notebook</a>'\n",
              "            + ' to learn more about interactive tables.';\n",
              "          element.innerHTML = '';\n",
              "          dataTable['output_type'] = 'display_data';\n",
              "          await google.colab.output.renderOutput(dataTable, element);\n",
              "          const docLink = document.createElement('div');\n",
              "          docLink.innerHTML = docLinkHtml;\n",
              "          element.appendChild(docLink);\n",
              "        }\n",
              "      </script>\n",
              "    </div>\n",
              "  </div>\n",
              "  "
            ]
          },
          "metadata": {},
          "execution_count": 26
        }
      ]
    },
    {
      "cell_type": "markdown",
      "source": [
        "Number of Open Accounts"
      ],
      "metadata": {
        "id": "PwhJLhBZZgLU"
      }
    },
    {
      "cell_type": "code",
      "source": [
        "plt.figure(figsize = (16, 8))\n",
        "\n",
        "df_train['Number of Open Accounts'].hist(bins=50)\n",
        "plt.ylabel('Число клиентов')\n",
        "plt.xlabel('Число открытых счетов')\n",
        "\n",
        "plt.title('Распределение признака')\n",
        "plt.show()"
      ],
      "metadata": {
        "colab": {
          "base_uri": "https://localhost:8080/"
        },
        "id": "3VFvEb2KbAHE",
        "outputId": "abe1a27c-54fc-4a09-bf4b-1df885d3ae21"
      },
      "execution_count": null,
      "outputs": [
        {
          "output_type": "display_data",
          "data": {
            "text/plain": [
              "<Figure size 1152x576 with 1 Axes>"
            ],
            "image/png": "[encoded data removed]"
          },
          "metadata": {
            "needs_background": "light"
          }
        }
      ]
    },
    {
      "cell_type": "code",
      "source": [
        "df_train.loc[(df_train['Number of Open Accounts'] >= 25) | (df_train['Number of Open Accounts'] == 0 ),\n",
        "             'Number of Open Accounts'] = df_train['Number of Open Accounts'].median()"
      ],
      "metadata": {
        "id": "Jnf98LTsbV9i"
      },
      "execution_count": null,
      "outputs": []
    },
    {
      "cell_type": "code",
      "source": [
        "plt.figure(figsize = (16, 8))\n",
        "\n",
        "df_train['Number of Open Accounts'].hist(bins=50)\n",
        "plt.ylabel('Число клиентов')\n",
        "plt.xlabel('Число открытых счетов')\n",
        "\n",
        "plt.title('Распределение признака')\n",
        "plt.show()"
      ],
      "metadata": {
        "colab": {
          "base_uri": "https://localhost:8080/"
        },
        "id": "izUQH5EMb0bj",
        "outputId": "a10e2edd-bb0b-4aa6-ef8d-6531eb35cba8"
      },
      "execution_count": null,
      "outputs": [
        {
          "output_type": "display_data",
          "data": {
            "text/plain": [
              "<Figure size 1152x576 with 1 Axes>"
            ],
            "image/png": "[encoded data removed]"
          },
          "metadata": {
            "needs_background": "light"
          }
        }
      ]
    },
    {
      "cell_type": "markdown",
      "source": [
        "Years of Credit History"
      ],
      "metadata": {
        "id": "loeQRFaccI-E"
      }
    },
    {
      "cell_type": "code",
      "source": [
        "plt.figure(figsize = (16, 8))\n",
        "\n",
        "df_train['Years of Credit History'].hist(bins=30)\n",
        "plt.ylabel('Число клиентов')\n",
        "plt.xlabel('Количество лет кредитной истории')\n",
        "\n",
        "plt.title('Распределение признака')\n",
        "plt.show()"
      ],
      "metadata": {
        "colab": {
          "base_uri": "https://localhost:8080/"
        },
        "id": "K14XyA5ccIo1",
        "outputId": "43c9af51-4357-405c-c8c1-22858399f009"
      },
      "execution_count": null,
      "outputs": [
        {
          "output_type": "display_data",
          "data": {
            "text/plain": [
              "<Figure size 1152x576 with 1 Axes>"
            ],
            "image/png": "[encoded data removed]"
          },
          "metadata": {
            "needs_background": "light"
          }
        }
      ]
    },
    {
      "cell_type": "code",
      "source": [
        "df_train.loc[(df_train['Years of Credit History'] >= 45), 'Number of Open Accounts'] = df_train['Number of Open Accounts'].median()"
      ],
      "metadata": {
        "id": "bBLudb5Pqr2R"
      },
      "execution_count": null,
      "outputs": []
    },
    {
      "cell_type": "code",
      "source": [
        "plt.figure(figsize = (16, 8))\n",
        "\n",
        "df_train['Years of Credit History'].hist(bins=30)\n",
        "plt.ylabel('Число клиентов')\n",
        "plt.xlabel('Количество лет кредитной истории')\n",
        "\n",
        "plt.title('Распределение признака')\n",
        "plt.show()"
      ],
      "metadata": {
        "colab": {
          "base_uri": "https://localhost:8080/"
        },
        "id": "5m6jHKLzq8EQ",
        "outputId": "6e526e61-51af-4247-ec83-d32c3dfc0e03"
      },
      "execution_count": null,
      "outputs": [
        {
          "output_type": "display_data",
          "data": {
            "text/plain": [
              "<Figure size 1152x576 with 1 Axes>"
            ],
            "image/png": "[encoded data removed]"
          },
          "metadata": {
            "needs_background": "light"
          }
        }
      ]
    },
    {
      "cell_type": "markdown",
      "source": [
        "Maximum Open Credit"
      ],
      "metadata": {
        "id": "T_4QVuCpruf4"
      }
    },
    {
      "cell_type": "code",
      "source": [
        "condition = (df_train['Maximum Open Credit'].isna()) \\\n",
        "             | (df_train['Maximum Open Credit'] > df_train['Maximum Open Credit'].quantile(.975))\n",
        "        \n",
        "df_train.loc[condition, 'Maximum Open Credit'] = df_train['Maximum Open Credit'].median()"
      ],
      "metadata": {
        "id": "vI2S4pDnzTyA"
      },
      "execution_count": null,
      "outputs": []
    },
    {
      "cell_type": "code",
      "source": [
        "plt.figure(figsize = (16, 8))\n",
        "\n",
        "df_train['Maximum Open Credit'].hist(bins=50)\n",
        "plt.ylabel('Число клиентов')\n",
        "plt.xlabel('Наибольший открытый кредит')\n",
        "\n",
        "plt.title('Распределение признака')\n",
        "plt.show()"
      ],
      "metadata": {
        "colab": {
          "base_uri": "https://localhost:8080/"
        },
        "id": "kWfjD_xPzz1f",
        "outputId": "2265e92b-a038-4736-a594-ddc542c40f3c"
      },
      "execution_count": null,
      "outputs": [
        {
          "output_type": "display_data",
          "data": {
            "text/plain": [
              "<Figure size 1152x576 with 1 Axes>"
            ],
            "image/png": "[encoded data removed]"
          },
          "metadata": {
            "needs_background": "light"
          }
        }
      ]
    },
    {
      "cell_type": "markdown",
      "source": [
        "Number of Credit Problems\t"
      ],
      "metadata": {
        "id": "Lyb82rdW0NO4"
      }
    },
    {
      "cell_type": "code",
      "source": [
        "df_train['Number of Credit Problems'].value_counts().reset_index()"
      ],
      "metadata": {
        "colab": {
          "base_uri": "https://localhost:8080/"
        },
        "id": "X7bE4WgJ0MX-",
        "outputId": "c8a7045e-eed7-411d-bcfe-6970288957ce"
      },
      "execution_count": null,
      "outputs": [
        {
          "output_type": "execute_result",
          "data": {
            "text/plain": [
              "   index  Number of Credit Problems\n",
              "0    0.0                       6469\n",
              "1    1.0                        882\n",
              "2    2.0                         93\n",
              "3    3.0                         35\n",
              "4    4.0                          9\n",
              "5    5.0                          7\n",
              "6    6.0                          4\n",
              "7    7.0                          1"
            ],
            "text/html": [
              "\n",
              "  <div id=\"df-b8526d4e-feff-4116-9f70-d889f5191bf8\">\n",
              "    <div class=\"colab-df-container\">\n",
              "      <div>\n",
              "<style scoped>\n",
              "    .dataframe tbody tr th:only-of-type {\n",
              "        vertical-align: middle;\n",
              "    }\n",
              "\n",
              "    .dataframe tbody tr th {\n",
              "        vertical-align: top;\n",
              "    }\n",
              "\n",
              "    .dataframe thead th {\n",
              "        text-align: right;\n",
              "    }\n",
              "</style>\n",
              "<table border=\"1\" class=\"dataframe\">\n",
              "  <thead>\n",
              "    <tr style=\"text-align: right;\">\n",
              "      <th></th>\n",
              "      <th>index</th>\n",
              "      <th>Number of Credit Problems</th>\n",
              "    </tr>\n",
              "  </thead>\n",
              "  <tbody>\n",
              "    <tr>\n",
              "      <th>0</th>\n",
              "      <td>0.0</td>\n",
              "      <td>6469</td>\n",
              "    </tr>\n",
              "    <tr>\n",
              "      <th>1</th>\n",
              "      <td>1.0</td>\n",
              "      <td>882</td>\n",
              "    </tr>\n",
              "    <tr>\n",
              "      <th>2</th>\n",
              "      <td>2.0</td>\n",
              "      <td>93</td>\n",
              "    </tr>\n",
              "    <tr>\n",
              "      <th>3</th>\n",
              "      <td>3.0</td>\n",
              "      <td>35</td>\n",
              "    </tr>\n",
              "    <tr>\n",
              "      <th>4</th>\n",
              "      <td>4.0</td>\n",
              "      <td>9</td>\n",
              "    </tr>\n",
              "    <tr>\n",
              "      <th>5</th>\n",
              "      <td>5.0</td>\n",
              "      <td>7</td>\n",
              "    </tr>\n",
              "    <tr>\n",
              "      <th>6</th>\n",
              "      <td>6.0</td>\n",
              "      <td>4</td>\n",
              "    </tr>\n",
              "    <tr>\n",
              "      <th>7</th>\n",
              "      <td>7.0</td>\n",
              "      <td>1</td>\n",
              "    </tr>\n",
              "  </tbody>\n",
              "</table>\n",
              "</div>\n",
              "      <button class=\"colab-df-convert\" onclick=\"convertToInteractive('df-b8526d4e-feff-4116-9f70-d889f5191bf8')\"\n",
              "              title=\"Convert this dataframe to an interactive table.\"\n",
              "              style=\"display:none;\">\n",
              "        \n",
              "  <svg xmlns=\"http://www.w3.org/2000/svg\" height=\"24px\"viewBox=\"0 0 24 24\"\n",
              "       width=\"24px\">\n",
              "    <path d=\"M0 0h24v24H0V0z\" fill=\"none\"/>\n",
              "    <path d=\"M18.56 5.44l.94 2.06.94-2.06 2.06-.94-2.06-.94-.94-2.06-.94 2.06-2.06.94zm-11 1L8.5 8.5l.94-2.06 2.06-.94-2.06-.94L8.5 2.5l-.94 2.06-2.06.94zm10 10l.94 2.06.94-2.06 2.06-.94-2.06-.94-.94-2.06-.94 2.06-2.06.94z\"/><path d=\"M17.41 7.96l-1.37-1.37c-.4-.4-.92-.59-1.43-.59-.52 0-1.04.2-1.43.59L10.3 9.45l-7.72 7.72c-.78.78-.78 2.05 0 2.83L4 21.41c.39.39.9.59 1.41.59.51 0 1.02-.2 1.41-.59l7.78-7.78 2.81-2.81c.8-.78.8-2.07 0-2.86zM5.41 20L4 18.59l7.72-7.72 1.47 1.35L5.41 20z\"/>\n",
              "  </svg>\n",
              "      </button>\n",
              "      \n",
              "  <style>\n",
              "    .colab-df-container {\n",
              "      display:flex;\n",
              "      flex-wrap:wrap;\n",
              "      gap: 12px;\n",
              "    }\n",
              "\n",
              "    .colab-df-convert {\n",
              "      background-color: #E8F0FE;\n",
              "      border: none;\n",
              "      border-radius: 50%;\n",
              "      cursor: pointer;\n",
              "      display: none;\n",
              "      fill: #1967D2;\n",
              "      height: 32px;\n",
              "      padding: 0 0 0 0;\n",
              "      width: 32px;\n",
              "    }\n",
              "\n",
              "    .colab-df-convert:hover {\n",
              "      background-color: #E2EBFA;\n",
              "      box-shadow: 0px 1px 2px rgba(60, 64, 67, 0.3), 0px 1px 3px 1px rgba(60, 64, 67, 0.15);\n",
              "      fill: #174EA6;\n",
              "    }\n",
              "\n",
              "    [theme=dark] .colab-df-convert {\n",
              "      background-color: #3B4455;\n",
              "      fill: #D2E3FC;\n",
              "    }\n",
              "\n",
              "    [theme=dark] .colab-df-convert:hover {\n",
              "      background-color: #434B5C;\n",
              "      box-shadow: 0px 1px 3px 1px rgba(0, 0, 0, 0.15);\n",
              "      filter: drop-shadow(0px 1px 2px rgba(0, 0, 0, 0.3));\n",
              "      fill: #FFFFFF;\n",
              "    }\n",
              "  </style>\n",
              "\n",
              "      <script>\n",
              "        const buttonEl =\n",
              "          document.querySelector('#df-b8526d4e-feff-4116-9f70-d889f5191bf8 button.colab-df-convert');\n",
              "        buttonEl.style.display =\n",
              "          google.colab.kernel.accessAllowed ? 'block' : 'none';\n",
              "\n",
              "        async function convertToInteractive(key) {\n",
              "          const element = document.querySelector('#df-b8526d4e-feff-4116-9f70-d889f5191bf8');\n",
              "          const dataTable =\n",
              "            await google.colab.kernel.invokeFunction('convertToInteractive',\n",
              "                                                     [key], {});\n",
              "          if (!dataTable) return;\n",
              "\n",
              "          const docLinkHtml = 'Like what you see? Visit the ' +\n",
              "            '<a target=\"_blank\" href=https://colab.research.google.com/notebooks/data_table.ipynb>data table notebook</a>'\n",
              "            + ' to learn more about interactive tables.';\n",
              "          element.innerHTML = '';\n",
              "          dataTable['output_type'] = 'display_data';\n",
              "          await google.colab.output.renderOutput(dataTable, element);\n",
              "          const docLink = document.createElement('div');\n",
              "          docLink.innerHTML = docLinkHtml;\n",
              "          element.appendChild(docLink);\n",
              "        }\n",
              "      </script>\n",
              "    </div>\n",
              "  </div>\n",
              "  "
            ]
          },
          "metadata": {},
          "execution_count": 35
        }
      ]
    },
    {
      "cell_type": "code",
      "source": [
        "df_train.loc[(df_train['Number of Credit Problems'] > 4), 'Number of Credit Problems'] = 4"
      ],
      "metadata": {
        "id": "y9kdZwvE1N76"
      },
      "execution_count": null,
      "outputs": []
    },
    {
      "cell_type": "code",
      "source": [
        "df_train['Number of Credit Problems'].value_counts().reset_index()"
      ],
      "metadata": {
        "colab": {
          "base_uri": "https://localhost:8080/"
        },
        "id": "DBmKx6Y-1U5P",
        "outputId": "1e282c39-7aa8-4178-f61f-d12ebd6a446a"
      },
      "execution_count": null,
      "outputs": [
        {
          "output_type": "execute_result",
          "data": {
            "text/plain": [
              "   index  Number of Credit Problems\n",
              "0    0.0                       6469\n",
              "1    1.0                        882\n",
              "2    2.0                         93\n",
              "3    3.0                         35\n",
              "4    4.0                         21"
            ],
            "text/html": [
              "\n",
              "  <div id=\"df-f646edba-aa3c-46e9-9d9a-7456e87160aa\">\n",
              "    <div class=\"colab-df-container\">\n",
              "      <div>\n",
              "<style scoped>\n",
              "    .dataframe tbody tr th:only-of-type {\n",
              "        vertical-align: middle;\n",
              "    }\n",
              "\n",
              "    .dataframe tbody tr th {\n",
              "        vertical-align: top;\n",
              "    }\n",
              "\n",
              "    .dataframe thead th {\n",
              "        text-align: right;\n",
              "    }\n",
              "</style>\n",
              "<table border=\"1\" class=\"dataframe\">\n",
              "  <thead>\n",
              "    <tr style=\"text-align: right;\">\n",
              "      <th></th>\n",
              "      <th>index</th>\n",
              "      <th>Number of Credit Problems</th>\n",
              "    </tr>\n",
              "  </thead>\n",
              "  <tbody>\n",
              "    <tr>\n",
              "      <th>0</th>\n",
              "      <td>0.0</td>\n",
              "      <td>6469</td>\n",
              "    </tr>\n",
              "    <tr>\n",
              "      <th>1</th>\n",
              "      <td>1.0</td>\n",
              "      <td>882</td>\n",
              "    </tr>\n",
              "    <tr>\n",
              "      <th>2</th>\n",
              "      <td>2.0</td>\n",
              "      <td>93</td>\n",
              "    </tr>\n",
              "    <tr>\n",
              "      <th>3</th>\n",
              "      <td>3.0</td>\n",
              "      <td>35</td>\n",
              "    </tr>\n",
              "    <tr>\n",
              "      <th>4</th>\n",
              "      <td>4.0</td>\n",
              "      <td>21</td>\n",
              "    </tr>\n",
              "  </tbody>\n",
              "</table>\n",
              "</div>\n",
              "      <button class=\"colab-df-convert\" onclick=\"convertToInteractive('df-f646edba-aa3c-46e9-9d9a-7456e87160aa')\"\n",
              "              title=\"Convert this dataframe to an interactive table.\"\n",
              "              style=\"display:none;\">\n",
              "        \n",
              "  <svg xmlns=\"http://www.w3.org/2000/svg\" height=\"24px\"viewBox=\"0 0 24 24\"\n",
              "       width=\"24px\">\n",
              "    <path d=\"M0 0h24v24H0V0z\" fill=\"none\"/>\n",
              "    <path d=\"M18.56 5.44l.94 2.06.94-2.06 2.06-.94-2.06-.94-.94-2.06-.94 2.06-2.06.94zm-11 1L8.5 8.5l.94-2.06 2.06-.94-2.06-.94L8.5 2.5l-.94 2.06-2.06.94zm10 10l.94 2.06.94-2.06 2.06-.94-2.06-.94-.94-2.06-.94 2.06-2.06.94z\"/><path d=\"M17.41 7.96l-1.37-1.37c-.4-.4-.92-.59-1.43-.59-.52 0-1.04.2-1.43.59L10.3 9.45l-7.72 7.72c-.78.78-.78 2.05 0 2.83L4 21.41c.39.39.9.59 1.41.59.51 0 1.02-.2 1.41-.59l7.78-7.78 2.81-2.81c.8-.78.8-2.07 0-2.86zM5.41 20L4 18.59l7.72-7.72 1.47 1.35L5.41 20z\"/>\n",
              "  </svg>\n",
              "      </button>\n",
              "      \n",
              "  <style>\n",
              "    .colab-df-container {\n",
              "      display:flex;\n",
              "      flex-wrap:wrap;\n",
              "      gap: 12px;\n",
              "    }\n",
              "\n",
              "    .colab-df-convert {\n",
              "      background-color: #E8F0FE;\n",
              "      border: none;\n",
              "      border-radius: 50%;\n",
              "      cursor: pointer;\n",
              "      display: none;\n",
              "      fill: #1967D2;\n",
              "      height: 32px;\n",
              "      padding: 0 0 0 0;\n",
              "      width: 32px;\n",
              "    }\n",
              "\n",
              "    .colab-df-convert:hover {\n",
              "      background-color: #E2EBFA;\n",
              "      box-shadow: 0px 1px 2px rgba(60, 64, 67, 0.3), 0px 1px 3px 1px rgba(60, 64, 67, 0.15);\n",
              "      fill: #174EA6;\n",
              "    }\n",
              "\n",
              "    [theme=dark] .colab-df-convert {\n",
              "      background-color: #3B4455;\n",
              "      fill: #D2E3FC;\n",
              "    }\n",
              "\n",
              "    [theme=dark] .colab-df-convert:hover {\n",
              "      background-color: #434B5C;\n",
              "      box-shadow: 0px 1px 3px 1px rgba(0, 0, 0, 0.15);\n",
              "      filter: drop-shadow(0px 1px 2px rgba(0, 0, 0, 0.3));\n",
              "      fill: #FFFFFF;\n",
              "    }\n",
              "  </style>\n",
              "\n",
              "      <script>\n",
              "        const buttonEl =\n",
              "          document.querySelector('#df-f646edba-aa3c-46e9-9d9a-7456e87160aa button.colab-df-convert');\n",
              "        buttonEl.style.display =\n",
              "          google.colab.kernel.accessAllowed ? 'block' : 'none';\n",
              "\n",
              "        async function convertToInteractive(key) {\n",
              "          const element = document.querySelector('#df-f646edba-aa3c-46e9-9d9a-7456e87160aa');\n",
              "          const dataTable =\n",
              "            await google.colab.kernel.invokeFunction('convertToInteractive',\n",
              "                                                     [key], {});\n",
              "          if (!dataTable) return;\n",
              "\n",
              "          const docLinkHtml = 'Like what you see? Visit the ' +\n",
              "            '<a target=\"_blank\" href=https://colab.research.google.com/notebooks/data_table.ipynb>data table notebook</a>'\n",
              "            + ' to learn more about interactive tables.';\n",
              "          element.innerHTML = '';\n",
              "          dataTable['output_type'] = 'display_data';\n",
              "          await google.colab.output.renderOutput(dataTable, element);\n",
              "          const docLink = document.createElement('div');\n",
              "          docLink.innerHTML = docLinkHtml;\n",
              "          element.appendChild(docLink);\n",
              "        }\n",
              "      </script>\n",
              "    </div>\n",
              "  </div>\n",
              "  "
            ]
          },
          "metadata": {},
          "execution_count": 37
        }
      ]
    },
    {
      "cell_type": "markdown",
      "source": [
        "Current Loan Amount - текущая сумма кредита"
      ],
      "metadata": {
        "id": "hsNAeatG5R5_"
      }
    },
    {
      "cell_type": "code",
      "source": [
        "df_train.loc[(df_train['Current Loan Amount'] > 1000000), 'Current Loan Amount'] = df_train['Current Loan Amount'].median()"
      ],
      "metadata": {
        "id": "rJcdoZh18D9r"
      },
      "execution_count": null,
      "outputs": []
    },
    {
      "cell_type": "code",
      "source": [
        "plt.figure(figsize = (16, 8))\n",
        "\n",
        "df_train['Current Loan Amount'].hist(bins=50)\n",
        "plt.ylabel('Число клиентов')\n",
        "plt.xlabel('Текущая сумма кредита')\n",
        "\n",
        "plt.title('Распределение признака')\n",
        "plt.show()"
      ],
      "metadata": {
        "colab": {
          "base_uri": "https://localhost:8080/"
        },
        "id": "uPPoSAjs5Qnr",
        "outputId": "80c04129-2b94-4452-9d2c-e2dfa59812f8"
      },
      "execution_count": null,
      "outputs": [
        {
          "output_type": "display_data",
          "data": {
            "text/plain": [
              "<Figure size 1152x576 with 1 Axes>"
            ],
            "image/png": "[encoded data removed]"
          },
          "metadata": {
            "needs_background": "light"
          }
        }
      ]
    },
    {
      "cell_type": "markdown",
      "source": [
        "Current Credit Balance - текущий кредитный баланс"
      ],
      "metadata": {
        "id": "62Y4I6jr7OKX"
      }
    },
    {
      "cell_type": "code",
      "source": [
        "plt.figure(figsize = (16, 8))\n",
        "\n",
        "df_train['Current Credit Balance'].hist(bins=50)\n",
        "plt.ylabel('Число клиентов')\n",
        "plt.xlabel('текущий кредитный баланс')\n",
        "\n",
        "plt.title('Распределение признака')\n",
        "plt.show()"
      ],
      "metadata": {
        "colab": {
          "base_uri": "https://localhost:8080/"
        },
        "id": "e1NLxPkT7M-h",
        "outputId": "93991ccb-41fe-4434-f9c5-28e74be8dbed"
      },
      "execution_count": null,
      "outputs": [
        {
          "output_type": "display_data",
          "data": {
            "text/plain": [
              "<Figure size 1152x576 with 1 Axes>"
            ],
            "image/png": "[encoded data removed]"
          },
          "metadata": {
            "needs_background": "light"
          }
        }
      ]
    },
    {
      "cell_type": "code",
      "source": [
        "condition = (df_train['Current Credit Balance'].isna()) \\\n",
        "             | (df_train['Current Credit Balance'] > df_train['Current Credit Balance'].quantile(.975))\n",
        "        \n",
        "df_train.loc[condition, 'Current Credit Balance'] = df_train['Current Credit Balance'].median()"
      ],
      "metadata": {
        "id": "kSaP9B-w_BA8"
      },
      "execution_count": null,
      "outputs": []
    },
    {
      "cell_type": "code",
      "source": [
        "plt.figure(figsize = (16, 8))\n",
        "\n",
        "df_train['Current Credit Balance'].hist(bins=50)\n",
        "plt.ylabel('Число клиентов')\n",
        "plt.xlabel('текущий кредитный баланс')\n",
        "\n",
        "plt.title('Распределение признака')\n",
        "plt.show()"
      ],
      "metadata": {
        "colab": {
          "base_uri": "https://localhost:8080/"
        },
        "id": "pMFITnMI_OcX",
        "outputId": "c55393dd-3f5a-4464-ccf6-e6e422126314"
      },
      "execution_count": null,
      "outputs": [
        {
          "output_type": "display_data",
          "data": {
            "text/plain": [
              "<Figure size 1152x576 with 1 Axes>"
            ],
            "image/png": "[encoded data removed]"
          },
          "metadata": {
            "needs_background": "light"
          }
        }
      ]
    },
    {
      "cell_type": "markdown",
      "source": [
        "Monthly Debt - ежемесячный долг"
      ],
      "metadata": {
        "id": "ESMVxE6YAGTF"
      }
    },
    {
      "cell_type": "code",
      "source": [
        "plt.figure(figsize = (16, 8))\n",
        "\n",
        "df_train['Monthly Debt'].hist(bins=50)\n",
        "plt.ylabel('Число клиентов')\n",
        "plt.xlabel('Ежемесячный долг')\n",
        "\n",
        "plt.title('Распределение признака')\n",
        "plt.show()"
      ],
      "metadata": {
        "colab": {
          "base_uri": "https://localhost:8080/"
        },
        "id": "MfkYKemJAJTx",
        "outputId": "94d620a7-4a27-4245-ce50-13450a7bf769"
      },
      "execution_count": null,
      "outputs": [
        {
          "output_type": "display_data",
          "data": {
            "text/plain": [
              "<Figure size 1152x576 with 1 Axes>"
            ],
            "image/png": "[encoded data removed]"
          },
          "metadata": {
            "needs_background": "light"
          }
        }
      ]
    },
    {
      "cell_type": "code",
      "source": [
        "df_train.loc[(df_train['Monthly Debt'] > 80000), 'Monthly Debt'] = df_train['Monthly Debt'].median()"
      ],
      "metadata": {
        "id": "aVi-XiExAm0x"
      },
      "execution_count": null,
      "outputs": []
    },
    {
      "cell_type": "code",
      "source": [
        "plt.figure(figsize = (16, 8))\n",
        "\n",
        "df_train['Monthly Debt'].hist(bins=50)\n",
        "plt.ylabel('Число клиентов')\n",
        "plt.xlabel('Ежемесячный долг')\n",
        "\n",
        "plt.title('Распределение признака')\n",
        "plt.show()"
      ],
      "metadata": {
        "colab": {
          "base_uri": "https://localhost:8080/"
        },
        "id": "YRDcVKTtCerd",
        "outputId": "31aaf0e4-db5b-4ca2-8829-a68c0b633ff8"
      },
      "execution_count": null,
      "outputs": [
        {
          "output_type": "display_data",
          "data": {
            "text/plain": [
              "<Figure size 1152x576 with 1 Axes>"
            ],
            "image/png": "[encoded data removed]"
          },
          "metadata": {
            "needs_background": "light"
          }
        }
      ]
    },
    {
      "cell_type": "markdown",
      "source": [
        "###**Обработка пропусков**"
      ],
      "metadata": {
        "id": "frLKNruiEPhr"
      }
    },
    {
      "cell_type": "markdown",
      "source": [
        "Annual Income - годовой доход"
      ],
      "metadata": {
        "id": "wv42EhkzGTt4"
      }
    },
    {
      "cell_type": "code",
      "source": [
        "df_train.loc[df_train['Annual Income'].isna(), 'Annual Income'] = df_train['Annual Income'].median()"
      ],
      "metadata": {
        "id": "NOA2Xug7GVMZ"
      },
      "execution_count": null,
      "outputs": []
    },
    {
      "cell_type": "code",
      "source": [
        "df_train['Annual Income'].isna().sum()"
      ],
      "metadata": {
        "colab": {
          "base_uri": "https://localhost:8080/"
        },
        "id": "2vDMe-YGGfv9",
        "outputId": "d19cb7ff-2500-432e-861d-1a80b2ca4b6d"
      },
      "execution_count": null,
      "outputs": [
        {
          "output_type": "execute_result",
          "data": {
            "text/plain": [
              "0"
            ]
          },
          "metadata": {},
          "execution_count": 47
        }
      ]
    },
    {
      "cell_type": "markdown",
      "source": [
        "Bankruptcies"
      ],
      "metadata": {
        "id": "O-4aeEJDFh9U"
      }
    },
    {
      "cell_type": "code",
      "source": [
        "df_train['Bankruptcies'].isna().sum()"
      ],
      "metadata": {
        "colab": {
          "base_uri": "https://localhost:8080/"
        },
        "id": "7kSXhzO2EYJr",
        "outputId": "fee7462a-d4fc-4b22-9102-3ff8c3bdc490"
      },
      "execution_count": null,
      "outputs": [
        {
          "output_type": "execute_result",
          "data": {
            "text/plain": [
              "14"
            ]
          },
          "metadata": {},
          "execution_count": 48
        }
      ]
    },
    {
      "cell_type": "code",
      "source": [
        "df_train.loc[df_train['Bankruptcies'].isna(), 'Bankruptcies'] = 0"
      ],
      "metadata": {
        "id": "-PRa8qiqFgEq"
      },
      "execution_count": null,
      "outputs": []
    },
    {
      "cell_type": "code",
      "source": [
        "df_train['Bankruptcies'].isna().sum()"
      ],
      "metadata": {
        "colab": {
          "base_uri": "https://localhost:8080/"
        },
        "id": "TDKhjJ-zFvtV",
        "outputId": "8c0b81a9-a9ed-440e-e104-4fa55b1cd0c0"
      },
      "execution_count": null,
      "outputs": [
        {
          "output_type": "execute_result",
          "data": {
            "text/plain": [
              "0"
            ]
          },
          "metadata": {},
          "execution_count": 50
        }
      ]
    },
    {
      "cell_type": "markdown",
      "source": [
        "###**Перекодирование качественных признаков**"
      ],
      "metadata": {
        "id": "GqsnUTg0G6h4"
      }
    },
    {
      "cell_type": "markdown",
      "source": [
        "Term - срок кредита"
      ],
      "metadata": {
        "id": "-oqAtgDDHLW3"
      }
    },
    {
      "cell_type": "code",
      "source": [
        "df_train['Term'].value_counts().reset_index()"
      ],
      "metadata": {
        "colab": {
          "base_uri": "https://localhost:8080/"
        },
        "id": "mSVUgAwaG_ro",
        "outputId": "05bbb50c-bfdf-44cc-a21d-54c12dd7c226"
      },
      "execution_count": null,
      "outputs": [
        {
          "output_type": "execute_result",
          "data": {
            "text/plain": [
              "        index  Term\n",
              "0  Short Term  5556\n",
              "1   Long Term  1944"
            ],
            "text/html": [
              "\n",
              "  <div id=\"df-492b5f78-7557-4b31-b78e-99ccad27980a\">\n",
              "    <div class=\"colab-df-container\">\n",
              "      <div>\n",
              "<style scoped>\n",
              "    .dataframe tbody tr th:only-of-type {\n",
              "        vertical-align: middle;\n",
              "    }\n",
              "\n",
              "    .dataframe tbody tr th {\n",
              "        vertical-align: top;\n",
              "    }\n",
              "\n",
              "    .dataframe thead th {\n",
              "        text-align: right;\n",
              "    }\n",
              "</style>\n",
              "<table border=\"1\" class=\"dataframe\">\n",
              "  <thead>\n",
              "    <tr style=\"text-align: right;\">\n",
              "      <th></th>\n",
              "      <th>index</th>\n",
              "      <th>Term</th>\n",
              "    </tr>\n",
              "  </thead>\n",
              "  <tbody>\n",
              "    <tr>\n",
              "      <th>0</th>\n",
              "      <td>Short Term</td>\n",
              "      <td>5556</td>\n",
              "    </tr>\n",
              "    <tr>\n",
              "      <th>1</th>\n",
              "      <td>Long Term</td>\n",
              "      <td>1944</td>\n",
              "    </tr>\n",
              "  </tbody>\n",
              "</table>\n",
              "</div>\n",
              "      <button class=\"colab-df-convert\" onclick=\"convertToInteractive('df-492b5f78-7557-4b31-b78e-99ccad27980a')\"\n",
              "              title=\"Convert this dataframe to an interactive table.\"\n",
              "              style=\"display:none;\">\n",
              "        \n",
              "  <svg xmlns=\"http://www.w3.org/2000/svg\" height=\"24px\"viewBox=\"0 0 24 24\"\n",
              "       width=\"24px\">\n",
              "    <path d=\"M0 0h24v24H0V0z\" fill=\"none\"/>\n",
              "    <path d=\"M18.56 5.44l.94 2.06.94-2.06 2.06-.94-2.06-.94-.94-2.06-.94 2.06-2.06.94zm-11 1L8.5 8.5l.94-2.06 2.06-.94-2.06-.94L8.5 2.5l-.94 2.06-2.06.94zm10 10l.94 2.06.94-2.06 2.06-.94-2.06-.94-.94-2.06-.94 2.06-2.06.94z\"/><path d=\"M17.41 7.96l-1.37-1.37c-.4-.4-.92-.59-1.43-.59-.52 0-1.04.2-1.43.59L10.3 9.45l-7.72 7.72c-.78.78-.78 2.05 0 2.83L4 21.41c.39.39.9.59 1.41.59.51 0 1.02-.2 1.41-.59l7.78-7.78 2.81-2.81c.8-.78.8-2.07 0-2.86zM5.41 20L4 18.59l7.72-7.72 1.47 1.35L5.41 20z\"/>\n",
              "  </svg>\n",
              "      </button>\n",
              "      \n",
              "  <style>\n",
              "    .colab-df-container {\n",
              "      display:flex;\n",
              "      flex-wrap:wrap;\n",
              "      gap: 12px;\n",
              "    }\n",
              "\n",
              "    .colab-df-convert {\n",
              "      background-color: #E8F0FE;\n",
              "      border: none;\n",
              "      border-radius: 50%;\n",
              "      cursor: pointer;\n",
              "      display: none;\n",
              "      fill: #1967D2;\n",
              "      height: 32px;\n",
              "      padding: 0 0 0 0;\n",
              "      width: 32px;\n",
              "    }\n",
              "\n",
              "    .colab-df-convert:hover {\n",
              "      background-color: #E2EBFA;\n",
              "      box-shadow: 0px 1px 2px rgba(60, 64, 67, 0.3), 0px 1px 3px 1px rgba(60, 64, 67, 0.15);\n",
              "      fill: #174EA6;\n",
              "    }\n",
              "\n",
              "    [theme=dark] .colab-df-convert {\n",
              "      background-color: #3B4455;\n",
              "      fill: #D2E3FC;\n",
              "    }\n",
              "\n",
              "    [theme=dark] .colab-df-convert:hover {\n",
              "      background-color: #434B5C;\n",
              "      box-shadow: 0px 1px 3px 1px rgba(0, 0, 0, 0.15);\n",
              "      filter: drop-shadow(0px 1px 2px rgba(0, 0, 0, 0.3));\n",
              "      fill: #FFFFFF;\n",
              "    }\n",
              "  </style>\n",
              "\n",
              "      <script>\n",
              "        const buttonEl =\n",
              "          document.querySelector('#df-492b5f78-7557-4b31-b78e-99ccad27980a button.colab-df-convert');\n",
              "        buttonEl.style.display =\n",
              "          google.colab.kernel.accessAllowed ? 'block' : 'none';\n",
              "\n",
              "        async function convertToInteractive(key) {\n",
              "          const element = document.querySelector('#df-492b5f78-7557-4b31-b78e-99ccad27980a');\n",
              "          const dataTable =\n",
              "            await google.colab.kernel.invokeFunction('convertToInteractive',\n",
              "                                                     [key], {});\n",
              "          if (!dataTable) return;\n",
              "\n",
              "          const docLinkHtml = 'Like what you see? Visit the ' +\n",
              "            '<a target=\"_blank\" href=https://colab.research.google.com/notebooks/data_table.ipynb>data table notebook</a>'\n",
              "            + ' to learn more about interactive tables.';\n",
              "          element.innerHTML = '';\n",
              "          dataTable['output_type'] = 'display_data';\n",
              "          await google.colab.output.renderOutput(dataTable, element);\n",
              "          const docLink = document.createElement('div');\n",
              "          docLink.innerHTML = docLinkHtml;\n",
              "          element.appendChild(docLink);\n",
              "        }\n",
              "      </script>\n",
              "    </div>\n",
              "  </div>\n",
              "  "
            ]
          },
          "metadata": {},
          "execution_count": 51
        }
      ]
    },
    {
      "cell_type": "code",
      "source": [
        "binary_to_numbers = {'Short Term': 0, 'Long Term': 1}"
      ],
      "metadata": {
        "id": "jc1pIiGCHVfp"
      },
      "execution_count": null,
      "outputs": []
    },
    {
      "cell_type": "code",
      "source": [
        "df_train['Term'] = df_train['Term'].replace(binary_to_numbers)"
      ],
      "metadata": {
        "id": "MnbafPHfIVB5"
      },
      "execution_count": null,
      "outputs": []
    },
    {
      "cell_type": "code",
      "source": [
        "df_train['Term'].value_counts().reset_index()"
      ],
      "metadata": {
        "colab": {
          "base_uri": "https://localhost:8080/"
        },
        "id": "aZAwnsw3Ijc9",
        "outputId": "610788c9-2e2a-4d1f-e85b-cedd4d5f7ae0"
      },
      "execution_count": null,
      "outputs": [
        {
          "output_type": "execute_result",
          "data": {
            "text/plain": [
              "   index  Term\n",
              "0      0  5556\n",
              "1      1  1944"
            ],
            "text/html": [
              "\n",
              "  <div id=\"df-1da3497e-364c-4570-a72b-bb9f8739e968\">\n",
              "    <div class=\"colab-df-container\">\n",
              "      <div>\n",
              "<style scoped>\n",
              "    .dataframe tbody tr th:only-of-type {\n",
              "        vertical-align: middle;\n",
              "    }\n",
              "\n",
              "    .dataframe tbody tr th {\n",
              "        vertical-align: top;\n",
              "    }\n",
              "\n",
              "    .dataframe thead th {\n",
              "        text-align: right;\n",
              "    }\n",
              "</style>\n",
              "<table border=\"1\" class=\"dataframe\">\n",
              "  <thead>\n",
              "    <tr style=\"text-align: right;\">\n",
              "      <th></th>\n",
              "      <th>index</th>\n",
              "      <th>Term</th>\n",
              "    </tr>\n",
              "  </thead>\n",
              "  <tbody>\n",
              "    <tr>\n",
              "      <th>0</th>\n",
              "      <td>0</td>\n",
              "      <td>5556</td>\n",
              "    </tr>\n",
              "    <tr>\n",
              "      <th>1</th>\n",
              "      <td>1</td>\n",
              "      <td>1944</td>\n",
              "    </tr>\n",
              "  </tbody>\n",
              "</table>\n",
              "</div>\n",
              "      <button class=\"colab-df-convert\" onclick=\"convertToInteractive('df-1da3497e-364c-4570-a72b-bb9f8739e968')\"\n",
              "              title=\"Convert this dataframe to an interactive table.\"\n",
              "              style=\"display:none;\">\n",
              "        \n",
              "  <svg xmlns=\"http://www.w3.org/2000/svg\" height=\"24px\"viewBox=\"0 0 24 24\"\n",
              "       width=\"24px\">\n",
              "    <path d=\"M0 0h24v24H0V0z\" fill=\"none\"/>\n",
              "    <path d=\"M18.56 5.44l.94 2.06.94-2.06 2.06-.94-2.06-.94-.94-2.06-.94 2.06-2.06.94zm-11 1L8.5 8.5l.94-2.06 2.06-.94-2.06-.94L8.5 2.5l-.94 2.06-2.06.94zm10 10l.94 2.06.94-2.06 2.06-.94-2.06-.94-.94-2.06-.94 2.06-2.06.94z\"/><path d=\"M17.41 7.96l-1.37-1.37c-.4-.4-.92-.59-1.43-.59-.52 0-1.04.2-1.43.59L10.3 9.45l-7.72 7.72c-.78.78-.78 2.05 0 2.83L4 21.41c.39.39.9.59 1.41.59.51 0 1.02-.2 1.41-.59l7.78-7.78 2.81-2.81c.8-.78.8-2.07 0-2.86zM5.41 20L4 18.59l7.72-7.72 1.47 1.35L5.41 20z\"/>\n",
              "  </svg>\n",
              "      </button>\n",
              "      \n",
              "  <style>\n",
              "    .colab-df-container {\n",
              "      display:flex;\n",
              "      flex-wrap:wrap;\n",
              "      gap: 12px;\n",
              "    }\n",
              "\n",
              "    .colab-df-convert {\n",
              "      background-color: #E8F0FE;\n",
              "      border: none;\n",
              "      border-radius: 50%;\n",
              "      cursor: pointer;\n",
              "      display: none;\n",
              "      fill: #1967D2;\n",
              "      height: 32px;\n",
              "      padding: 0 0 0 0;\n",
              "      width: 32px;\n",
              "    }\n",
              "\n",
              "    .colab-df-convert:hover {\n",
              "      background-color: #E2EBFA;\n",
              "      box-shadow: 0px 1px 2px rgba(60, 64, 67, 0.3), 0px 1px 3px 1px rgba(60, 64, 67, 0.15);\n",
              "      fill: #174EA6;\n",
              "    }\n",
              "\n",
              "    [theme=dark] .colab-df-convert {\n",
              "      background-color: #3B4455;\n",
              "      fill: #D2E3FC;\n",
              "    }\n",
              "\n",
              "    [theme=dark] .colab-df-convert:hover {\n",
              "      background-color: #434B5C;\n",
              "      box-shadow: 0px 1px 3px 1px rgba(0, 0, 0, 0.15);\n",
              "      filter: drop-shadow(0px 1px 2px rgba(0, 0, 0, 0.3));\n",
              "      fill: #FFFFFF;\n",
              "    }\n",
              "  </style>\n",
              "\n",
              "      <script>\n",
              "        const buttonEl =\n",
              "          document.querySelector('#df-1da3497e-364c-4570-a72b-bb9f8739e968 button.colab-df-convert');\n",
              "        buttonEl.style.display =\n",
              "          google.colab.kernel.accessAllowed ? 'block' : 'none';\n",
              "\n",
              "        async function convertToInteractive(key) {\n",
              "          const element = document.querySelector('#df-1da3497e-364c-4570-a72b-bb9f8739e968');\n",
              "          const dataTable =\n",
              "            await google.colab.kernel.invokeFunction('convertToInteractive',\n",
              "                                                     [key], {});\n",
              "          if (!dataTable) return;\n",
              "\n",
              "          const docLinkHtml = 'Like what you see? Visit the ' +\n",
              "            '<a target=\"_blank\" href=https://colab.research.google.com/notebooks/data_table.ipynb>data table notebook</a>'\n",
              "            + ' to learn more about interactive tables.';\n",
              "          element.innerHTML = '';\n",
              "          dataTable['output_type'] = 'display_data';\n",
              "          await google.colab.output.renderOutput(dataTable, element);\n",
              "          const docLink = document.createElement('div');\n",
              "          docLink.innerHTML = docLinkHtml;\n",
              "          element.appendChild(docLink);\n",
              "        }\n",
              "      </script>\n",
              "    </div>\n",
              "  </div>\n",
              "  "
            ]
          },
          "metadata": {},
          "execution_count": 54
        }
      ]
    },
    {
      "cell_type": "markdown",
      "source": [
        "Home Ownership"
      ],
      "metadata": {
        "id": "MFk_FoXIJOgx"
      }
    },
    {
      "cell_type": "code",
      "source": [
        "df_train['Home Ownership'].value_counts().reset_index()"
      ],
      "metadata": {
        "colab": {
          "base_uri": "https://localhost:8080/"
        },
        "id": "FbAfeoezJnfo",
        "outputId": "63f57f3a-0ed0-4966-8f98-21c70ac99602"
      },
      "execution_count": null,
      "outputs": [
        {
          "output_type": "execute_result",
          "data": {
            "text/plain": [
              "           index  Home Ownership\n",
              "0  Home Mortgage            3637\n",
              "1           Rent            3204\n",
              "2       Own Home             647\n",
              "3  Have Mortgage              12"
            ],
            "text/html": [
              "\n",
              "  <div id=\"df-d1747883-f395-463c-80c2-1bf164d55817\">\n",
              "    <div class=\"colab-df-container\">\n",
              "      <div>\n",
              "<style scoped>\n",
              "    .dataframe tbody tr th:only-of-type {\n",
              "        vertical-align: middle;\n",
              "    }\n",
              "\n",
              "    .dataframe tbody tr th {\n",
              "        vertical-align: top;\n",
              "    }\n",
              "\n",
              "    .dataframe thead th {\n",
              "        text-align: right;\n",
              "    }\n",
              "</style>\n",
              "<table border=\"1\" class=\"dataframe\">\n",
              "  <thead>\n",
              "    <tr style=\"text-align: right;\">\n",
              "      <th></th>\n",
              "      <th>index</th>\n",
              "      <th>Home Ownership</th>\n",
              "    </tr>\n",
              "  </thead>\n",
              "  <tbody>\n",
              "    <tr>\n",
              "      <th>0</th>\n",
              "      <td>Home Mortgage</td>\n",
              "      <td>3637</td>\n",
              "    </tr>\n",
              "    <tr>\n",
              "      <th>1</th>\n",
              "      <td>Rent</td>\n",
              "      <td>3204</td>\n",
              "    </tr>\n",
              "    <tr>\n",
              "      <th>2</th>\n",
              "      <td>Own Home</td>\n",
              "      <td>647</td>\n",
              "    </tr>\n",
              "    <tr>\n",
              "      <th>3</th>\n",
              "      <td>Have Mortgage</td>\n",
              "      <td>12</td>\n",
              "    </tr>\n",
              "  </tbody>\n",
              "</table>\n",
              "</div>\n",
              "      <button class=\"colab-df-convert\" onclick=\"convertToInteractive('df-d1747883-f395-463c-80c2-1bf164d55817')\"\n",
              "              title=\"Convert this dataframe to an interactive table.\"\n",
              "              style=\"display:none;\">\n",
              "        \n",
              "  <svg xmlns=\"http://www.w3.org/2000/svg\" height=\"24px\"viewBox=\"0 0 24 24\"\n",
              "       width=\"24px\">\n",
              "    <path d=\"M0 0h24v24H0V0z\" fill=\"none\"/>\n",
              "    <path d=\"M18.56 5.44l.94 2.06.94-2.06 2.06-.94-2.06-.94-.94-2.06-.94 2.06-2.06.94zm-11 1L8.5 8.5l.94-2.06 2.06-.94-2.06-.94L8.5 2.5l-.94 2.06-2.06.94zm10 10l.94 2.06.94-2.06 2.06-.94-2.06-.94-.94-2.06-.94 2.06-2.06.94z\"/><path d=\"M17.41 7.96l-1.37-1.37c-.4-.4-.92-.59-1.43-.59-.52 0-1.04.2-1.43.59L10.3 9.45l-7.72 7.72c-.78.78-.78 2.05 0 2.83L4 21.41c.39.39.9.59 1.41.59.51 0 1.02-.2 1.41-.59l7.78-7.78 2.81-2.81c.8-.78.8-2.07 0-2.86zM5.41 20L4 18.59l7.72-7.72 1.47 1.35L5.41 20z\"/>\n",
              "  </svg>\n",
              "      </button>\n",
              "      \n",
              "  <style>\n",
              "    .colab-df-container {\n",
              "      display:flex;\n",
              "      flex-wrap:wrap;\n",
              "      gap: 12px;\n",
              "    }\n",
              "\n",
              "    .colab-df-convert {\n",
              "      background-color: #E8F0FE;\n",
              "      border: none;\n",
              "      border-radius: 50%;\n",
              "      cursor: pointer;\n",
              "      display: none;\n",
              "      fill: #1967D2;\n",
              "      height: 32px;\n",
              "      padding: 0 0 0 0;\n",
              "      width: 32px;\n",
              "    }\n",
              "\n",
              "    .colab-df-convert:hover {\n",
              "      background-color: #E2EBFA;\n",
              "      box-shadow: 0px 1px 2px rgba(60, 64, 67, 0.3), 0px 1px 3px 1px rgba(60, 64, 67, 0.15);\n",
              "      fill: #174EA6;\n",
              "    }\n",
              "\n",
              "    [theme=dark] .colab-df-convert {\n",
              "      background-color: #3B4455;\n",
              "      fill: #D2E3FC;\n",
              "    }\n",
              "\n",
              "    [theme=dark] .colab-df-convert:hover {\n",
              "      background-color: #434B5C;\n",
              "      box-shadow: 0px 1px 3px 1px rgba(0, 0, 0, 0.15);\n",
              "      filter: drop-shadow(0px 1px 2px rgba(0, 0, 0, 0.3));\n",
              "      fill: #FFFFFF;\n",
              "    }\n",
              "  </style>\n",
              "\n",
              "      <script>\n",
              "        const buttonEl =\n",
              "          document.querySelector('#df-d1747883-f395-463c-80c2-1bf164d55817 button.colab-df-convert');\n",
              "        buttonEl.style.display =\n",
              "          google.colab.kernel.accessAllowed ? 'block' : 'none';\n",
              "\n",
              "        async function convertToInteractive(key) {\n",
              "          const element = document.querySelector('#df-d1747883-f395-463c-80c2-1bf164d55817');\n",
              "          const dataTable =\n",
              "            await google.colab.kernel.invokeFunction('convertToInteractive',\n",
              "                                                     [key], {});\n",
              "          if (!dataTable) return;\n",
              "\n",
              "          const docLinkHtml = 'Like what you see? Visit the ' +\n",
              "            '<a target=\"_blank\" href=https://colab.research.google.com/notebooks/data_table.ipynb>data table notebook</a>'\n",
              "            + ' to learn more about interactive tables.';\n",
              "          element.innerHTML = '';\n",
              "          dataTable['output_type'] = 'display_data';\n",
              "          await google.colab.output.renderOutput(dataTable, element);\n",
              "          const docLink = document.createElement('div');\n",
              "          docLink.innerHTML = docLinkHtml;\n",
              "          element.appendChild(docLink);\n",
              "        }\n",
              "      </script>\n",
              "    </div>\n",
              "  </div>\n",
              "  "
            ]
          },
          "metadata": {},
          "execution_count": 55
        }
      ]
    },
    {
      "cell_type": "code",
      "source": [
        "home_ownership_to_numbers = {'Rent' : 0, 'Home Mortgage': 1, 'Have Mortgage': 1, 'Own Home' : 2}"
      ],
      "metadata": {
        "id": "6zthyfIFJ2Hv"
      },
      "execution_count": null,
      "outputs": []
    },
    {
      "cell_type": "code",
      "source": [
        "df_train['Home Ownership'] = df_train['Home Ownership'].replace(home_ownership_to_numbers)"
      ],
      "metadata": {
        "id": "fqtxnDJ1KzAP"
      },
      "execution_count": null,
      "outputs": []
    },
    {
      "cell_type": "code",
      "source": [
        "df_train['Home Ownership'].value_counts().reset_index()"
      ],
      "metadata": {
        "colab": {
          "base_uri": "https://localhost:8080/"
        },
        "id": "X5ZbYG6hK_eg",
        "outputId": "3e842ab3-6da0-4f56-c396-d525caee25d2"
      },
      "execution_count": null,
      "outputs": [
        {
          "output_type": "execute_result",
          "data": {
            "text/plain": [
              "   index  Home Ownership\n",
              "0      1            3649\n",
              "1      0            3204\n",
              "2      2             647"
            ],
            "text/html": [
              "\n",
              "  <div id=\"df-92738ab8-ca7b-4494-ba80-e152dfd633e5\">\n",
              "    <div class=\"colab-df-container\">\n",
              "      <div>\n",
              "<style scoped>\n",
              "    .dataframe tbody tr th:only-of-type {\n",
              "        vertical-align: middle;\n",
              "    }\n",
              "\n",
              "    .dataframe tbody tr th {\n",
              "        vertical-align: top;\n",
              "    }\n",
              "\n",
              "    .dataframe thead th {\n",
              "        text-align: right;\n",
              "    }\n",
              "</style>\n",
              "<table border=\"1\" class=\"dataframe\">\n",
              "  <thead>\n",
              "    <tr style=\"text-align: right;\">\n",
              "      <th></th>\n",
              "      <th>index</th>\n",
              "      <th>Home Ownership</th>\n",
              "    </tr>\n",
              "  </thead>\n",
              "  <tbody>\n",
              "    <tr>\n",
              "      <th>0</th>\n",
              "      <td>1</td>\n",
              "      <td>3649</td>\n",
              "    </tr>\n",
              "    <tr>\n",
              "      <th>1</th>\n",
              "      <td>0</td>\n",
              "      <td>3204</td>\n",
              "    </tr>\n",
              "    <tr>\n",
              "      <th>2</th>\n",
              "      <td>2</td>\n",
              "      <td>647</td>\n",
              "    </tr>\n",
              "  </tbody>\n",
              "</table>\n",
              "</div>\n",
              "      <button class=\"colab-df-convert\" onclick=\"convertToInteractive('df-92738ab8-ca7b-4494-ba80-e152dfd633e5')\"\n",
              "              title=\"Convert this dataframe to an interactive table.\"\n",
              "              style=\"display:none;\">\n",
              "        \n",
              "  <svg xmlns=\"http://www.w3.org/2000/svg\" height=\"24px\"viewBox=\"0 0 24 24\"\n",
              "       width=\"24px\">\n",
              "    <path d=\"M0 0h24v24H0V0z\" fill=\"none\"/>\n",
              "    <path d=\"M18.56 5.44l.94 2.06.94-2.06 2.06-.94-2.06-.94-.94-2.06-.94 2.06-2.06.94zm-11 1L8.5 8.5l.94-2.06 2.06-.94-2.06-.94L8.5 2.5l-.94 2.06-2.06.94zm10 10l.94 2.06.94-2.06 2.06-.94-2.06-.94-.94-2.06-.94 2.06-2.06.94z\"/><path d=\"M17.41 7.96l-1.37-1.37c-.4-.4-.92-.59-1.43-.59-.52 0-1.04.2-1.43.59L10.3 9.45l-7.72 7.72c-.78.78-.78 2.05 0 2.83L4 21.41c.39.39.9.59 1.41.59.51 0 1.02-.2 1.41-.59l7.78-7.78 2.81-2.81c.8-.78.8-2.07 0-2.86zM5.41 20L4 18.59l7.72-7.72 1.47 1.35L5.41 20z\"/>\n",
              "  </svg>\n",
              "      </button>\n",
              "      \n",
              "  <style>\n",
              "    .colab-df-container {\n",
              "      display:flex;\n",
              "      flex-wrap:wrap;\n",
              "      gap: 12px;\n",
              "    }\n",
              "\n",
              "    .colab-df-convert {\n",
              "      background-color: #E8F0FE;\n",
              "      border: none;\n",
              "      border-radius: 50%;\n",
              "      cursor: pointer;\n",
              "      display: none;\n",
              "      fill: #1967D2;\n",
              "      height: 32px;\n",
              "      padding: 0 0 0 0;\n",
              "      width: 32px;\n",
              "    }\n",
              "\n",
              "    .colab-df-convert:hover {\n",
              "      background-color: #E2EBFA;\n",
              "      box-shadow: 0px 1px 2px rgba(60, 64, 67, 0.3), 0px 1px 3px 1px rgba(60, 64, 67, 0.15);\n",
              "      fill: #174EA6;\n",
              "    }\n",
              "\n",
              "    [theme=dark] .colab-df-convert {\n",
              "      background-color: #3B4455;\n",
              "      fill: #D2E3FC;\n",
              "    }\n",
              "\n",
              "    [theme=dark] .colab-df-convert:hover {\n",
              "      background-color: #434B5C;\n",
              "      box-shadow: 0px 1px 3px 1px rgba(0, 0, 0, 0.15);\n",
              "      filter: drop-shadow(0px 1px 2px rgba(0, 0, 0, 0.3));\n",
              "      fill: #FFFFFF;\n",
              "    }\n",
              "  </style>\n",
              "\n",
              "      <script>\n",
              "        const buttonEl =\n",
              "          document.querySelector('#df-92738ab8-ca7b-4494-ba80-e152dfd633e5 button.colab-df-convert');\n",
              "        buttonEl.style.display =\n",
              "          google.colab.kernel.accessAllowed ? 'block' : 'none';\n",
              "\n",
              "        async function convertToInteractive(key) {\n",
              "          const element = document.querySelector('#df-92738ab8-ca7b-4494-ba80-e152dfd633e5');\n",
              "          const dataTable =\n",
              "            await google.colab.kernel.invokeFunction('convertToInteractive',\n",
              "                                                     [key], {});\n",
              "          if (!dataTable) return;\n",
              "\n",
              "          const docLinkHtml = 'Like what you see? Visit the ' +\n",
              "            '<a target=\"_blank\" href=https://colab.research.google.com/notebooks/data_table.ipynb>data table notebook</a>'\n",
              "            + ' to learn more about interactive tables.';\n",
              "          element.innerHTML = '';\n",
              "          dataTable['output_type'] = 'display_data';\n",
              "          await google.colab.output.renderOutput(dataTable, element);\n",
              "          const docLink = document.createElement('div');\n",
              "          docLink.innerHTML = docLinkHtml;\n",
              "          element.appendChild(docLink);\n",
              "        }\n",
              "      </script>\n",
              "    </div>\n",
              "  </div>\n",
              "  "
            ]
          },
          "metadata": {},
          "execution_count": 58
        }
      ]
    },
    {
      "cell_type": "markdown",
      "source": [
        "Years in current job"
      ],
      "metadata": {
        "id": "sNl74ivML_sP"
      }
    },
    {
      "cell_type": "code",
      "source": [
        "df_train['Years in current job'].value_counts().reset_index()"
      ],
      "metadata": {
        "colab": {
          "base_uri": "https://localhost:8080/"
        },
        "id": "32OZ_UJPMADQ",
        "outputId": "63c3a408-5e2f-41fd-84a9-5e41ec087fd0"
      },
      "execution_count": null,
      "outputs": [
        {
          "output_type": "execute_result",
          "data": {
            "text/plain": [
              "        index  Years in current job\n",
              "0   10+ years                  2332\n",
              "1     2 years                   705\n",
              "2     3 years                   620\n",
              "3    < 1 year                   563\n",
              "4     5 years                   516\n",
              "5      1 year                   504\n",
              "6     4 years                   469\n",
              "7     6 years                   426\n",
              "8     7 years                   396\n",
              "9     8 years                   339\n",
              "10    9 years                   259"
            ],
            "text/html": [
              "\n",
              "  <div id=\"df-422b3f78-74ff-4c5c-ab2e-23e87b2d1d97\">\n",
              "    <div class=\"colab-df-container\">\n",
              "      <div>\n",
              "<style scoped>\n",
              "    .dataframe tbody tr th:only-of-type {\n",
              "        vertical-align: middle;\n",
              "    }\n",
              "\n",
              "    .dataframe tbody tr th {\n",
              "        vertical-align: top;\n",
              "    }\n",
              "\n",
              "    .dataframe thead th {\n",
              "        text-align: right;\n",
              "    }\n",
              "</style>\n",
              "<table border=\"1\" class=\"dataframe\">\n",
              "  <thead>\n",
              "    <tr style=\"text-align: right;\">\n",
              "      <th></th>\n",
              "      <th>index</th>\n",
              "      <th>Years in current job</th>\n",
              "    </tr>\n",
              "  </thead>\n",
              "  <tbody>\n",
              "    <tr>\n",
              "      <th>0</th>\n",
              "      <td>10+ years</td>\n",
              "      <td>2332</td>\n",
              "    </tr>\n",
              "    <tr>\n",
              "      <th>1</th>\n",
              "      <td>2 years</td>\n",
              "      <td>705</td>\n",
              "    </tr>\n",
              "    <tr>\n",
              "      <th>2</th>\n",
              "      <td>3 years</td>\n",
              "      <td>620</td>\n",
              "    </tr>\n",
              "    <tr>\n",
              "      <th>3</th>\n",
              "      <td>&lt; 1 year</td>\n",
              "      <td>563</td>\n",
              "    </tr>\n",
              "    <tr>\n",
              "      <th>4</th>\n",
              "      <td>5 years</td>\n",
              "      <td>516</td>\n",
              "    </tr>\n",
              "    <tr>\n",
              "      <th>5</th>\n",
              "      <td>1 year</td>\n",
              "      <td>504</td>\n",
              "    </tr>\n",
              "    <tr>\n",
              "      <th>6</th>\n",
              "      <td>4 years</td>\n",
              "      <td>469</td>\n",
              "    </tr>\n",
              "    <tr>\n",
              "      <th>7</th>\n",
              "      <td>6 years</td>\n",
              "      <td>426</td>\n",
              "    </tr>\n",
              "    <tr>\n",
              "      <th>8</th>\n",
              "      <td>7 years</td>\n",
              "      <td>396</td>\n",
              "    </tr>\n",
              "    <tr>\n",
              "      <th>9</th>\n",
              "      <td>8 years</td>\n",
              "      <td>339</td>\n",
              "    </tr>\n",
              "    <tr>\n",
              "      <th>10</th>\n",
              "      <td>9 years</td>\n",
              "      <td>259</td>\n",
              "    </tr>\n",
              "  </tbody>\n",
              "</table>\n",
              "</div>\n",
              "      <button class=\"colab-df-convert\" onclick=\"convertToInteractive('df-422b3f78-74ff-4c5c-ab2e-23e87b2d1d97')\"\n",
              "              title=\"Convert this dataframe to an interactive table.\"\n",
              "              style=\"display:none;\">\n",
              "        \n",
              "  <svg xmlns=\"http://www.w3.org/2000/svg\" height=\"24px\"viewBox=\"0 0 24 24\"\n",
              "       width=\"24px\">\n",
              "    <path d=\"M0 0h24v24H0V0z\" fill=\"none\"/>\n",
              "    <path d=\"M18.56 5.44l.94 2.06.94-2.06 2.06-.94-2.06-.94-.94-2.06-.94 2.06-2.06.94zm-11 1L8.5 8.5l.94-2.06 2.06-.94-2.06-.94L8.5 2.5l-.94 2.06-2.06.94zm10 10l.94 2.06.94-2.06 2.06-.94-2.06-.94-.94-2.06-.94 2.06-2.06.94z\"/><path d=\"M17.41 7.96l-1.37-1.37c-.4-.4-.92-.59-1.43-.59-.52 0-1.04.2-1.43.59L10.3 9.45l-7.72 7.72c-.78.78-.78 2.05 0 2.83L4 21.41c.39.39.9.59 1.41.59.51 0 1.02-.2 1.41-.59l7.78-7.78 2.81-2.81c.8-.78.8-2.07 0-2.86zM5.41 20L4 18.59l7.72-7.72 1.47 1.35L5.41 20z\"/>\n",
              "  </svg>\n",
              "      </button>\n",
              "      \n",
              "  <style>\n",
              "    .colab-df-container {\n",
              "      display:flex;\n",
              "      flex-wrap:wrap;\n",
              "      gap: 12px;\n",
              "    }\n",
              "\n",
              "    .colab-df-convert {\n",
              "      background-color: #E8F0FE;\n",
              "      border: none;\n",
              "      border-radius: 50%;\n",
              "      cursor: pointer;\n",
              "      display: none;\n",
              "      fill: #1967D2;\n",
              "      height: 32px;\n",
              "      padding: 0 0 0 0;\n",
              "      width: 32px;\n",
              "    }\n",
              "\n",
              "    .colab-df-convert:hover {\n",
              "      background-color: #E2EBFA;\n",
              "      box-shadow: 0px 1px 2px rgba(60, 64, 67, 0.3), 0px 1px 3px 1px rgba(60, 64, 67, 0.15);\n",
              "      fill: #174EA6;\n",
              "    }\n",
              "\n",
              "    [theme=dark] .colab-df-convert {\n",
              "      background-color: #3B4455;\n",
              "      fill: #D2E3FC;\n",
              "    }\n",
              "\n",
              "    [theme=dark] .colab-df-convert:hover {\n",
              "      background-color: #434B5C;\n",
              "      box-shadow: 0px 1px 3px 1px rgba(0, 0, 0, 0.15);\n",
              "      filter: drop-shadow(0px 1px 2px rgba(0, 0, 0, 0.3));\n",
              "      fill: #FFFFFF;\n",
              "    }\n",
              "  </style>\n",
              "\n",
              "      <script>\n",
              "        const buttonEl =\n",
              "          document.querySelector('#df-422b3f78-74ff-4c5c-ab2e-23e87b2d1d97 button.colab-df-convert');\n",
              "        buttonEl.style.display =\n",
              "          google.colab.kernel.accessAllowed ? 'block' : 'none';\n",
              "\n",
              "        async function convertToInteractive(key) {\n",
              "          const element = document.querySelector('#df-422b3f78-74ff-4c5c-ab2e-23e87b2d1d97');\n",
              "          const dataTable =\n",
              "            await google.colab.kernel.invokeFunction('convertToInteractive',\n",
              "                                                     [key], {});\n",
              "          if (!dataTable) return;\n",
              "\n",
              "          const docLinkHtml = 'Like what you see? Visit the ' +\n",
              "            '<a target=\"_blank\" href=https://colab.research.google.com/notebooks/data_table.ipynb>data table notebook</a>'\n",
              "            + ' to learn more about interactive tables.';\n",
              "          element.innerHTML = '';\n",
              "          dataTable['output_type'] = 'display_data';\n",
              "          await google.colab.output.renderOutput(dataTable, element);\n",
              "          const docLink = document.createElement('div');\n",
              "          docLink.innerHTML = docLinkHtml;\n",
              "          element.appendChild(docLink);\n",
              "        }\n",
              "      </script>\n",
              "    </div>\n",
              "  </div>\n",
              "  "
            ]
          },
          "metadata": {},
          "execution_count": 59
        }
      ]
    },
    {
      "cell_type": "code",
      "source": [
        "year_to_numbers = {'< 1 year' : 0, '1 year' : 1, '2 years' : 1, '3 years' : 2, '4 years' : 2, '5 years' : 2, '6 years' : 3, '7 years' : 3, '8 years' : 3, '9 years' : 3, '10 years' : 3, '10+ years' : 4}"
      ],
      "metadata": {
        "id": "HjnzggQQMZr_"
      },
      "execution_count": null,
      "outputs": []
    },
    {
      "cell_type": "code",
      "source": [
        "df_train['Years in current job'] = df_train['Years in current job'].replace(year_to_numbers)"
      ],
      "metadata": {
        "id": "dzc0oyHMNZZC"
      },
      "execution_count": null,
      "outputs": []
    },
    {
      "cell_type": "code",
      "source": [
        "df_train['Years in current job'].value_counts().reset_index()"
      ],
      "metadata": {
        "colab": {
          "base_uri": "https://localhost:8080/"
        },
        "id": "4GrblmuiNiun",
        "outputId": "80052f4a-b79b-4fb8-f878-4108f6169f31"
      },
      "execution_count": null,
      "outputs": [
        {
          "output_type": "execute_result",
          "data": {
            "text/plain": [
              "   index  Years in current job\n",
              "0    4.0                  2332\n",
              "1    2.0                  1605\n",
              "2    3.0                  1420\n",
              "3    1.0                  1209\n",
              "4    0.0                   563"
            ],
            "text/html": [
              "\n",
              "  <div id=\"df-26dd6db1-8ea7-4a8c-a8be-35ca8ca2fe53\">\n",
              "    <div class=\"colab-df-container\">\n",
              "      <div>\n",
              "<style scoped>\n",
              "    .dataframe tbody tr th:only-of-type {\n",
              "        vertical-align: middle;\n",
              "    }\n",
              "\n",
              "    .dataframe tbody tr th {\n",
              "        vertical-align: top;\n",
              "    }\n",
              "\n",
              "    .dataframe thead th {\n",
              "        text-align: right;\n",
              "    }\n",
              "</style>\n",
              "<table border=\"1\" class=\"dataframe\">\n",
              "  <thead>\n",
              "    <tr style=\"text-align: right;\">\n",
              "      <th></th>\n",
              "      <th>index</th>\n",
              "      <th>Years in current job</th>\n",
              "    </tr>\n",
              "  </thead>\n",
              "  <tbody>\n",
              "    <tr>\n",
              "      <th>0</th>\n",
              "      <td>4.0</td>\n",
              "      <td>2332</td>\n",
              "    </tr>\n",
              "    <tr>\n",
              "      <th>1</th>\n",
              "      <td>2.0</td>\n",
              "      <td>1605</td>\n",
              "    </tr>\n",
              "    <tr>\n",
              "      <th>2</th>\n",
              "      <td>3.0</td>\n",
              "      <td>1420</td>\n",
              "    </tr>\n",
              "    <tr>\n",
              "      <th>3</th>\n",
              "      <td>1.0</td>\n",
              "      <td>1209</td>\n",
              "    </tr>\n",
              "    <tr>\n",
              "      <th>4</th>\n",
              "      <td>0.0</td>\n",
              "      <td>563</td>\n",
              "    </tr>\n",
              "  </tbody>\n",
              "</table>\n",
              "</div>\n",
              "      <button class=\"colab-df-convert\" onclick=\"convertToInteractive('df-26dd6db1-8ea7-4a8c-a8be-35ca8ca2fe53')\"\n",
              "              title=\"Convert this dataframe to an interactive table.\"\n",
              "              style=\"display:none;\">\n",
              "        \n",
              "  <svg xmlns=\"http://www.w3.org/2000/svg\" height=\"24px\"viewBox=\"0 0 24 24\"\n",
              "       width=\"24px\">\n",
              "    <path d=\"M0 0h24v24H0V0z\" fill=\"none\"/>\n",
              "    <path d=\"M18.56 5.44l.94 2.06.94-2.06 2.06-.94-2.06-.94-.94-2.06-.94 2.06-2.06.94zm-11 1L8.5 8.5l.94-2.06 2.06-.94-2.06-.94L8.5 2.5l-.94 2.06-2.06.94zm10 10l.94 2.06.94-2.06 2.06-.94-2.06-.94-.94-2.06-.94 2.06-2.06.94z\"/><path d=\"M17.41 7.96l-1.37-1.37c-.4-.4-.92-.59-1.43-.59-.52 0-1.04.2-1.43.59L10.3 9.45l-7.72 7.72c-.78.78-.78 2.05 0 2.83L4 21.41c.39.39.9.59 1.41.59.51 0 1.02-.2 1.41-.59l7.78-7.78 2.81-2.81c.8-.78.8-2.07 0-2.86zM5.41 20L4 18.59l7.72-7.72 1.47 1.35L5.41 20z\"/>\n",
              "  </svg>\n",
              "      </button>\n",
              "      \n",
              "  <style>\n",
              "    .colab-df-container {\n",
              "      display:flex;\n",
              "      flex-wrap:wrap;\n",
              "      gap: 12px;\n",
              "    }\n",
              "\n",
              "    .colab-df-convert {\n",
              "      background-color: #E8F0FE;\n",
              "      border: none;\n",
              "      border-radius: 50%;\n",
              "      cursor: pointer;\n",
              "      display: none;\n",
              "      fill: #1967D2;\n",
              "      height: 32px;\n",
              "      padding: 0 0 0 0;\n",
              "      width: 32px;\n",
              "    }\n",
              "\n",
              "    .colab-df-convert:hover {\n",
              "      background-color: #E2EBFA;\n",
              "      box-shadow: 0px 1px 2px rgba(60, 64, 67, 0.3), 0px 1px 3px 1px rgba(60, 64, 67, 0.15);\n",
              "      fill: #174EA6;\n",
              "    }\n",
              "\n",
              "    [theme=dark] .colab-df-convert {\n",
              "      background-color: #3B4455;\n",
              "      fill: #D2E3FC;\n",
              "    }\n",
              "\n",
              "    [theme=dark] .colab-df-convert:hover {\n",
              "      background-color: #434B5C;\n",
              "      box-shadow: 0px 1px 3px 1px rgba(0, 0, 0, 0.15);\n",
              "      filter: drop-shadow(0px 1px 2px rgba(0, 0, 0, 0.3));\n",
              "      fill: #FFFFFF;\n",
              "    }\n",
              "  </style>\n",
              "\n",
              "      <script>\n",
              "        const buttonEl =\n",
              "          document.querySelector('#df-26dd6db1-8ea7-4a8c-a8be-35ca8ca2fe53 button.colab-df-convert');\n",
              "        buttonEl.style.display =\n",
              "          google.colab.kernel.accessAllowed ? 'block' : 'none';\n",
              "\n",
              "        async function convertToInteractive(key) {\n",
              "          const element = document.querySelector('#df-26dd6db1-8ea7-4a8c-a8be-35ca8ca2fe53');\n",
              "          const dataTable =\n",
              "            await google.colab.kernel.invokeFunction('convertToInteractive',\n",
              "                                                     [key], {});\n",
              "          if (!dataTable) return;\n",
              "\n",
              "          const docLinkHtml = 'Like what you see? Visit the ' +\n",
              "            '<a target=\"_blank\" href=https://colab.research.google.com/notebooks/data_table.ipynb>data table notebook</a>'\n",
              "            + ' to learn more about interactive tables.';\n",
              "          element.innerHTML = '';\n",
              "          dataTable['output_type'] = 'display_data';\n",
              "          await google.colab.output.renderOutput(dataTable, element);\n",
              "          const docLink = document.createElement('div');\n",
              "          docLink.innerHTML = docLinkHtml;\n",
              "          element.appendChild(docLink);\n",
              "        }\n",
              "      </script>\n",
              "    </div>\n",
              "  </div>\n",
              "  "
            ]
          },
          "metadata": {},
          "execution_count": 62
        }
      ]
    },
    {
      "cell_type": "code",
      "source": [
        "# заполнение пропусков\n",
        "df_train.loc[df_train['Years in current job'].isna(), 'Years in current job'] = 2"
      ],
      "metadata": {
        "id": "b2n7zPYCOLDY"
      },
      "execution_count": null,
      "outputs": []
    },
    {
      "cell_type": "code",
      "source": [
        "df_train['Years in current job'].isna().sum()"
      ],
      "metadata": {
        "colab": {
          "base_uri": "https://localhost:8080/"
        },
        "id": "0jtq4BbbOh7h",
        "outputId": "e4bcf723-abf9-4d28-ab81-771a9bf3c7f2"
      },
      "execution_count": null,
      "outputs": [
        {
          "output_type": "execute_result",
          "data": {
            "text/plain": [
              "0"
            ]
          },
          "metadata": {},
          "execution_count": 64
        }
      ]
    },
    {
      "cell_type": "markdown",
      "source": [
        "Purpose - цель кредита"
      ],
      "metadata": {
        "id": "CLYElGEMPBWO"
      }
    },
    {
      "cell_type": "code",
      "source": [
        "df_train['Purpose'].value_counts().reset_index()"
      ],
      "metadata": {
        "colab": {
          "base_uri": "https://localhost:8080/"
        },
        "id": "PhQ27RKtPAiB",
        "outputId": "46daf1b8-c4fe-46a9-faee-95e487ced97e"
      },
      "execution_count": null,
      "outputs": [
        {
          "output_type": "execute_result",
          "data": {
            "text/plain": [
              "                   index  Purpose\n",
              "0     debt consolidation     5944\n",
              "1                  other      665\n",
              "2      home improvements      412\n",
              "3          business loan      129\n",
              "4              buy a car       96\n",
              "5          medical bills       71\n",
              "6         major purchase       40\n",
              "7            take a trip       37\n",
              "8              buy house       34\n",
              "9         small business       26\n",
              "10               wedding       15\n",
              "11                moving       11\n",
              "12  educational expenses       10\n",
              "13              vacation        8\n",
              "14      renewable energy        2"
            ],
            "text/html": [
              "\n",
              "  <div id=\"df-84c0b54c-87b4-4b57-b99c-db756d2ae67a\">\n",
              "    <div class=\"colab-df-container\">\n",
              "      <div>\n",
              "<style scoped>\n",
              "    .dataframe tbody tr th:only-of-type {\n",
              "        vertical-align: middle;\n",
              "    }\n",
              "\n",
              "    .dataframe tbody tr th {\n",
              "        vertical-align: top;\n",
              "    }\n",
              "\n",
              "    .dataframe thead th {\n",
              "        text-align: right;\n",
              "    }\n",
              "</style>\n",
              "<table border=\"1\" class=\"dataframe\">\n",
              "  <thead>\n",
              "    <tr style=\"text-align: right;\">\n",
              "      <th></th>\n",
              "      <th>index</th>\n",
              "      <th>Purpose</th>\n",
              "    </tr>\n",
              "  </thead>\n",
              "  <tbody>\n",
              "    <tr>\n",
              "      <th>0</th>\n",
              "      <td>debt consolidation</td>\n",
              "      <td>5944</td>\n",
              "    </tr>\n",
              "    <tr>\n",
              "      <th>1</th>\n",
              "      <td>other</td>\n",
              "      <td>665</td>\n",
              "    </tr>\n",
              "    <tr>\n",
              "      <th>2</th>\n",
              "      <td>home improvements</td>\n",
              "      <td>412</td>\n",
              "    </tr>\n",
              "    <tr>\n",
              "      <th>3</th>\n",
              "      <td>business loan</td>\n",
              "      <td>129</td>\n",
              "    </tr>\n",
              "    <tr>\n",
              "      <th>4</th>\n",
              "      <td>buy a car</td>\n",
              "      <td>96</td>\n",
              "    </tr>\n",
              "    <tr>\n",
              "      <th>5</th>\n",
              "      <td>medical bills</td>\n",
              "      <td>71</td>\n",
              "    </tr>\n",
              "    <tr>\n",
              "      <th>6</th>\n",
              "      <td>major purchase</td>\n",
              "      <td>40</td>\n",
              "    </tr>\n",
              "    <tr>\n",
              "      <th>7</th>\n",
              "      <td>take a trip</td>\n",
              "      <td>37</td>\n",
              "    </tr>\n",
              "    <tr>\n",
              "      <th>8</th>\n",
              "      <td>buy house</td>\n",
              "      <td>34</td>\n",
              "    </tr>\n",
              "    <tr>\n",
              "      <th>9</th>\n",
              "      <td>small business</td>\n",
              "      <td>26</td>\n",
              "    </tr>\n",
              "    <tr>\n",
              "      <th>10</th>\n",
              "      <td>wedding</td>\n",
              "      <td>15</td>\n",
              "    </tr>\n",
              "    <tr>\n",
              "      <th>11</th>\n",
              "      <td>moving</td>\n",
              "      <td>11</td>\n",
              "    </tr>\n",
              "    <tr>\n",
              "      <th>12</th>\n",
              "      <td>educational expenses</td>\n",
              "      <td>10</td>\n",
              "    </tr>\n",
              "    <tr>\n",
              "      <th>13</th>\n",
              "      <td>vacation</td>\n",
              "      <td>8</td>\n",
              "    </tr>\n",
              "    <tr>\n",
              "      <th>14</th>\n",
              "      <td>renewable energy</td>\n",
              "      <td>2</td>\n",
              "    </tr>\n",
              "  </tbody>\n",
              "</table>\n",
              "</div>\n",
              "      <button class=\"colab-df-convert\" onclick=\"convertToInteractive('df-84c0b54c-87b4-4b57-b99c-db756d2ae67a')\"\n",
              "              title=\"Convert this dataframe to an interactive table.\"\n",
              "              style=\"display:none;\">\n",
              "        \n",
              "  <svg xmlns=\"http://www.w3.org/2000/svg\" height=\"24px\"viewBox=\"0 0 24 24\"\n",
              "       width=\"24px\">\n",
              "    <path d=\"M0 0h24v24H0V0z\" fill=\"none\"/>\n",
              "    <path d=\"M18.56 5.44l.94 2.06.94-2.06 2.06-.94-2.06-.94-.94-2.06-.94 2.06-2.06.94zm-11 1L8.5 8.5l.94-2.06 2.06-.94-2.06-.94L8.5 2.5l-.94 2.06-2.06.94zm10 10l.94 2.06.94-2.06 2.06-.94-2.06-.94-.94-2.06-.94 2.06-2.06.94z\"/><path d=\"M17.41 7.96l-1.37-1.37c-.4-.4-.92-.59-1.43-.59-.52 0-1.04.2-1.43.59L10.3 9.45l-7.72 7.72c-.78.78-.78 2.05 0 2.83L4 21.41c.39.39.9.59 1.41.59.51 0 1.02-.2 1.41-.59l7.78-7.78 2.81-2.81c.8-.78.8-2.07 0-2.86zM5.41 20L4 18.59l7.72-7.72 1.47 1.35L5.41 20z\"/>\n",
              "  </svg>\n",
              "      </button>\n",
              "      \n",
              "  <style>\n",
              "    .colab-df-container {\n",
              "      display:flex;\n",
              "      flex-wrap:wrap;\n",
              "      gap: 12px;\n",
              "    }\n",
              "\n",
              "    .colab-df-convert {\n",
              "      background-color: #E8F0FE;\n",
              "      border: none;\n",
              "      border-radius: 50%;\n",
              "      cursor: pointer;\n",
              "      display: none;\n",
              "      fill: #1967D2;\n",
              "      height: 32px;\n",
              "      padding: 0 0 0 0;\n",
              "      width: 32px;\n",
              "    }\n",
              "\n",
              "    .colab-df-convert:hover {\n",
              "      background-color: #E2EBFA;\n",
              "      box-shadow: 0px 1px 2px rgba(60, 64, 67, 0.3), 0px 1px 3px 1px rgba(60, 64, 67, 0.15);\n",
              "      fill: #174EA6;\n",
              "    }\n",
              "\n",
              "    [theme=dark] .colab-df-convert {\n",
              "      background-color: #3B4455;\n",
              "      fill: #D2E3FC;\n",
              "    }\n",
              "\n",
              "    [theme=dark] .colab-df-convert:hover {\n",
              "      background-color: #434B5C;\n",
              "      box-shadow: 0px 1px 3px 1px rgba(0, 0, 0, 0.15);\n",
              "      filter: drop-shadow(0px 1px 2px rgba(0, 0, 0, 0.3));\n",
              "      fill: #FFFFFF;\n",
              "    }\n",
              "  </style>\n",
              "\n",
              "      <script>\n",
              "        const buttonEl =\n",
              "          document.querySelector('#df-84c0b54c-87b4-4b57-b99c-db756d2ae67a button.colab-df-convert');\n",
              "        buttonEl.style.display =\n",
              "          google.colab.kernel.accessAllowed ? 'block' : 'none';\n",
              "\n",
              "        async function convertToInteractive(key) {\n",
              "          const element = document.querySelector('#df-84c0b54c-87b4-4b57-b99c-db756d2ae67a');\n",
              "          const dataTable =\n",
              "            await google.colab.kernel.invokeFunction('convertToInteractive',\n",
              "                                                     [key], {});\n",
              "          if (!dataTable) return;\n",
              "\n",
              "          const docLinkHtml = 'Like what you see? Visit the ' +\n",
              "            '<a target=\"_blank\" href=https://colab.research.google.com/notebooks/data_table.ipynb>data table notebook</a>'\n",
              "            + ' to learn more about interactive tables.';\n",
              "          element.innerHTML = '';\n",
              "          dataTable['output_type'] = 'display_data';\n",
              "          await google.colab.output.renderOutput(dataTable, element);\n",
              "          const docLink = document.createElement('div');\n",
              "          docLink.innerHTML = docLinkHtml;\n",
              "          element.appendChild(docLink);\n",
              "        }\n",
              "      </script>\n",
              "    </div>\n",
              "  </div>\n",
              "  "
            ]
          },
          "metadata": {},
          "execution_count": 65
        }
      ]
    },
    {
      "cell_type": "code",
      "source": [
        "purpose_to_numbers = {'debt consolidation' : 0, 'other' : 1, 'wedding' : 1, 'moving' : 1, 'renewable energy' : 1, 'educational expenses' : 1,\n",
        "                      'home improvements' : 2, 'business loan' : 3, 'small business' : 3,\n",
        "                      'buy a car' : 4, 'medical bills' : 5, 'major purchase' : 6, 'take a trip' : 7, 'vacation' : 7, 'buy house' : 8}"
      ],
      "metadata": {
        "id": "bNvbd823QJf1"
      },
      "execution_count": null,
      "outputs": []
    },
    {
      "cell_type": "code",
      "source": [
        "df_train['Purpose'] = df_train['Purpose'].replace(purpose_to_numbers)"
      ],
      "metadata": {
        "id": "hHlsEN-1SrVN"
      },
      "execution_count": null,
      "outputs": []
    },
    {
      "cell_type": "code",
      "source": [
        "df_train['Purpose'].value_counts().reset_index()"
      ],
      "metadata": {
        "colab": {
          "base_uri": "https://localhost:8080/"
        },
        "id": "ReHLEZ6cSzyk",
        "outputId": "bef48416-fa38-4202-9de6-95953ef92f9d"
      },
      "execution_count": null,
      "outputs": [
        {
          "output_type": "execute_result",
          "data": {
            "text/plain": [
              "   index  Purpose\n",
              "0      0     5944\n",
              "1      1      703\n",
              "2      2      412\n",
              "3      3      155\n",
              "4      4       96\n",
              "5      5       71\n",
              "6      7       45\n",
              "7      6       40\n",
              "8      8       34"
            ],
            "text/html": [
              "\n",
              "  <div id=\"df-5be025fd-a329-43cc-b129-cd3b336fbb89\">\n",
              "    <div class=\"colab-df-container\">\n",
              "      <div>\n",
              "<style scoped>\n",
              "    .dataframe tbody tr th:only-of-type {\n",
              "        vertical-align: middle;\n",
              "    }\n",
              "\n",
              "    .dataframe tbody tr th {\n",
              "        vertical-align: top;\n",
              "    }\n",
              "\n",
              "    .dataframe thead th {\n",
              "        text-align: right;\n",
              "    }\n",
              "</style>\n",
              "<table border=\"1\" class=\"dataframe\">\n",
              "  <thead>\n",
              "    <tr style=\"text-align: right;\">\n",
              "      <th></th>\n",
              "      <th>index</th>\n",
              "      <th>Purpose</th>\n",
              "    </tr>\n",
              "  </thead>\n",
              "  <tbody>\n",
              "    <tr>\n",
              "      <th>0</th>\n",
              "      <td>0</td>\n",
              "      <td>5944</td>\n",
              "    </tr>\n",
              "    <tr>\n",
              "      <th>1</th>\n",
              "      <td>1</td>\n",
              "      <td>703</td>\n",
              "    </tr>\n",
              "    <tr>\n",
              "      <th>2</th>\n",
              "      <td>2</td>\n",
              "      <td>412</td>\n",
              "    </tr>\n",
              "    <tr>\n",
              "      <th>3</th>\n",
              "      <td>3</td>\n",
              "      <td>155</td>\n",
              "    </tr>\n",
              "    <tr>\n",
              "      <th>4</th>\n",
              "      <td>4</td>\n",
              "      <td>96</td>\n",
              "    </tr>\n",
              "    <tr>\n",
              "      <th>5</th>\n",
              "      <td>5</td>\n",
              "      <td>71</td>\n",
              "    </tr>\n",
              "    <tr>\n",
              "      <th>6</th>\n",
              "      <td>7</td>\n",
              "      <td>45</td>\n",
              "    </tr>\n",
              "    <tr>\n",
              "      <th>7</th>\n",
              "      <td>6</td>\n",
              "      <td>40</td>\n",
              "    </tr>\n",
              "    <tr>\n",
              "      <th>8</th>\n",
              "      <td>8</td>\n",
              "      <td>34</td>\n",
              "    </tr>\n",
              "  </tbody>\n",
              "</table>\n",
              "</div>\n",
              "      <button class=\"colab-df-convert\" onclick=\"convertToInteractive('df-5be025fd-a329-43cc-b129-cd3b336fbb89')\"\n",
              "              title=\"Convert this dataframe to an interactive table.\"\n",
              "              style=\"display:none;\">\n",
              "        \n",
              "  <svg xmlns=\"http://www.w3.org/2000/svg\" height=\"24px\"viewBox=\"0 0 24 24\"\n",
              "       width=\"24px\">\n",
              "    <path d=\"M0 0h24v24H0V0z\" fill=\"none\"/>\n",
              "    <path d=\"M18.56 5.44l.94 2.06.94-2.06 2.06-.94-2.06-.94-.94-2.06-.94 2.06-2.06.94zm-11 1L8.5 8.5l.94-2.06 2.06-.94-2.06-.94L8.5 2.5l-.94 2.06-2.06.94zm10 10l.94 2.06.94-2.06 2.06-.94-2.06-.94-.94-2.06-.94 2.06-2.06.94z\"/><path d=\"M17.41 7.96l-1.37-1.37c-.4-.4-.92-.59-1.43-.59-.52 0-1.04.2-1.43.59L10.3 9.45l-7.72 7.72c-.78.78-.78 2.05 0 2.83L4 21.41c.39.39.9.59 1.41.59.51 0 1.02-.2 1.41-.59l7.78-7.78 2.81-2.81c.8-.78.8-2.07 0-2.86zM5.41 20L4 18.59l7.72-7.72 1.47 1.35L5.41 20z\"/>\n",
              "  </svg>\n",
              "      </button>\n",
              "      \n",
              "  <style>\n",
              "    .colab-df-container {\n",
              "      display:flex;\n",
              "      flex-wrap:wrap;\n",
              "      gap: 12px;\n",
              "    }\n",
              "\n",
              "    .colab-df-convert {\n",
              "      background-color: #E8F0FE;\n",
              "      border: none;\n",
              "      border-radius: 50%;\n",
              "      cursor: pointer;\n",
              "      display: none;\n",
              "      fill: #1967D2;\n",
              "      height: 32px;\n",
              "      padding: 0 0 0 0;\n",
              "      width: 32px;\n",
              "    }\n",
              "\n",
              "    .colab-df-convert:hover {\n",
              "      background-color: #E2EBFA;\n",
              "      box-shadow: 0px 1px 2px rgba(60, 64, 67, 0.3), 0px 1px 3px 1px rgba(60, 64, 67, 0.15);\n",
              "      fill: #174EA6;\n",
              "    }\n",
              "\n",
              "    [theme=dark] .colab-df-convert {\n",
              "      background-color: #3B4455;\n",
              "      fill: #D2E3FC;\n",
              "    }\n",
              "\n",
              "    [theme=dark] .colab-df-convert:hover {\n",
              "      background-color: #434B5C;\n",
              "      box-shadow: 0px 1px 3px 1px rgba(0, 0, 0, 0.15);\n",
              "      filter: drop-shadow(0px 1px 2px rgba(0, 0, 0, 0.3));\n",
              "      fill: #FFFFFF;\n",
              "    }\n",
              "  </style>\n",
              "\n",
              "      <script>\n",
              "        const buttonEl =\n",
              "          document.querySelector('#df-5be025fd-a329-43cc-b129-cd3b336fbb89 button.colab-df-convert');\n",
              "        buttonEl.style.display =\n",
              "          google.colab.kernel.accessAllowed ? 'block' : 'none';\n",
              "\n",
              "        async function convertToInteractive(key) {\n",
              "          const element = document.querySelector('#df-5be025fd-a329-43cc-b129-cd3b336fbb89');\n",
              "          const dataTable =\n",
              "            await google.colab.kernel.invokeFunction('convertToInteractive',\n",
              "                                                     [key], {});\n",
              "          if (!dataTable) return;\n",
              "\n",
              "          const docLinkHtml = 'Like what you see? Visit the ' +\n",
              "            '<a target=\"_blank\" href=https://colab.research.google.com/notebooks/data_table.ipynb>data table notebook</a>'\n",
              "            + ' to learn more about interactive tables.';\n",
              "          element.innerHTML = '';\n",
              "          dataTable['output_type'] = 'display_data';\n",
              "          await google.colab.output.renderOutput(dataTable, element);\n",
              "          const docLink = document.createElement('div');\n",
              "          docLink.innerHTML = docLinkHtml;\n",
              "          element.appendChild(docLink);\n",
              "        }\n",
              "      </script>\n",
              "    </div>\n",
              "  </div>\n",
              "  "
            ]
          },
          "metadata": {},
          "execution_count": 68
        }
      ]
    },
    {
      "cell_type": "code",
      "source": [
        "df_train.head(10)"
      ],
      "metadata": {
        "colab": {
          "base_uri": "https://localhost:8080/"
        },
        "id": "WnZryZiqk6IZ",
        "outputId": "c01fbefb-bb99-47fc-ed4b-118b279b4745"
      },
      "execution_count": null,
      "outputs": [
        {
          "output_type": "execute_result",
          "data": {
            "text/plain": [
              "   Home Ownership  Annual Income  Years in current job  Tax Liens  \\\n",
              "0               2       482087.0                   2.0        0.0   \n",
              "1               2      1025487.0                   4.0        0.0   \n",
              "2               1       751412.0                   3.0        0.0   \n",
              "3               2       805068.0                   3.0        0.0   \n",
              "4               0       776264.0                   3.0        0.0   \n",
              "5               0      1168386.0                   3.0        0.0   \n",
              "6               1      1511108.0                   4.0        0.0   \n",
              "7               0      1040060.0                   4.0        0.0   \n",
              "8               1      1168386.0                   2.0        0.0   \n",
              "9               1      1168386.0                   1.0        0.0   \n",
              "\n",
              "   Number of Open Accounts  Years of Credit History  Maximum Open Credit  \\\n",
              "0                     11.0                     26.3             685960.0   \n",
              "1                     15.0                     15.3            1181730.0   \n",
              "2                     11.0                     35.0            1182434.0   \n",
              "3                      8.0                     22.5             147400.0   \n",
              "4                     13.0                     13.6             385836.0   \n",
              "5                     12.0                     14.6             366784.0   \n",
              "6                      9.0                     20.3             388124.0   \n",
              "7                     13.0                     12.0             330374.0   \n",
              "8                     17.0                     15.7                  0.0   \n",
              "9                     10.0                     24.6             511302.0   \n",
              "\n",
              "   Number of Credit Problems  Months since last delinquent  Bankruptcies  \\\n",
              "0                        1.0                           NaN           1.0   \n",
              "1                        0.0                           NaN           0.0   \n",
              "2                        0.0                           NaN           0.0   \n",
              "3                        1.0                           NaN           1.0   \n",
              "4                        1.0                           NaN           0.0   \n",
              "5                        0.0                           NaN           0.0   \n",
              "6                        0.0                          73.0           0.0   \n",
              "7                        0.0                          18.0           0.0   \n",
              "8                        1.0                           NaN           1.0   \n",
              "9                        0.0                           6.0           0.0   \n",
              "\n",
              "   Purpose  Term  Current Loan Amount  Current Credit Balance  Monthly Debt  \\\n",
              "0        0     0             309573.0                 47386.0        7914.0   \n",
              "1        0     1             264968.0                394972.0       18373.0   \n",
              "2        0     0             309573.0                308389.0       13651.0   \n",
              "3        0     0             121396.0                 95855.0       11338.0   \n",
              "4        0     0             125840.0                 93309.0        7180.0   \n",
              "5        1     1             337304.0                165680.0       18692.0   \n",
              "6        2     0             309573.0                 51623.0        2317.0   \n",
              "7        1     0             250888.0                 89015.0       19761.0   \n",
              "8        2     0             129734.0                    19.0          17.0   \n",
              "9        0     1             572880.0                205333.0       17613.0   \n",
              "\n",
              "   Credit Score  Credit Default  \n",
              "0         749.0               0  \n",
              "1         737.0               1  \n",
              "2         742.0               0  \n",
              "3         694.0               0  \n",
              "4         719.0               0  \n",
              "5           NaN               1  \n",
              "6         745.0               0  \n",
              "7         705.0               1  \n",
              "8           NaN               0  \n",
              "9           NaN               1  "
            ],
            "text/html": [
              "\n",
              "  <div id=\"df-20b6a992-4a66-401c-b147-9a9d496d2f60\">\n",
              "    <div class=\"colab-df-container\">\n",
              "      <div>\n",
              "<style scoped>\n",
              "    .dataframe tbody tr th:only-of-type {\n",
              "        vertical-align: middle;\n",
              "    }\n",
              "\n",
              "    .dataframe tbody tr th {\n",
              "        vertical-align: top;\n",
              "    }\n",
              "\n",
              "    .dataframe thead th {\n",
              "        text-align: right;\n",
              "    }\n",
              "</style>\n",
              "<table border=\"1\" class=\"dataframe\">\n",
              "  <thead>\n",
              "    <tr style=\"text-align: right;\">\n",
              "      <th></th>\n",
              "      <th>Home Ownership</th>\n",
              "      <th>Annual Income</th>\n",
              "      <th>Years in current job</th>\n",
              "      <th>Tax Liens</th>\n",
              "      <th>Number of Open Accounts</th>\n",
              "      <th>Years of Credit History</th>\n",
              "      <th>Maximum Open Credit</th>\n",
              "      <th>Number of Credit Problems</th>\n",
              "      <th>Months since last delinquent</th>\n",
              "      <th>Bankruptcies</th>\n",
              "      <th>Purpose</th>\n",
              "      <th>Term</th>\n",
              "      <th>Current Loan Amount</th>\n",
              "      <th>Current Credit Balance</th>\n",
              "      <th>Monthly Debt</th>\n",
              "      <th>Credit Score</th>\n",
              "      <th>Credit Default</th>\n",
              "    </tr>\n",
              "  </thead>\n",
              "  <tbody>\n",
              "    <tr>\n",
              "      <th>0</th>\n",
              "      <td>2</td>\n",
              "      <td>482087.0</td>\n",
              "      <td>2.0</td>\n",
              "      <td>0.0</td>\n",
              "      <td>11.0</td>\n",
              "      <td>26.3</td>\n",
              "      <td>685960.0</td>\n",
              "      <td>1.0</td>\n",
              "      <td>NaN</td>\n",
              "      <td>1.0</td>\n",
              "      <td>0</td>\n",
              "      <td>0</td>\n",
              "      <td>309573.0</td>\n",
              "      <td>47386.0</td>\n",
              "      <td>7914.0</td>\n",
              "      <td>749.0</td>\n",
              "      <td>0</td>\n",
              "    </tr>\n",
              "    <tr>\n",
              "      <th>1</th>\n",
              "      <td>2</td>\n",
              "      <td>1025487.0</td>\n",
              "      <td>4.0</td>\n",
              "      <td>0.0</td>\n",
              "      <td>15.0</td>\n",
              "      <td>15.3</td>\n",
              "      <td>1181730.0</td>\n",
              "      <td>0.0</td>\n",
              "      <td>NaN</td>\n",
              "      <td>0.0</td>\n",
              "      <td>0</td>\n",
              "      <td>1</td>\n",
              "      <td>264968.0</td>\n",
              "      <td>394972.0</td>\n",
              "      <td>18373.0</td>\n",
              "      <td>737.0</td>\n",
              "      <td>1</td>\n",
              "    </tr>\n",
              "    <tr>\n",
              "      <th>2</th>\n",
              "      <td>1</td>\n",
              "      <td>751412.0</td>\n",
              "      <td>3.0</td>\n",
              "      <td>0.0</td>\n",
              "      <td>11.0</td>\n",
              "      <td>35.0</td>\n",
              "      <td>1182434.0</td>\n",
              "      <td>0.0</td>\n",
              "      <td>NaN</td>\n",
              "      <td>0.0</td>\n",
              "      <td>0</td>\n",
              "      <td>0</td>\n",
              "      <td>309573.0</td>\n",
              "      <td>308389.0</td>\n",
              "      <td>13651.0</td>\n",
              "      <td>742.0</td>\n",
              "      <td>0</td>\n",
              "    </tr>\n",
              "    <tr>\n",
              "      <th>3</th>\n",
              "      <td>2</td>\n",
              "      <td>805068.0</td>\n",
              "      <td>3.0</td>\n",
              "      <td>0.0</td>\n",
              "      <td>8.0</td>\n",
              "      <td>22.5</td>\n",
              "      <td>147400.0</td>\n",
              "      <td>1.0</td>\n",
              "      <td>NaN</td>\n",
              "      <td>1.0</td>\n",
              "      <td>0</td>\n",
              "      <td>0</td>\n",
              "      <td>121396.0</td>\n",
              "      <td>95855.0</td>\n",
              "      <td>11338.0</td>\n",
              "      <td>694.0</td>\n",
              "      <td>0</td>\n",
              "    </tr>\n",
              "    <tr>\n",
              "      <th>4</th>\n",
              "      <td>0</td>\n",
              "      <td>776264.0</td>\n",
              "      <td>3.0</td>\n",
              "      <td>0.0</td>\n",
              "      <td>13.0</td>\n",
              "      <td>13.6</td>\n",
              "      <td>385836.0</td>\n",
              "      <td>1.0</td>\n",
              "      <td>NaN</td>\n",
              "      <td>0.0</td>\n",
              "      <td>0</td>\n",
              "      <td>0</td>\n",
              "      <td>125840.0</td>\n",
              "      <td>93309.0</td>\n",
              "      <td>7180.0</td>\n",
              "      <td>719.0</td>\n",
              "      <td>0</td>\n",
              "    </tr>\n",
              "    <tr>\n",
              "      <th>5</th>\n",
              "      <td>0</td>\n",
              "      <td>1168386.0</td>\n",
              "      <td>3.0</td>\n",
              "      <td>0.0</td>\n",
              "      <td>12.0</td>\n",
              "      <td>14.6</td>\n",
              "      <td>366784.0</td>\n",
              "      <td>0.0</td>\n",
              "      <td>NaN</td>\n",
              "      <td>0.0</td>\n",
              "      <td>1</td>\n",
              "      <td>1</td>\n",
              "      <td>337304.0</td>\n",
              "      <td>165680.0</td>\n",
              "      <td>18692.0</td>\n",
              "      <td>NaN</td>\n",
              "      <td>1</td>\n",
              "    </tr>\n",
              "    <tr>\n",
              "      <th>6</th>\n",
              "      <td>1</td>\n",
              "      <td>1511108.0</td>\n",
              "      <td>4.0</td>\n",
              "      <td>0.0</td>\n",
              "      <td>9.0</td>\n",
              "      <td>20.3</td>\n",
              "      <td>388124.0</td>\n",
              "      <td>0.0</td>\n",
              "      <td>73.0</td>\n",
              "      <td>0.0</td>\n",
              "      <td>2</td>\n",
              "      <td>0</td>\n",
              "      <td>309573.0</td>\n",
              "      <td>51623.0</td>\n",
              "      <td>2317.0</td>\n",
              "      <td>745.0</td>\n",
              "      <td>0</td>\n",
              "    </tr>\n",
              "    <tr>\n",
              "      <th>7</th>\n",
              "      <td>0</td>\n",
              "      <td>1040060.0</td>\n",
              "      <td>4.0</td>\n",
              "      <td>0.0</td>\n",
              "      <td>13.0</td>\n",
              "      <td>12.0</td>\n",
              "      <td>330374.0</td>\n",
              "      <td>0.0</td>\n",
              "      <td>18.0</td>\n",
              "      <td>0.0</td>\n",
              "      <td>1</td>\n",
              "      <td>0</td>\n",
              "      <td>250888.0</td>\n",
              "      <td>89015.0</td>\n",
              "      <td>19761.0</td>\n",
              "      <td>705.0</td>\n",
              "      <td>1</td>\n",
              "    </tr>\n",
              "    <tr>\n",
              "      <th>8</th>\n",
              "      <td>1</td>\n",
              "      <td>1168386.0</td>\n",
              "      <td>2.0</td>\n",
              "      <td>0.0</td>\n",
              "      <td>17.0</td>\n",
              "      <td>15.7</td>\n",
              "      <td>0.0</td>\n",
              "      <td>1.0</td>\n",
              "      <td>NaN</td>\n",
              "      <td>1.0</td>\n",
              "      <td>2</td>\n",
              "      <td>0</td>\n",
              "      <td>129734.0</td>\n",
              "      <td>19.0</td>\n",
              "      <td>17.0</td>\n",
              "      <td>NaN</td>\n",
              "      <td>0</td>\n",
              "    </tr>\n",
              "    <tr>\n",
              "      <th>9</th>\n",
              "      <td>1</td>\n",
              "      <td>1168386.0</td>\n",
              "      <td>1.0</td>\n",
              "      <td>0.0</td>\n",
              "      <td>10.0</td>\n",
              "      <td>24.6</td>\n",
              "      <td>511302.0</td>\n",
              "      <td>0.0</td>\n",
              "      <td>6.0</td>\n",
              "      <td>0.0</td>\n",
              "      <td>0</td>\n",
              "      <td>1</td>\n",
              "      <td>572880.0</td>\n",
              "      <td>205333.0</td>\n",
              "      <td>17613.0</td>\n",
              "      <td>NaN</td>\n",
              "      <td>1</td>\n",
              "    </tr>\n",
              "  </tbody>\n",
              "</table>\n",
              "</div>\n",
              "      <button class=\"colab-df-convert\" onclick=\"convertToInteractive('df-20b6a992-4a66-401c-b147-9a9d496d2f60')\"\n",
              "              title=\"Convert this dataframe to an interactive table.\"\n",
              "              style=\"display:none;\">\n",
              "        \n",
              "  <svg xmlns=\"http://www.w3.org/2000/svg\" height=\"24px\"viewBox=\"0 0 24 24\"\n",
              "       width=\"24px\">\n",
              "    <path d=\"M0 0h24v24H0V0z\" fill=\"none\"/>\n",
              "    <path d=\"M18.56 5.44l.94 2.06.94-2.06 2.06-.94-2.06-.94-.94-2.06-.94 2.06-2.06.94zm-11 1L8.5 8.5l.94-2.06 2.06-.94-2.06-.94L8.5 2.5l-.94 2.06-2.06.94zm10 10l.94 2.06.94-2.06 2.06-.94-2.06-.94-.94-2.06-.94 2.06-2.06.94z\"/><path d=\"M17.41 7.96l-1.37-1.37c-.4-.4-.92-.59-1.43-.59-.52 0-1.04.2-1.43.59L10.3 9.45l-7.72 7.72c-.78.78-.78 2.05 0 2.83L4 21.41c.39.39.9.59 1.41.59.51 0 1.02-.2 1.41-.59l7.78-7.78 2.81-2.81c.8-.78.8-2.07 0-2.86zM5.41 20L4 18.59l7.72-7.72 1.47 1.35L5.41 20z\"/>\n",
              "  </svg>\n",
              "      </button>\n",
              "      \n",
              "  <style>\n",
              "    .colab-df-container {\n",
              "      display:flex;\n",
              "      flex-wrap:wrap;\n",
              "      gap: 12px;\n",
              "    }\n",
              "\n",
              "    .colab-df-convert {\n",
              "      background-color: #E8F0FE;\n",
              "      border: none;\n",
              "      border-radius: 50%;\n",
              "      cursor: pointer;\n",
              "      display: none;\n",
              "      fill: #1967D2;\n",
              "      height: 32px;\n",
              "      padding: 0 0 0 0;\n",
              "      width: 32px;\n",
              "    }\n",
              "\n",
              "    .colab-df-convert:hover {\n",
              "      background-color: #E2EBFA;\n",
              "      box-shadow: 0px 1px 2px rgba(60, 64, 67, 0.3), 0px 1px 3px 1px rgba(60, 64, 67, 0.15);\n",
              "      fill: #174EA6;\n",
              "    }\n",
              "\n",
              "    [theme=dark] .colab-df-convert {\n",
              "      background-color: #3B4455;\n",
              "      fill: #D2E3FC;\n",
              "    }\n",
              "\n",
              "    [theme=dark] .colab-df-convert:hover {\n",
              "      background-color: #434B5C;\n",
              "      box-shadow: 0px 1px 3px 1px rgba(0, 0, 0, 0.15);\n",
              "      filter: drop-shadow(0px 1px 2px rgba(0, 0, 0, 0.3));\n",
              "      fill: #FFFFFF;\n",
              "    }\n",
              "  </style>\n",
              "\n",
              "      <script>\n",
              "        const buttonEl =\n",
              "          document.querySelector('#df-20b6a992-4a66-401c-b147-9a9d496d2f60 button.colab-df-convert');\n",
              "        buttonEl.style.display =\n",
              "          google.colab.kernel.accessAllowed ? 'block' : 'none';\n",
              "\n",
              "        async function convertToInteractive(key) {\n",
              "          const element = document.querySelector('#df-20b6a992-4a66-401c-b147-9a9d496d2f60');\n",
              "          const dataTable =\n",
              "            await google.colab.kernel.invokeFunction('convertToInteractive',\n",
              "                                                     [key], {});\n",
              "          if (!dataTable) return;\n",
              "\n",
              "          const docLinkHtml = 'Like what you see? Visit the ' +\n",
              "            '<a target=\"_blank\" href=https://colab.research.google.com/notebooks/data_table.ipynb>data table notebook</a>'\n",
              "            + ' to learn more about interactive tables.';\n",
              "          element.innerHTML = '';\n",
              "          dataTable['output_type'] = 'display_data';\n",
              "          await google.colab.output.renderOutput(dataTable, element);\n",
              "          const docLink = document.createElement('div');\n",
              "          docLink.innerHTML = docLinkHtml;\n",
              "          element.appendChild(docLink);\n",
              "        }\n",
              "      </script>\n",
              "    </div>\n",
              "  </div>\n",
              "  "
            ]
          },
          "metadata": {},
          "execution_count": 69
        }
      ]
    },
    {
      "cell_type": "markdown",
      "source": [
        "###**class DataPreprocessing**"
      ],
      "metadata": {
        "id": "B0c78qwJfI0b"
      }
    },
    {
      "cell_type": "code",
      "source": [
        "class DataPreprocessing:\n",
        "    \"\"\"Подготовка исходных данных\"\"\"\n",
        "\n",
        "    def __init__(self):\n",
        "        \"\"\"Параметры класса\"\"\"\n",
        "        self.medians = None\n",
        "        self.maximum_open_credit_quantile = None\n",
        "        self.current_credit_balance_quantile = None\n",
        "\n",
        "        \n",
        "    def fit(self, X, y=None):\n",
        "        \n",
        "        \"\"\"Сохранение статистик\"\"\"       \n",
        "        # Расчет медиан\n",
        "        self.medians = X.median()\n",
        "        self.maximum_open_credit_quantile = X['Maximum Open Credit'].quantile(.975)\n",
        "        self.current_credit_balance_quantile = X['Current Credit Balance'].quantile(.975)\n",
        "\n",
        "    \n",
        "    def transform(self, X):\n",
        "        \"\"\"Трансформация данных\"\"\"\n",
        "        \n",
        "        #Annual Income\n",
        "        X.loc[(X['Annual Income'] >= 4000000), 'Annual Income'] = self.medians['Annual Income']\n",
        "        X.loc[X['Annual Income'].isna(), 'Annual Income'] = self.medians['Annual Income']\n",
        "\n",
        "        #Tax Liens\n",
        "        X.loc[(X['Tax Liens'] > 3), 'Tax Liens'] = 3\n",
        "\n",
        "        #Number of Open Accounts\n",
        "        X.loc[(X['Number of Open Accounts'] >= 25) | (X['Number of Open Accounts'] == 0 ),\n",
        "             'Number of Open Accounts'] = self.medians['Number of Open Accounts']\n",
        "\n",
        "        #Years of Credit History\n",
        "        X.loc[(X['Years of Credit History'] >= 45), 'Years of Credit History'] = self.medians['Years of Credit History']\n",
        "\n",
        "        #Maximum Open Credit\n",
        "        condition = (X['Maximum Open Credit'].isna()) \\\n",
        "             | (X['Maximum Open Credit'] > self.maximum_open_credit_quantile)\n",
        "        \n",
        "        X.loc[condition, 'Maximum Open Credit'] = self.medians['Maximum Open Credit']\n",
        "\n",
        "        #Number of Credit Problems\n",
        "        X.loc[(X['Number of Credit Problems'] > 4), 'Number of Credit Problems'] = 4\n",
        "\n",
        "        #Current Loan Amount\n",
        "        X.loc[(X['Current Loan Amount'] > 1000000), 'Current Loan Amount'] = self.medians['Current Loan Amount']\n",
        "\n",
        "        #Current Credit Balance\n",
        "        condition = (X['Current Credit Balance'].isna()) \\\n",
        "             | (X['Current Credit Balance'] > self.current_credit_balance_quantile)\n",
        "        \n",
        "        X.loc[condition, 'Current Credit Balance'] = self.medians['Current Credit Balance']\n",
        "\n",
        "        #Monthly Debt\n",
        "        X.loc[(X['Monthly Debt'] > 80000), 'Monthly Debt'] = self.medians['Monthly Debt']\n",
        "\n",
        "        #Bankruptcies\n",
        "        X.loc[X['Bankruptcies'].isna(), 'Bankruptcies'] = 0\n",
        "\n",
        "        #Years in current job\n",
        "        X.loc[X['Years in current job'].isna(), 'Years in current job'] = '5 years'\n",
        "\n",
        "        X.fillna(self.medians, inplace=True)\n",
        "\n",
        "        return X"
      ],
      "metadata": {
        "id": "-ZGrTMm8xx9E"
      },
      "execution_count": null,
      "outputs": []
    },
    {
      "cell_type": "code",
      "source": [
        "class Recoder():\n",
        "    \"\"\"Перекодирование признаков\"\"\"\n",
        "    \n",
        "    def __init__(self):\n",
        "        self.binary_to_numbers = None\n",
        "        self.home_ownership_to_numbers = None\n",
        "        self.year_to_numbers = None\n",
        "        self.purpose_to_numbers = None\n",
        "        \n",
        "    def fit(self, X, y=None):\n",
        "        \n",
        "        #перекодирование качественных признаков\n",
        "        \n",
        "        self.binary_to_numbers= {'Short Term': 0, 'Long Term': 1}\n",
        "        self.home_ownership_to_numbers = {'Rent' : 0, 'Home Mortgage': 1, 'Have Mortgage': 1, 'Own Home' : 2}\n",
        "        self.year_to_numbers = {'< 1 year' : 0, '1 year' : 1, '2 years' : 1, '3 years' : 2, '4 years' : 2, '5 years' : 2,\n",
        "                                '6 years' : 3, '7 years' : 3, '8 years' : 3, '9 years' : 3, '10 years' : 3, '10+ years' : 4}\n",
        "        self.purpose_to_numbers = {'debt consolidation' : 0, 'other' : 1, 'wedding' : 1, 'moving' : 1, 'renewable energy' : 1, 'educational expenses' : 1,\n",
        "                      'home improvements' : 2, 'business loan' : 3, 'small business' : 3,\n",
        "                      'buy a car' : 4, 'medical bills' : 5, 'major purchase' : 6, 'take a trip' : 7, 'vacation' : 7, 'buy house' : 8}\n",
        "        \n",
        "    def transform(self, X):\n",
        "        #Term\n",
        "        X['Term'] = X['Term'].map(self.binary_to_numbers)\n",
        "\n",
        "        #Home Ownership\n",
        "        X['Home Ownership'] = X['Home Ownership'].map(self.home_ownership_to_numbers)\n",
        "\n",
        "        #Years in current job\n",
        "        X['Years in current job'] = X['Years in current job'].map(self.year_to_numbers)\n",
        "\n",
        "        #Purpose\n",
        "        X['Purpose'] = X['Purpose'].map(self.purpose_to_numbers)\n",
        "\n",
        "        return X"
      ],
      "metadata": {
        "id": "-ZvvGB1AY0Tp"
      },
      "execution_count": null,
      "outputs": []
    },
    {
      "cell_type": "markdown",
      "source": [
        "###**Подготовка данных**"
      ],
      "metadata": {
        "id": "yIZh0FHWnoOD"
      }
    },
    {
      "cell_type": "code",
      "source": [
        "df_train = pd.read_csv(TRAIN_DATASET_PATH)"
      ],
      "metadata": {
        "id": "70OWRfrDnxny"
      },
      "execution_count": null,
      "outputs": []
    },
    {
      "cell_type": "code",
      "source": [
        "df_train = df_train.drop(columns='Months since last delinquent') # признак не будет использован тк > 50% данных пропущено"
      ],
      "metadata": {
        "id": "nBkkeuRSnncq"
      },
      "execution_count": null,
      "outputs": []
    },
    {
      "cell_type": "code",
      "source": [
        "df_train = df_train.drop(columns='Credit Score') # не поняла признак, в описании датасета его нет"
      ],
      "metadata": {
        "id": "glBmfb3gop79"
      },
      "execution_count": null,
      "outputs": []
    },
    {
      "cell_type": "code",
      "source": [
        "preprocessor = DataPreprocessing()\n",
        "preprocessor.fit(df_train)\n",
        "\n",
        "df_train = preprocessor.transform(df_train)\n",
        "\n",
        "\n",
        "df_train.shape"
      ],
      "metadata": {
        "colab": {
          "base_uri": "https://localhost:8080/"
        },
        "id": "3g6NJSkGo61i",
        "outputId": "132b1293-1c63-4a82-e002-942c2257870a"
      },
      "execution_count": null,
      "outputs": [
        {
          "output_type": "execute_result",
          "data": {
            "text/plain": [
              "(7500, 15)"
            ]
          },
          "metadata": {},
          "execution_count": 295
        }
      ]
    },
    {
      "cell_type": "code",
      "source": [
        "recoder = Recoder()\n",
        "recoder.fit(df_train)\n",
        "\n",
        "df_train = recoder.transform(df_train)\n",
        "\n",
        "df_train.shape"
      ],
      "metadata": {
        "colab": {
          "base_uri": "https://localhost:8080/"
        },
        "id": "JuO17oSLpLsc",
        "outputId": "da4ead79-dadf-486a-8370-fba9a39556a2"
      },
      "execution_count": null,
      "outputs": [
        {
          "output_type": "execute_result",
          "data": {
            "text/plain": [
              "(7500, 15)"
            ]
          },
          "metadata": {},
          "execution_count": 296
        }
      ]
    },
    {
      "cell_type": "code",
      "source": [
        "df_train.isna().sum().sum()"
      ],
      "metadata": {
        "colab": {
          "base_uri": "https://localhost:8080/"
        },
        "id": "pCieJmpnp3x7",
        "outputId": "5d794b99-f42d-43d5-c334-90111b437553"
      },
      "execution_count": null,
      "outputs": [
        {
          "output_type": "execute_result",
          "data": {
            "text/plain": [
              "0"
            ]
          },
          "metadata": {},
          "execution_count": 297
        }
      ]
    },
    {
      "cell_type": "code",
      "source": [
        "df_train.head()"
      ],
      "metadata": {
        "colab": {
          "base_uri": "https://localhost:8080/",
          "height": 284
        },
        "id": "DB1D7XnnvO8k",
        "outputId": "08de7726-8c56-4e44-b0e3-e4dea672422b"
      },
      "execution_count": null,
      "outputs": [
        {
          "output_type": "execute_result",
          "data": {
            "text/plain": [
              "   Home Ownership  Annual Income  Years in current job  Tax Liens  \\\n",
              "0               2       482087.0                     2        0.0   \n",
              "1               2      1025487.0                     4        0.0   \n",
              "2               1       751412.0                     3        0.0   \n",
              "3               2       805068.0                     3        0.0   \n",
              "4               0       776264.0                     3        0.0   \n",
              "\n",
              "   Number of Open Accounts  Years of Credit History  Maximum Open Credit  \\\n",
              "0                     11.0                     26.3             685960.0   \n",
              "1                     15.0                     15.3            1181730.0   \n",
              "2                     11.0                     35.0            1182434.0   \n",
              "3                      8.0                     22.5             147400.0   \n",
              "4                     13.0                     13.6             385836.0   \n",
              "\n",
              "   Number of Credit Problems  Bankruptcies  Purpose  Term  \\\n",
              "0                        1.0           1.0        0     0   \n",
              "1                        0.0           0.0        0     1   \n",
              "2                        0.0           0.0        0     0   \n",
              "3                        1.0           1.0        0     0   \n",
              "4                        1.0           0.0        0     0   \n",
              "\n",
              "   Current Loan Amount  Current Credit Balance  Monthly Debt  Credit Default  \n",
              "0             309573.0                 47386.0        7914.0               0  \n",
              "1             264968.0                394972.0       18373.0               1  \n",
              "2             309573.0                308389.0       13651.0               0  \n",
              "3             121396.0                 95855.0       11338.0               0  \n",
              "4             125840.0                 93309.0        7180.0               0  "
            ],
            "text/html": [
              "\n",
              "  <div id=\"df-51b0070a-66d1-4071-93bf-67ec22890059\">\n",
              "    <div class=\"colab-df-container\">\n",
              "      <div>\n",
              "<style scoped>\n",
              "    .dataframe tbody tr th:only-of-type {\n",
              "        vertical-align: middle;\n",
              "    }\n",
              "\n",
              "    .dataframe tbody tr th {\n",
              "        vertical-align: top;\n",
              "    }\n",
              "\n",
              "    .dataframe thead th {\n",
              "        text-align: right;\n",
              "    }\n",
              "</style>\n",
              "<table border=\"1\" class=\"dataframe\">\n",
              "  <thead>\n",
              "    <tr style=\"text-align: right;\">\n",
              "      <th></th>\n",
              "      <th>Home Ownership</th>\n",
              "      <th>Annual Income</th>\n",
              "      <th>Years in current job</th>\n",
              "      <th>Tax Liens</th>\n",
              "      <th>Number of Open Accounts</th>\n",
              "      <th>Years of Credit History</th>\n",
              "      <th>Maximum Open Credit</th>\n",
              "      <th>Number of Credit Problems</th>\n",
              "      <th>Bankruptcies</th>\n",
              "      <th>Purpose</th>\n",
              "      <th>Term</th>\n",
              "      <th>Current Loan Amount</th>\n",
              "      <th>Current Credit Balance</th>\n",
              "      <th>Monthly Debt</th>\n",
              "      <th>Credit Default</th>\n",
              "    </tr>\n",
              "  </thead>\n",
              "  <tbody>\n",
              "    <tr>\n",
              "      <th>0</th>\n",
              "      <td>2</td>\n",
              "      <td>482087.0</td>\n",
              "      <td>2</td>\n",
              "      <td>0.0</td>\n",
              "      <td>11.0</td>\n",
              "      <td>26.3</td>\n",
              "      <td>685960.0</td>\n",
              "      <td>1.0</td>\n",
              "      <td>1.0</td>\n",
              "      <td>0</td>\n",
              "      <td>0</td>\n",
              "      <td>309573.0</td>\n",
              "      <td>47386.0</td>\n",
              "      <td>7914.0</td>\n",
              "      <td>0</td>\n",
              "    </tr>\n",
              "    <tr>\n",
              "      <th>1</th>\n",
              "      <td>2</td>\n",
              "      <td>1025487.0</td>\n",
              "      <td>4</td>\n",
              "      <td>0.0</td>\n",
              "      <td>15.0</td>\n",
              "      <td>15.3</td>\n",
              "      <td>1181730.0</td>\n",
              "      <td>0.0</td>\n",
              "      <td>0.0</td>\n",
              "      <td>0</td>\n",
              "      <td>1</td>\n",
              "      <td>264968.0</td>\n",
              "      <td>394972.0</td>\n",
              "      <td>18373.0</td>\n",
              "      <td>1</td>\n",
              "    </tr>\n",
              "    <tr>\n",
              "      <th>2</th>\n",
              "      <td>1</td>\n",
              "      <td>751412.0</td>\n",
              "      <td>3</td>\n",
              "      <td>0.0</td>\n",
              "      <td>11.0</td>\n",
              "      <td>35.0</td>\n",
              "      <td>1182434.0</td>\n",
              "      <td>0.0</td>\n",
              "      <td>0.0</td>\n",
              "      <td>0</td>\n",
              "      <td>0</td>\n",
              "      <td>309573.0</td>\n",
              "      <td>308389.0</td>\n",
              "      <td>13651.0</td>\n",
              "      <td>0</td>\n",
              "    </tr>\n",
              "    <tr>\n",
              "      <th>3</th>\n",
              "      <td>2</td>\n",
              "      <td>805068.0</td>\n",
              "      <td>3</td>\n",
              "      <td>0.0</td>\n",
              "      <td>8.0</td>\n",
              "      <td>22.5</td>\n",
              "      <td>147400.0</td>\n",
              "      <td>1.0</td>\n",
              "      <td>1.0</td>\n",
              "      <td>0</td>\n",
              "      <td>0</td>\n",
              "      <td>121396.0</td>\n",
              "      <td>95855.0</td>\n",
              "      <td>11338.0</td>\n",
              "      <td>0</td>\n",
              "    </tr>\n",
              "    <tr>\n",
              "      <th>4</th>\n",
              "      <td>0</td>\n",
              "      <td>776264.0</td>\n",
              "      <td>3</td>\n",
              "      <td>0.0</td>\n",
              "      <td>13.0</td>\n",
              "      <td>13.6</td>\n",
              "      <td>385836.0</td>\n",
              "      <td>1.0</td>\n",
              "      <td>0.0</td>\n",
              "      <td>0</td>\n",
              "      <td>0</td>\n",
              "      <td>125840.0</td>\n",
              "      <td>93309.0</td>\n",
              "      <td>7180.0</td>\n",
              "      <td>0</td>\n",
              "    </tr>\n",
              "  </tbody>\n",
              "</table>\n",
              "</div>\n",
              "      <button class=\"colab-df-convert\" onclick=\"convertToInteractive('df-51b0070a-66d1-4071-93bf-67ec22890059')\"\n",
              "              title=\"Convert this dataframe to an interactive table.\"\n",
              "              style=\"display:none;\">\n",
              "        \n",
              "  <svg xmlns=\"http://www.w3.org/2000/svg\" height=\"24px\"viewBox=\"0 0 24 24\"\n",
              "       width=\"24px\">\n",
              "    <path d=\"M0 0h24v24H0V0z\" fill=\"none\"/>\n",
              "    <path d=\"M18.56 5.44l.94 2.06.94-2.06 2.06-.94-2.06-.94-.94-2.06-.94 2.06-2.06.94zm-11 1L8.5 8.5l.94-2.06 2.06-.94-2.06-.94L8.5 2.5l-.94 2.06-2.06.94zm10 10l.94 2.06.94-2.06 2.06-.94-2.06-.94-.94-2.06-.94 2.06-2.06.94z\"/><path d=\"M17.41 7.96l-1.37-1.37c-.4-.4-.92-.59-1.43-.59-.52 0-1.04.2-1.43.59L10.3 9.45l-7.72 7.72c-.78.78-.78 2.05 0 2.83L4 21.41c.39.39.9.59 1.41.59.51 0 1.02-.2 1.41-.59l7.78-7.78 2.81-2.81c.8-.78.8-2.07 0-2.86zM5.41 20L4 18.59l7.72-7.72 1.47 1.35L5.41 20z\"/>\n",
              "  </svg>\n",
              "      </button>\n",
              "      \n",
              "  <style>\n",
              "    .colab-df-container {\n",
              "      display:flex;\n",
              "      flex-wrap:wrap;\n",
              "      gap: 12px;\n",
              "    }\n",
              "\n",
              "    .colab-df-convert {\n",
              "      background-color: #E8F0FE;\n",
              "      border: none;\n",
              "      border-radius: 50%;\n",
              "      cursor: pointer;\n",
              "      display: none;\n",
              "      fill: #1967D2;\n",
              "      height: 32px;\n",
              "      padding: 0 0 0 0;\n",
              "      width: 32px;\n",
              "    }\n",
              "\n",
              "    .colab-df-convert:hover {\n",
              "      background-color: #E2EBFA;\n",
              "      box-shadow: 0px 1px 2px rgba(60, 64, 67, 0.3), 0px 1px 3px 1px rgba(60, 64, 67, 0.15);\n",
              "      fill: #174EA6;\n",
              "    }\n",
              "\n",
              "    [theme=dark] .colab-df-convert {\n",
              "      background-color: #3B4455;\n",
              "      fill: #D2E3FC;\n",
              "    }\n",
              "\n",
              "    [theme=dark] .colab-df-convert:hover {\n",
              "      background-color: #434B5C;\n",
              "      box-shadow: 0px 1px 3px 1px rgba(0, 0, 0, 0.15);\n",
              "      filter: drop-shadow(0px 1px 2px rgba(0, 0, 0, 0.3));\n",
              "      fill: #FFFFFF;\n",
              "    }\n",
              "  </style>\n",
              "\n",
              "      <script>\n",
              "        const buttonEl =\n",
              "          document.querySelector('#df-51b0070a-66d1-4071-93bf-67ec22890059 button.colab-df-convert');\n",
              "        buttonEl.style.display =\n",
              "          google.colab.kernel.accessAllowed ? 'block' : 'none';\n",
              "\n",
              "        async function convertToInteractive(key) {\n",
              "          const element = document.querySelector('#df-51b0070a-66d1-4071-93bf-67ec22890059');\n",
              "          const dataTable =\n",
              "            await google.colab.kernel.invokeFunction('convertToInteractive',\n",
              "                                                     [key], {});\n",
              "          if (!dataTable) return;\n",
              "\n",
              "          const docLinkHtml = 'Like what you see? Visit the ' +\n",
              "            '<a target=\"_blank\" href=https://colab.research.google.com/notebooks/data_table.ipynb>data table notebook</a>'\n",
              "            + ' to learn more about interactive tables.';\n",
              "          element.innerHTML = '';\n",
              "          dataTable['output_type'] = 'display_data';\n",
              "          await google.colab.output.renderOutput(dataTable, element);\n",
              "          const docLink = document.createElement('div');\n",
              "          docLink.innerHTML = docLinkHtml;\n",
              "          element.appendChild(docLink);\n",
              "        }\n",
              "      </script>\n",
              "    </div>\n",
              "  </div>\n",
              "  "
            ]
          },
          "metadata": {},
          "execution_count": 298
        }
      ]
    },
    {
      "cell_type": "markdown",
      "source": [
        "##**Отбор признаков**"
      ],
      "metadata": {
        "id": "3Q5T2dB1fZIR"
      }
    },
    {
      "cell_type": "code",
      "source": [
        "df_train.columns.tolist()"
      ],
      "metadata": {
        "colab": {
          "base_uri": "https://localhost:8080/"
        },
        "id": "vyBlrXEifOR4",
        "outputId": "b923af07-b378-40e6-e199-8428ba43f4ab"
      },
      "execution_count": null,
      "outputs": [
        {
          "output_type": "execute_result",
          "data": {
            "text/plain": [
              "['Home Ownership',\n",
              " 'Annual Income',\n",
              " 'Years in current job',\n",
              " 'Tax Liens',\n",
              " 'Number of Open Accounts',\n",
              " 'Years of Credit History',\n",
              " 'Maximum Open Credit',\n",
              " 'Number of Credit Problems',\n",
              " 'Bankruptcies',\n",
              " 'Purpose',\n",
              " 'Term',\n",
              " 'Current Loan Amount',\n",
              " 'Current Credit Balance',\n",
              " 'Monthly Debt',\n",
              " 'Credit Default']"
            ]
          },
          "metadata": {},
          "execution_count": 299
        }
      ]
    },
    {
      "cell_type": "markdown",
      "source": [
        "**Выделение целевой переменной и групп признаков**"
      ],
      "metadata": {
        "id": "kkMDtHJpqLq7"
      }
    },
    {
      "cell_type": "code",
      "source": [
        "TARGET_NAME = 'Credit Default'"
      ],
      "metadata": {
        "id": "3zFbDyzFqSs7"
      },
      "execution_count": null,
      "outputs": []
    },
    {
      "cell_type": "code",
      "source": [
        "FEATURE_NAMES = ['Home Ownership', 'Annual Income', 'Years in current job', 'Tax Liens', 'Number of Open Accounts',\n",
        "                 'Years of Credit History', 'Maximum Open Credit', 'Number of Credit Problems', 'Bankruptcies', 'Purpose',\n",
        "                 'Term', 'Current Loan Amount', 'Current Credit Balance', 'Monthly Debt']"
      ],
      "metadata": {
        "id": "ZKUTsNS2f9HA"
      },
      "execution_count": null,
      "outputs": []
    },
    {
      "cell_type": "code",
      "source": [
        "NUMERIC_FEATURE_NAMES = ['Home Ownership', 'Years in current job', 'Purpose', 'Term']"
      ],
      "metadata": {
        "id": "CM2TpBdlggmy"
      },
      "execution_count": null,
      "outputs": []
    },
    {
      "cell_type": "code",
      "source": [
        "QUANTITATIVE_FEATURE_NAMES = ['Annual Income', 'Tax Liens', 'Number of Open Accounts',\n",
        "                              'Years of Credit History', 'Maximum Open Credit', 'Number of Credit Problems',\n",
        "                              'Bankruptcies', 'Current Loan Amount', 'Current Credit Balance', 'Monthly Debt']"
      ],
      "metadata": {
        "id": "tsgKKZBHtPT0"
      },
      "execution_count": null,
      "outputs": []
    },
    {
      "cell_type": "code",
      "source": [
        "FEATURE_NAMES_SELECTED = NUMERIC_FEATURE_NAMES + QUANTITATIVE_FEATURE_NAMES"
      ],
      "metadata": {
        "id": "5ONCipkGt7kE"
      },
      "execution_count": null,
      "outputs": []
    },
    {
      "cell_type": "markdown",
      "source": [
        "###**Нормализация данных**"
      ],
      "metadata": {
        "id": "-xVarcL9ufJw"
      }
    },
    {
      "cell_type": "code",
      "source": [
        "'''scaler = StandardScaler()\n",
        "\n",
        "df_train_norm = df_train.copy()\n",
        "df_train_norm[NUMERIC_FEATURE_NAMES] = scaler.fit_transform(df_train_norm[NUMERIC_FEATURE_NAMES])\n",
        "\n",
        "df_train = df_train_norm.copy()'''"
      ],
      "metadata": {
        "id": "RCP3GTxduei0"
      },
      "execution_count": null,
      "outputs": []
    },
    {
      "cell_type": "markdown",
      "source": [
        "## **Разбиение на train и test**"
      ],
      "metadata": {
        "id": "1avCHygByTKy"
      }
    },
    {
      "cell_type": "code",
      "source": [
        "X = df_train[FEATURE_NAMES_SELECTED]\n",
        "y = df_train[TARGET_NAME]\n",
        "\n",
        "X_train, X_test, y_train, y_test = train_test_split(X, y, shuffle=True, test_size=0.25, random_state=42)"
      ],
      "metadata": {
        "id": "duUNrVhUv71s"
      },
      "execution_count": null,
      "outputs": []
    },
    {
      "cell_type": "markdown",
      "source": [
        "##**Балансировка целевой переменной**"
      ],
      "metadata": {
        "id": "5PXPfdPB6ldo"
      }
    },
    {
      "cell_type": "code",
      "source": [
        "#Under-sampling:Tomek links\n",
        "rus = RandomUnderSampler(random_state=42, replacement=True)\n",
        "X_train, y_train = rus.fit_resample(X_train, y_train)"
      ],
      "metadata": {
        "id": "NeAhMjjDGzYc"
      },
      "execution_count": null,
      "outputs": []
    },
    {
      "cell_type": "code",
      "source": [
        "#SMOTE - не подошел\n",
        "'''nm = NearMiss()\n",
        "X_train, y_train = nm.fit_resample(X_train, y_train)'''"
      ],
      "metadata": {
        "colab": {
          "base_uri": "https://localhost:8080/",
          "height": 36
        },
        "id": "7O9myMVxKofA",
        "outputId": "0d0cf637-1dbf-4d7c-b4d2-ce87e37bf152"
      },
      "execution_count": null,
      "outputs": [
        {
          "output_type": "execute_result",
          "data": {
            "text/plain": [
              "'nm = NearMiss()\\nX_train, y_train = nm.fit_resample(X_train, y_train)'"
            ],
            "application/vnd.google.colaboratory.intrinsic+json": {
              "type": "string"
            }
          },
          "metadata": {},
          "execution_count": 197
        }
      ]
    },
    {
      "cell_type": "code",
      "source": [
        "#неудачный метод\n",
        "'''df_for_balancing = pd.concat([X_train, y_train], axis=1)\n",
        "df_balanced = balance_df_by_target(df_for_balancing, TARGET_NAME)\n",
        "    \n",
        "df_balanced[TARGET_NAME].value_counts()'''"
      ],
      "metadata": {
        "colab": {
          "base_uri": "https://localhost:8080/",
          "height": 54
        },
        "id": "HU3rJbJfxLAp",
        "outputId": "1efa25dc-94c9-4a4c-b03a-173a93f52e20"
      },
      "execution_count": null,
      "outputs": [
        {
          "output_type": "execute_result",
          "data": {
            "text/plain": [
              "'df_for_balancing = pd.concat([X_train, y_train], axis=1)\\ndf_balanced = balance_df_by_target(df_for_balancing, TARGET_NAME)\\n    \\ndf_balanced[TARGET_NAME].value_counts()'"
            ],
            "application/vnd.google.colaboratory.intrinsic+json": {
              "type": "string"
            }
          },
          "metadata": {},
          "execution_count": 198
        }
      ]
    },
    {
      "cell_type": "code",
      "source": [
        "'''X_train = df_balanced.drop(columns=TARGET_NAME)\n",
        "y_train = df_balanced[TARGET_NAME]'''"
      ],
      "metadata": {
        "id": "s-a1qDZNxpF-",
        "colab": {
          "base_uri": "https://localhost:8080/",
          "height": 36
        },
        "outputId": "adb29da2-98de-471d-a1d9-0d80fb6157b7"
      },
      "execution_count": null,
      "outputs": [
        {
          "output_type": "execute_result",
          "data": {
            "text/plain": [
              "'X_train = df_balanced.drop(columns=TARGET_NAME)\\ny_train = df_balanced[TARGET_NAME]'"
            ],
            "application/vnd.google.colaboratory.intrinsic+json": {
              "type": "string"
            }
          },
          "metadata": {},
          "execution_count": 199
        }
      ]
    },
    {
      "cell_type": "markdown",
      "source": [
        "##**Построение и оценка моделей**"
      ],
      "metadata": {
        "id": "e8UUvog_xwt1"
      }
    },
    {
      "cell_type": "markdown",
      "source": [
        "**Логистическая регрессия**"
      ],
      "metadata": {
        "id": "G_si0LS8yG1f"
      }
    },
    {
      "cell_type": "code",
      "source": [
        "model_lr = LogisticRegression()\n",
        "model_lr.fit(X_train, y_train)\n",
        "\n",
        "y_train_pred = model_lr.predict(X_train)\n",
        "y_test_pred = model_lr.predict(X_test)\n",
        "\n",
        "get_classification_report(y_train, y_train_pred, y_test, y_test_pred)"
      ],
      "metadata": {
        "colab": {
          "base_uri": "https://localhost:8080/"
        },
        "id": "ORLbcChmxvsN",
        "outputId": "b08f6492-bc40-4425-ee10-cf357909b934"
      },
      "execution_count": null,
      "outputs": [
        {
          "output_type": "stream",
          "name": "stdout",
          "text": [
            "TRAIN\n",
            "\n",
            "              precision    recall  f1-score   support\n",
            "\n",
            "           0       0.57      0.62      0.59      1551\n",
            "           1       0.58      0.52      0.55      1551\n",
            "\n",
            "    accuracy                           0.57      3102\n",
            "   macro avg       0.57      0.57      0.57      3102\n",
            "weighted avg       0.57      0.57      0.57      3102\n",
            "\n",
            "TEST\n",
            "\n",
            "              precision    recall  f1-score   support\n",
            "\n",
            "           0       0.74      0.63      0.68      1313\n",
            "           1       0.36      0.50      0.42       562\n",
            "\n",
            "    accuracy                           0.59      1875\n",
            "   macro avg       0.55      0.56      0.55      1875\n",
            "weighted avg       0.63      0.59      0.60      1875\n",
            "\n",
            "CONFUSION MATRIX\n",
            "\n",
            "col_0             0    1\n",
            "Credit Default          \n",
            "0               824  489\n",
            "1               283  279\n"
          ]
        }
      ]
    },
    {
      "cell_type": "markdown",
      "source": [
        "**k ближайших соседей**"
      ],
      "metadata": {
        "id": "41JVniGAyXpf"
      }
    },
    {
      "cell_type": "code",
      "source": [
        "model_knn = KNeighborsClassifier()\n",
        "model_knn.fit(X_train, y_train)\n",
        "\n",
        "y_train_pred = model_knn.predict(X_train)\n",
        "y_test_pred = model_knn.predict(X_test)\n",
        "\n",
        "get_classification_report(y_train, y_train_pred, y_test, y_test_pred)"
      ],
      "metadata": {
        "colab": {
          "base_uri": "https://localhost:8080/"
        },
        "id": "1in4AOqZyZw3",
        "outputId": "4d8de3aa-5338-4c6c-9a41-8ddb14ff9b30"
      },
      "execution_count": null,
      "outputs": [
        {
          "output_type": "stream",
          "name": "stdout",
          "text": [
            "TRAIN\n",
            "\n",
            "              precision    recall  f1-score   support\n",
            "\n",
            "           0       0.73      0.74      0.74      1551\n",
            "           1       0.74      0.73      0.73      1551\n",
            "\n",
            "    accuracy                           0.73      3102\n",
            "   macro avg       0.73      0.73      0.73      3102\n",
            "weighted avg       0.73      0.73      0.73      3102\n",
            "\n",
            "TEST\n",
            "\n",
            "              precision    recall  f1-score   support\n",
            "\n",
            "           0       0.75      0.52      0.62      1313\n",
            "           1       0.35      0.59      0.43       562\n",
            "\n",
            "    accuracy                           0.54      1875\n",
            "   macro avg       0.55      0.56      0.53      1875\n",
            "weighted avg       0.63      0.54      0.56      1875\n",
            "\n",
            "CONFUSION MATRIX\n",
            "\n",
            "col_0             0    1\n",
            "Credit Default          \n",
            "0               689  624\n",
            "1               233  329\n"
          ]
        }
      ]
    },
    {
      "cell_type": "markdown",
      "source": [
        "**Бустинговые алгоритмы**"
      ],
      "metadata": {
        "id": "Ogx7mujKykRu"
      }
    },
    {
      "cell_type": "markdown",
      "source": [
        "XGBoost"
      ],
      "metadata": {
        "id": "xXVc3o53ymBG"
      }
    },
    {
      "cell_type": "code",
      "source": [
        "model_xgb = xgb.XGBClassifier(random_state=21)\n",
        "model_xgb.fit(X_train, y_train)\n",
        "\n",
        "y_train_pred = model_xgb.predict(X_train)\n",
        "y_test_pred = model_xgb.predict(X_test)\n",
        "\n",
        "get_classification_report(y_train, y_train_pred, y_test, y_test_pred)"
      ],
      "metadata": {
        "colab": {
          "base_uri": "https://localhost:8080/"
        },
        "id": "5OoqTq00yqpm",
        "outputId": "0b484e98-2d37-4bc5-e8e1-b5d8672fecf3"
      },
      "execution_count": null,
      "outputs": [
        {
          "output_type": "stream",
          "name": "stdout",
          "text": [
            "TRAIN\n",
            "\n",
            "              precision    recall  f1-score   support\n",
            "\n",
            "           0       0.76      0.74      0.75      1551\n",
            "           1       0.75      0.77      0.76      1551\n",
            "\n",
            "    accuracy                           0.75      3102\n",
            "   macro avg       0.76      0.75      0.75      3102\n",
            "weighted avg       0.76      0.75      0.75      3102\n",
            "\n",
            "TEST\n",
            "\n",
            "              precision    recall  f1-score   support\n",
            "\n",
            "           0       0.80      0.60      0.69      1313\n",
            "           1       0.41      0.66      0.51       562\n",
            "\n",
            "    accuracy                           0.62      1875\n",
            "   macro avg       0.61      0.63      0.60      1875\n",
            "weighted avg       0.69      0.62      0.63      1875\n",
            "\n",
            "CONFUSION MATRIX\n",
            "\n",
            "col_0             0    1\n",
            "Credit Default          \n",
            "0               785  528\n",
            "1               191  371\n"
          ]
        }
      ]
    },
    {
      "cell_type": "markdown",
      "source": [
        "LightGBM"
      ],
      "metadata": {
        "id": "goJVgv0_y0Op"
      }
    },
    {
      "cell_type": "code",
      "source": [
        "model_lgbm = lgbm.LGBMClassifier(random_state=21)\n",
        "model_lgbm.fit(X_train, y_train)\n",
        "\n",
        "y_train_pred = model_lgbm.predict(X_train)\n",
        "y_test_pred = model_lgbm.predict(X_test)\n",
        "\n",
        "get_classification_report(y_train, y_train_pred, y_test, y_test_pred)"
      ],
      "metadata": {
        "colab": {
          "base_uri": "https://localhost:8080/"
        },
        "id": "V6JTW_Lryzje",
        "outputId": "f3c709bc-12ab-4ec2-a5f3-fcbcbb6fc377"
      },
      "execution_count": null,
      "outputs": [
        {
          "output_type": "stream",
          "name": "stdout",
          "text": [
            "TRAIN\n",
            "\n",
            "              precision    recall  f1-score   support\n",
            "\n",
            "           0       0.96      0.95      0.95      1551\n",
            "           1       0.95      0.96      0.95      1551\n",
            "\n",
            "    accuracy                           0.95      3102\n",
            "   macro avg       0.95      0.95      0.95      3102\n",
            "weighted avg       0.95      0.95      0.95      3102\n",
            "\n",
            "TEST\n",
            "\n",
            "              precision    recall  f1-score   support\n",
            "\n",
            "           0       0.79      0.58      0.67      1313\n",
            "           1       0.40      0.65      0.49       562\n",
            "\n",
            "    accuracy                           0.60      1875\n",
            "   macro avg       0.60      0.61      0.58      1875\n",
            "weighted avg       0.67      0.60      0.62      1875\n",
            "\n",
            "CONFUSION MATRIX\n",
            "\n",
            "col_0             0    1\n",
            "Credit Default          \n",
            "0               756  557\n",
            "1               196  366\n"
          ]
        }
      ]
    },
    {
      "cell_type": "markdown",
      "source": [
        "CatBoost"
      ],
      "metadata": {
        "id": "c_qW0RJIzEUm"
      }
    },
    {
      "cell_type": "code",
      "source": [
        "model_catb = catb.CatBoostClassifier(silent=True, random_state=21)\n",
        "model_catb.fit(X_train, y_train)\n",
        "\n",
        "y_train_pred = model_catb.predict(X_train)\n",
        "y_test_pred = model_catb.predict(X_test)\n",
        "\n",
        "get_classification_report(y_train, y_train_pred, y_test, y_test_pred)"
      ],
      "metadata": {
        "colab": {
          "base_uri": "https://localhost:8080/"
        },
        "id": "Q60jwa1MzA5-",
        "outputId": "b9f23454-d217-4c80-c479-88bacc13eaee"
      },
      "execution_count": null,
      "outputs": [
        {
          "output_type": "stream",
          "name": "stdout",
          "text": [
            "TRAIN\n",
            "\n",
            "              precision    recall  f1-score   support\n",
            "\n",
            "           0       0.90      0.86      0.88      1551\n",
            "           1       0.87      0.90      0.89      1551\n",
            "\n",
            "    accuracy                           0.88      3102\n",
            "   macro avg       0.88      0.88      0.88      3102\n",
            "weighted avg       0.88      0.88      0.88      3102\n",
            "\n",
            "TEST\n",
            "\n",
            "              precision    recall  f1-score   support\n",
            "\n",
            "           0       0.81      0.57      0.67      1313\n",
            "           1       0.41      0.69      0.51       562\n",
            "\n",
            "    accuracy                           0.61      1875\n",
            "   macro avg       0.61      0.63      0.59      1875\n",
            "weighted avg       0.69      0.61      0.62      1875\n",
            "\n",
            "CONFUSION MATRIX\n",
            "\n",
            "col_0             0    1\n",
            "Credit Default          \n",
            "0               748  565\n",
            "1               173  389\n"
          ]
        }
      ]
    },
    {
      "cell_type": "markdown",
      "source": [
        "###**Выбор лучшей модели и подбор гиперпараметров**"
      ],
      "metadata": {
        "id": "429b5FeJ0vhP"
      }
    },
    {
      "cell_type": "code",
      "source": [
        "model_catb = catb.CatBoostClassifier(silent=True, random_state=21)"
      ],
      "metadata": {
        "id": "AWRkAvTW0KKe"
      },
      "execution_count": null,
      "outputs": []
    },
    {
      "cell_type": "markdown",
      "source": [
        "**Подбор гиперпараметров**"
      ],
      "metadata": {
        "id": "N4wVjK5c0-n3"
      }
    },
    {
      "cell_type": "code",
      "source": [
        "params = {'n_estimators':[50, 100, 200, 500], \n",
        "          'max_depth':[3, 5, 7, 10],\n",
        "          'learning_rate':[0.001, 0.01, 0.05, 0.1]}"
      ],
      "metadata": {
        "id": "MvB9MQC707R-"
      },
      "execution_count": null,
      "outputs": []
    },
    {
      "cell_type": "code",
      "source": [
        "cv=KFold(n_splits=3, random_state=21, shuffle=True)"
      ],
      "metadata": {
        "id": "kTnRxk5q1Fnx"
      },
      "execution_count": null,
      "outputs": []
    },
    {
      "cell_type": "code",
      "source": [
        "'''%%time\n",
        "\n",
        "rs = RandomizedSearchCV(model_catb, params, scoring='f1', cv=cv, n_jobs=-1)\n",
        "rs.fit(X_train, y_train)'''"
      ],
      "metadata": {
        "colab": {
          "base_uri": "https://localhost:8080/"
        },
        "id": "KSxRO3aY1OSU",
        "outputId": "e4d6b1bb-82dc-4855-9967-56d6b6f95c09"
      },
      "execution_count": null,
      "outputs": [
        {
          "output_type": "stream",
          "name": "stdout",
          "text": [
            "CPU times: user 2.29 s, sys: 271 ms, total: 2.56 s\n",
            "Wall time: 29.5 s\n"
          ]
        }
      ]
    },
    {
      "cell_type": "code",
      "source": [
        "#rs.best_params_"
      ],
      "metadata": {
        "colab": {
          "base_uri": "https://localhost:8080/"
        },
        "id": "OKVmuz8z1WbQ",
        "outputId": "b20a75b7-d9fb-4378-d8e0-817cee5a23e4"
      },
      "execution_count": null,
      "outputs": [
        {
          "output_type": "execute_result",
          "data": {
            "text/plain": [
              "{'learning_rate': 0.05, 'max_depth': 5, 'n_estimators': 500}"
            ]
          },
          "metadata": {},
          "execution_count": 316
        }
      ]
    },
    {
      "cell_type": "code",
      "source": [
        "#rs.best_score_"
      ],
      "metadata": {
        "colab": {
          "base_uri": "https://localhost:8080/"
        },
        "id": "ayyD0ICH1bGG",
        "outputId": "1735ef54-599c-46d9-9d44-8a9694808d7a"
      },
      "execution_count": null,
      "outputs": [
        {
          "output_type": "execute_result",
          "data": {
            "text/plain": [
              "0.6786815065038203"
            ]
          },
          "metadata": {},
          "execution_count": 317
        }
      ]
    },
    {
      "cell_type": "markdown",
      "source": [
        "**Обучение и оценка финальной модели**"
      ],
      "metadata": {
        "id": "cXQz5WPK1yjA"
      }
    },
    {
      "cell_type": "code",
      "source": [
        "%%time\n",
        "\n",
        "final_model = catb.CatBoostClassifier(n_estimators=500, max_depth=5, learning_rate=0.05,\n",
        "                                      silent=True, random_state=21)\n",
        "final_model.fit(X_train, y_train)\n",
        "\n",
        "y_train_pred = final_model.predict(X_train)\n",
        "y_test_pred = final_model.predict(X_test)\n",
        "\n",
        "get_classification_report(y_train, y_train_pred, y_test, y_test_pred)"
      ],
      "metadata": {
        "colab": {
          "base_uri": "https://localhost:8080/"
        },
        "id": "5NTetr5015a4",
        "outputId": "2aa43668-5b82-4125-a62f-4a23fb204ece"
      },
      "execution_count": null,
      "outputs": [
        {
          "output_type": "stream",
          "name": "stdout",
          "text": [
            "TRAIN\n",
            "\n",
            "              precision    recall  f1-score   support\n",
            "\n",
            "           0       0.90      0.86      0.88      1551\n",
            "           1       0.87      0.90      0.88      1551\n",
            "\n",
            "    accuracy                           0.88      3102\n",
            "   macro avg       0.88      0.88      0.88      3102\n",
            "weighted avg       0.88      0.88      0.88      3102\n",
            "\n",
            "TEST\n",
            "\n",
            "              precision    recall  f1-score   support\n",
            "\n",
            "           0       0.80      0.56      0.66      1313\n",
            "           1       0.40      0.67      0.50       562\n",
            "\n",
            "    accuracy                           0.59      1875\n",
            "   macro avg       0.60      0.62      0.58      1875\n",
            "weighted avg       0.68      0.59      0.61      1875\n",
            "\n",
            "CONFUSION MATRIX\n",
            "\n",
            "col_0             0    1\n",
            "Credit Default          \n",
            "0               733  580\n",
            "1               183  379\n",
            "CPU times: user 1.96 s, sys: 653 ms, total: 2.61 s\n",
            "Wall time: 2.52 s\n"
          ]
        }
      ]
    },
    {
      "cell_type": "markdown",
      "source": [
        "**Снижение степени переобучения**"
      ],
      "metadata": {
        "id": "1ohki8Xj2_ez"
      }
    },
    {
      "cell_type": "code",
      "source": [
        "final_model = catb.CatBoostClassifier(n_estimators=500, max_depth=5, learning_rate=0.05,\n",
        "                                      l2_leaf_reg=10,\n",
        "                                      silent=True, random_state=21)\n",
        "final_model.fit(X_train, y_train)\n",
        "\n",
        "y_train_pred = final_model.predict(X_train)\n",
        "y_test_pred = final_model.predict(X_test)\n",
        "y_test_pred_probs = final_model.predict_proba(X_test)\n",
        "\n",
        "get_classification_report(y_train, y_train_pred, y_test, y_test_pred)"
      ],
      "metadata": {
        "colab": {
          "base_uri": "https://localhost:8080/"
        },
        "id": "e4D3nsYE21GK",
        "outputId": "bcd6b355-c8aa-4953-f357-f008c95ea9c2"
      },
      "execution_count": null,
      "outputs": [
        {
          "output_type": "stream",
          "name": "stdout",
          "text": [
            "TRAIN\n",
            "\n",
            "              precision    recall  f1-score   support\n",
            "\n",
            "           0       0.89      0.85      0.87      1551\n",
            "           1       0.85      0.89      0.87      1551\n",
            "\n",
            "    accuracy                           0.87      3102\n",
            "   macro avg       0.87      0.87      0.87      3102\n",
            "weighted avg       0.87      0.87      0.87      3102\n",
            "\n",
            "TEST\n",
            "\n",
            "              precision    recall  f1-score   support\n",
            "\n",
            "           0       0.81      0.57      0.67      1313\n",
            "           1       0.40      0.68      0.51       562\n",
            "\n",
            "    accuracy                           0.60      1875\n",
            "   macro avg       0.60      0.62      0.59      1875\n",
            "weighted avg       0.69      0.60      0.62      1875\n",
            "\n",
            "CONFUSION MATRIX\n",
            "\n",
            "col_0             0    1\n",
            "Credit Default          \n",
            "0               743  570\n",
            "1               178  384\n"
          ]
        }
      ]
    },
    {
      "cell_type": "markdown",
      "source": [
        "**Важность признаков**"
      ],
      "metadata": {
        "id": "Q3cHcBry35sI"
      }
    },
    {
      "cell_type": "code",
      "source": [
        "important_features_top = show_feature_importances(X_train.columns, final_model.feature_importances_, get_top=11)"
      ],
      "metadata": {
        "colab": {
          "base_uri": "https://localhost:8080/",
          "height": 344
        },
        "id": "NNwrNhjp387o",
        "outputId": "a27238ec-3921-4bb4-9f84-7874d357be09"
      },
      "execution_count": null,
      "outputs": [
        {
          "output_type": "display_data",
          "data": {
            "text/plain": [
              "<Figure size 1440x357.84 with 1 Axes>"
            ],
            "image/png": "[encoded data removed]"
          },
          "metadata": {
            "needs_background": "light"
          }
        }
      ]
    },
    {
      "cell_type": "code",
      "source": [
        "important_features_top"
      ],
      "metadata": {
        "colab": {
          "base_uri": "https://localhost:8080/"
        },
        "id": "pzdA1pKA4Ut3",
        "outputId": "291daedf-68b2-4761-9d3a-de90c54b898f"
      },
      "execution_count": null,
      "outputs": [
        {
          "output_type": "execute_result",
          "data": {
            "text/plain": [
              "['Current Loan Amount',\n",
              " 'Annual Income',\n",
              " 'Maximum Open Credit',\n",
              " 'Years of Credit History',\n",
              " 'Current Credit Balance',\n",
              " 'Monthly Debt',\n",
              " 'Number of Open Accounts',\n",
              " 'Term',\n",
              " 'Home Ownership',\n",
              " 'Years in current job',\n",
              " 'Purpose']"
            ]
          },
          "metadata": {},
          "execution_count": 321
        }
      ]
    },
    {
      "cell_type": "markdown",
      "source": [
        "**Финальная модель**"
      ],
      "metadata": {
        "id": "-7OE8sTX4owQ"
      }
    },
    {
      "cell_type": "code",
      "source": [
        "final_model = catb.CatBoostClassifier(n_estimators=500, max_depth=5, \n",
        "                                      l2_leaf_reg=10,\n",
        "                                      silent=True, random_state=21)\n",
        "final_model.fit(X_train[important_features_top], y_train)\n",
        "\n",
        "y_train_pred = final_model.predict(X_train[important_features_top])\n",
        "y_test_pred = final_model.predict(X_test[important_features_top])\n",
        "y_test_pred_probs = final_model.predict_proba(X_test[important_features_top])\n",
        "\n",
        "get_classification_report(y_train, y_train_pred, y_test, y_test_pred)"
      ],
      "metadata": {
        "id": "j6RdBFl54lco",
        "colab": {
          "base_uri": "https://localhost:8080/"
        },
        "outputId": "3964e70c-57d5-40f2-aea7-e1f171a7ceab"
      },
      "execution_count": null,
      "outputs": [
        {
          "output_type": "stream",
          "name": "stdout",
          "text": [
            "TRAIN\n",
            "\n",
            "              precision    recall  f1-score   support\n",
            "\n",
            "           0       0.83      0.78      0.81      1551\n",
            "           1       0.79      0.84      0.82      1551\n",
            "\n",
            "    accuracy                           0.81      3102\n",
            "   macro avg       0.81      0.81      0.81      3102\n",
            "weighted avg       0.81      0.81      0.81      3102\n",
            "\n",
            "TEST\n",
            "\n",
            "              precision    recall  f1-score   support\n",
            "\n",
            "           0       0.81      0.58      0.67      1313\n",
            "           1       0.41      0.67      0.51       562\n",
            "\n",
            "    accuracy                           0.61      1875\n",
            "   macro avg       0.61      0.63      0.59      1875\n",
            "weighted avg       0.69      0.61      0.62      1875\n",
            "\n",
            "CONFUSION MATRIX\n",
            "\n",
            "col_0             0    1\n",
            "Credit Default          \n",
            "0               762  551\n",
            "1               184  378\n"
          ]
        }
      ]
    },
    {
      "cell_type": "markdown",
      "source": [
        "###**Предсказание на тестовой выборке**"
      ],
      "metadata": {
        "id": "y48eXwtCNl2Y"
      }
    },
    {
      "cell_type": "code",
      "source": [
        "df_test = pd.read_csv(TEST_DATASET_PATH)\n",
        "df_test.head()"
      ],
      "metadata": {
        "colab": {
          "base_uri": "https://localhost:8080/",
          "height": 388
        },
        "id": "dryQ_xlENkv2",
        "outputId": "66e38b23-550a-4ecd-df8d-c6f07fa375be"
      },
      "execution_count": null,
      "outputs": [
        {
          "output_type": "execute_result",
          "data": {
            "text/plain": [
              "  Home Ownership  Annual Income Years in current job  Tax Liens  \\\n",
              "0           Rent            NaN              4 years        0.0   \n",
              "1           Rent       231838.0               1 year        0.0   \n",
              "2  Home Mortgage      1152540.0              3 years        0.0   \n",
              "3  Home Mortgage      1220313.0            10+ years        0.0   \n",
              "4  Home Mortgage      2340952.0              6 years        0.0   \n",
              "\n",
              "   Number of Open Accounts  Years of Credit History  Maximum Open Credit  \\\n",
              "0                      9.0                     12.5             220968.0   \n",
              "1                      6.0                     32.7              55946.0   \n",
              "2                     10.0                     13.7             204600.0   \n",
              "3                     16.0                     17.0             456302.0   \n",
              "4                     11.0                     23.6            1207272.0   \n",
              "\n",
              "   Number of Credit Problems  Months since last delinquent  Bankruptcies  \\\n",
              "0                        0.0                          70.0           0.0   \n",
              "1                        0.0                           8.0           0.0   \n",
              "2                        0.0                           NaN           0.0   \n",
              "3                        0.0                          70.0           0.0   \n",
              "4                        0.0                           NaN           0.0   \n",
              "\n",
              "                Purpose        Term  Current Loan Amount  \\\n",
              "0    debt consolidation  Short Term             162470.0   \n",
              "1  educational expenses  Short Term              78298.0   \n",
              "2    debt consolidation  Short Term             200178.0   \n",
              "3    debt consolidation  Short Term             217382.0   \n",
              "4    debt consolidation   Long Term             777634.0   \n",
              "\n",
              "   Current Credit Balance  Monthly Debt  Credit Score  \n",
              "0                105906.0        6813.0           NaN  \n",
              "1                 46037.0        2318.0         699.0  \n",
              "2                146490.0       18729.0        7260.0  \n",
              "3                213199.0       27559.0         739.0  \n",
              "4                425391.0       42605.0         706.0  "
            ],
            "text/html": [
              "\n",
              "  <div id=\"df-cc68a8b4-af45-4837-a8ee-d71c3bf7b75a\">\n",
              "    <div class=\"colab-df-container\">\n",
              "      <div>\n",
              "<style scoped>\n",
              "    .dataframe tbody tr th:only-of-type {\n",
              "        vertical-align: middle;\n",
              "    }\n",
              "\n",
              "    .dataframe tbody tr th {\n",
              "        vertical-align: top;\n",
              "    }\n",
              "\n",
              "    .dataframe thead th {\n",
              "        text-align: right;\n",
              "    }\n",
              "</style>\n",
              "<table border=\"1\" class=\"dataframe\">\n",
              "  <thead>\n",
              "    <tr style=\"text-align: right;\">\n",
              "      <th></th>\n",
              "      <th>Home Ownership</th>\n",
              "      <th>Annual Income</th>\n",
              "      <th>Years in current job</th>\n",
              "      <th>Tax Liens</th>\n",
              "      <th>Number of Open Accounts</th>\n",
              "      <th>Years of Credit History</th>\n",
              "      <th>Maximum Open Credit</th>\n",
              "      <th>Number of Credit Problems</th>\n",
              "      <th>Months since last delinquent</th>\n",
              "      <th>Bankruptcies</th>\n",
              "      <th>Purpose</th>\n",
              "      <th>Term</th>\n",
              "      <th>Current Loan Amount</th>\n",
              "      <th>Current Credit Balance</th>\n",
              "      <th>Monthly Debt</th>\n",
              "      <th>Credit Score</th>\n",
              "    </tr>\n",
              "  </thead>\n",
              "  <tbody>\n",
              "    <tr>\n",
              "      <th>0</th>\n",
              "      <td>Rent</td>\n",
              "      <td>NaN</td>\n",
              "      <td>4 years</td>\n",
              "      <td>0.0</td>\n",
              "      <td>9.0</td>\n",
              "      <td>12.5</td>\n",
              "      <td>220968.0</td>\n",
              "      <td>0.0</td>\n",
              "      <td>70.0</td>\n",
              "      <td>0.0</td>\n",
              "      <td>debt consolidation</td>\n",
              "      <td>Short Term</td>\n",
              "      <td>162470.0</td>\n",
              "      <td>105906.0</td>\n",
              "      <td>6813.0</td>\n",
              "      <td>NaN</td>\n",
              "    </tr>\n",
              "    <tr>\n",
              "      <th>1</th>\n",
              "      <td>Rent</td>\n",
              "      <td>231838.0</td>\n",
              "      <td>1 year</td>\n",
              "      <td>0.0</td>\n",
              "      <td>6.0</td>\n",
              "      <td>32.7</td>\n",
              "      <td>55946.0</td>\n",
              "      <td>0.0</td>\n",
              "      <td>8.0</td>\n",
              "      <td>0.0</td>\n",
              "      <td>educational expenses</td>\n",
              "      <td>Short Term</td>\n",
              "      <td>78298.0</td>\n",
              "      <td>46037.0</td>\n",
              "      <td>2318.0</td>\n",
              "      <td>699.0</td>\n",
              "    </tr>\n",
              "    <tr>\n",
              "      <th>2</th>\n",
              "      <td>Home Mortgage</td>\n",
              "      <td>1152540.0</td>\n",
              "      <td>3 years</td>\n",
              "      <td>0.0</td>\n",
              "      <td>10.0</td>\n",
              "      <td>13.7</td>\n",
              "      <td>204600.0</td>\n",
              "      <td>0.0</td>\n",
              "      <td>NaN</td>\n",
              "      <td>0.0</td>\n",
              "      <td>debt consolidation</td>\n",
              "      <td>Short Term</td>\n",
              "      <td>200178.0</td>\n",
              "      <td>146490.0</td>\n",
              "      <td>18729.0</td>\n",
              "      <td>7260.0</td>\n",
              "    </tr>\n",
              "    <tr>\n",
              "      <th>3</th>\n",
              "      <td>Home Mortgage</td>\n",
              "      <td>1220313.0</td>\n",
              "      <td>10+ years</td>\n",
              "      <td>0.0</td>\n",
              "      <td>16.0</td>\n",
              "      <td>17.0</td>\n",
              "      <td>456302.0</td>\n",
              "      <td>0.0</td>\n",
              "      <td>70.0</td>\n",
              "      <td>0.0</td>\n",
              "      <td>debt consolidation</td>\n",
              "      <td>Short Term</td>\n",
              "      <td>217382.0</td>\n",
              "      <td>213199.0</td>\n",
              "      <td>27559.0</td>\n",
              "      <td>739.0</td>\n",
              "    </tr>\n",
              "    <tr>\n",
              "      <th>4</th>\n",
              "      <td>Home Mortgage</td>\n",
              "      <td>2340952.0</td>\n",
              "      <td>6 years</td>\n",
              "      <td>0.0</td>\n",
              "      <td>11.0</td>\n",
              "      <td>23.6</td>\n",
              "      <td>1207272.0</td>\n",
              "      <td>0.0</td>\n",
              "      <td>NaN</td>\n",
              "      <td>0.0</td>\n",
              "      <td>debt consolidation</td>\n",
              "      <td>Long Term</td>\n",
              "      <td>777634.0</td>\n",
              "      <td>425391.0</td>\n",
              "      <td>42605.0</td>\n",
              "      <td>706.0</td>\n",
              "    </tr>\n",
              "  </tbody>\n",
              "</table>\n",
              "</div>\n",
              "      <button class=\"colab-df-convert\" onclick=\"convertToInteractive('df-cc68a8b4-af45-4837-a8ee-d71c3bf7b75a')\"\n",
              "              title=\"Convert this dataframe to an interactive table.\"\n",
              "              style=\"display:none;\">\n",
              "        \n",
              "  <svg xmlns=\"http://www.w3.org/2000/svg\" height=\"24px\"viewBox=\"0 0 24 24\"\n",
              "       width=\"24px\">\n",
              "    <path d=\"M0 0h24v24H0V0z\" fill=\"none\"/>\n",
              "    <path d=\"M18.56 5.44l.94 2.06.94-2.06 2.06-.94-2.06-.94-.94-2.06-.94 2.06-2.06.94zm-11 1L8.5 8.5l.94-2.06 2.06-.94-2.06-.94L8.5 2.5l-.94 2.06-2.06.94zm10 10l.94 2.06.94-2.06 2.06-.94-2.06-.94-.94-2.06-.94 2.06-2.06.94z\"/><path d=\"M17.41 7.96l-1.37-1.37c-.4-.4-.92-.59-1.43-.59-.52 0-1.04.2-1.43.59L10.3 9.45l-7.72 7.72c-.78.78-.78 2.05 0 2.83L4 21.41c.39.39.9.59 1.41.59.51 0 1.02-.2 1.41-.59l7.78-7.78 2.81-2.81c.8-.78.8-2.07 0-2.86zM5.41 20L4 18.59l7.72-7.72 1.47 1.35L5.41 20z\"/>\n",
              "  </svg>\n",
              "      </button>\n",
              "      \n",
              "  <style>\n",
              "    .colab-df-container {\n",
              "      display:flex;\n",
              "      flex-wrap:wrap;\n",
              "      gap: 12px;\n",
              "    }\n",
              "\n",
              "    .colab-df-convert {\n",
              "      background-color: #E8F0FE;\n",
              "      border: none;\n",
              "      border-radius: 50%;\n",
              "      cursor: pointer;\n",
              "      display: none;\n",
              "      fill: #1967D2;\n",
              "      height: 32px;\n",
              "      padding: 0 0 0 0;\n",
              "      width: 32px;\n",
              "    }\n",
              "\n",
              "    .colab-df-convert:hover {\n",
              "      background-color: #E2EBFA;\n",
              "      box-shadow: 0px 1px 2px rgba(60, 64, 67, 0.3), 0px 1px 3px 1px rgba(60, 64, 67, 0.15);\n",
              "      fill: #174EA6;\n",
              "    }\n",
              "\n",
              "    [theme=dark] .colab-df-convert {\n",
              "      background-color: #3B4455;\n",
              "      fill: #D2E3FC;\n",
              "    }\n",
              "\n",
              "    [theme=dark] .colab-df-convert:hover {\n",
              "      background-color: #434B5C;\n",
              "      box-shadow: 0px 1px 3px 1px rgba(0, 0, 0, 0.15);\n",
              "      filter: drop-shadow(0px 1px 2px rgba(0, 0, 0, 0.3));\n",
              "      fill: #FFFFFF;\n",
              "    }\n",
              "  </style>\n",
              "\n",
              "      <script>\n",
              "        const buttonEl =\n",
              "          document.querySelector('#df-cc68a8b4-af45-4837-a8ee-d71c3bf7b75a button.colab-df-convert');\n",
              "        buttonEl.style.display =\n",
              "          google.colab.kernel.accessAllowed ? 'block' : 'none';\n",
              "\n",
              "        async function convertToInteractive(key) {\n",
              "          const element = document.querySelector('#df-cc68a8b4-af45-4837-a8ee-d71c3bf7b75a');\n",
              "          const dataTable =\n",
              "            await google.colab.kernel.invokeFunction('convertToInteractive',\n",
              "                                                     [key], {});\n",
              "          if (!dataTable) return;\n",
              "\n",
              "          const docLinkHtml = 'Like what you see? Visit the ' +\n",
              "            '<a target=\"_blank\" href=https://colab.research.google.com/notebooks/data_table.ipynb>data table notebook</a>'\n",
              "            + ' to learn more about interactive tables.';\n",
              "          element.innerHTML = '';\n",
              "          dataTable['output_type'] = 'display_data';\n",
              "          await google.colab.output.renderOutput(dataTable, element);\n",
              "          const docLink = document.createElement('div');\n",
              "          docLink.innerHTML = docLinkHtml;\n",
              "          element.appendChild(docLink);\n",
              "        }\n",
              "      </script>\n",
              "    </div>\n",
              "  </div>\n",
              "  "
            ]
          },
          "metadata": {},
          "execution_count": 323
        }
      ]
    },
    {
      "cell_type": "code",
      "source": [
        "df_test = df_test.drop(columns='Months since last delinquent')"
      ],
      "metadata": {
        "id": "Q8BFCn1_Pacz"
      },
      "execution_count": null,
      "outputs": []
    },
    {
      "cell_type": "code",
      "source": [
        "df_test = df_test.drop(columns='Credit Score')"
      ],
      "metadata": {
        "id": "FwkcrfXoPeNj"
      },
      "execution_count": null,
      "outputs": []
    },
    {
      "cell_type": "code",
      "source": [
        "df_test.shape"
      ],
      "metadata": {
        "colab": {
          "base_uri": "https://localhost:8080/"
        },
        "id": "52Pp4F9vOHEa",
        "outputId": "43560d89-94f4-40f5-8599-c2a4c6dbc346"
      },
      "execution_count": null,
      "outputs": [
        {
          "output_type": "execute_result",
          "data": {
            "text/plain": [
              "(2500, 14)"
            ]
          },
          "metadata": {},
          "execution_count": 326
        }
      ]
    },
    {
      "cell_type": "code",
      "source": [
        "df_test= preprocessor.transform(df_test)\n",
        "df_test.shape"
      ],
      "metadata": {
        "colab": {
          "base_uri": "https://localhost:8080/"
        },
        "id": "JXq8o7AwOcNZ",
        "outputId": "9a6afdf5-30a9-4a64-8391-7b7d61914453"
      },
      "execution_count": null,
      "outputs": [
        {
          "output_type": "execute_result",
          "data": {
            "text/plain": [
              "(2500, 14)"
            ]
          },
          "metadata": {},
          "execution_count": 327
        }
      ]
    },
    {
      "cell_type": "code",
      "source": [
        "df_test = recoder.transform(df_test)\n",
        "\n",
        "df_test.shape"
      ],
      "metadata": {
        "colab": {
          "base_uri": "https://localhost:8080/"
        },
        "id": "fWOzMSbkO3Bp",
        "outputId": "928774a9-a25d-4aae-b750-8ab9a04828d7"
      },
      "execution_count": null,
      "outputs": [
        {
          "output_type": "execute_result",
          "data": {
            "text/plain": [
              "(2500, 14)"
            ]
          },
          "metadata": {},
          "execution_count": 328
        }
      ]
    },
    {
      "cell_type": "code",
      "source": [
        "df_test.isna().sum().sum()"
      ],
      "metadata": {
        "colab": {
          "base_uri": "https://localhost:8080/"
        },
        "id": "Ul0s95BsPD6L",
        "outputId": "c465f000-0ca4-41e2-8c61-d7e8743b8477"
      },
      "execution_count": null,
      "outputs": [
        {
          "output_type": "execute_result",
          "data": {
            "text/plain": [
              "0"
            ]
          },
          "metadata": {},
          "execution_count": 329
        }
      ]
    },
    {
      "cell_type": "code",
      "source": [
        "df_test.head()"
      ],
      "metadata": {
        "colab": {
          "base_uri": "https://localhost:8080/",
          "height": 284
        },
        "id": "qhQQEfjPUN-F",
        "outputId": "33e2b9de-e9ed-46fe-fd15-76f29ad56b0f"
      },
      "execution_count": null,
      "outputs": [
        {
          "output_type": "execute_result",
          "data": {
            "text/plain": [
              "   Home Ownership  Annual Income  Years in current job  Tax Liens  \\\n",
              "0               0      1168386.0                     2        0.0   \n",
              "1               0       231838.0                     1        0.0   \n",
              "2               1      1152540.0                     2        0.0   \n",
              "3               1      1220313.0                     4        0.0   \n",
              "4               1      2340952.0                     3        0.0   \n",
              "\n",
              "   Number of Open Accounts  Years of Credit History  Maximum Open Credit  \\\n",
              "0                      9.0                     12.5             220968.0   \n",
              "1                      6.0                     32.7              55946.0   \n",
              "2                     10.0                     13.7             204600.0   \n",
              "3                     16.0                     17.0             456302.0   \n",
              "4                     11.0                     23.6            1207272.0   \n",
              "\n",
              "   Number of Credit Problems  Bankruptcies  Purpose  Term  \\\n",
              "0                        0.0           0.0        0     0   \n",
              "1                        0.0           0.0        1     0   \n",
              "2                        0.0           0.0        0     0   \n",
              "3                        0.0           0.0        0     0   \n",
              "4                        0.0           0.0        0     1   \n",
              "\n",
              "   Current Loan Amount  Current Credit Balance  Monthly Debt  \n",
              "0             162470.0                105906.0        6813.0  \n",
              "1              78298.0                 46037.0        2318.0  \n",
              "2             200178.0                146490.0       18729.0  \n",
              "3             217382.0                213199.0       27559.0  \n",
              "4             777634.0                425391.0       42605.0  "
            ],
            "text/html": [
              "\n",
              "  <div id=\"df-54d5855b-a99b-4e17-b6a2-fbbfb002f0bf\">\n",
              "    <div class=\"colab-df-container\">\n",
              "      <div>\n",
              "<style scoped>\n",
              "    .dataframe tbody tr th:only-of-type {\n",
              "        vertical-align: middle;\n",
              "    }\n",
              "\n",
              "    .dataframe tbody tr th {\n",
              "        vertical-align: top;\n",
              "    }\n",
              "\n",
              "    .dataframe thead th {\n",
              "        text-align: right;\n",
              "    }\n",
              "</style>\n",
              "<table border=\"1\" class=\"dataframe\">\n",
              "  <thead>\n",
              "    <tr style=\"text-align: right;\">\n",
              "      <th></th>\n",
              "      <th>Home Ownership</th>\n",
              "      <th>Annual Income</th>\n",
              "      <th>Years in current job</th>\n",
              "      <th>Tax Liens</th>\n",
              "      <th>Number of Open Accounts</th>\n",
              "      <th>Years of Credit History</th>\n",
              "      <th>Maximum Open Credit</th>\n",
              "      <th>Number of Credit Problems</th>\n",
              "      <th>Bankruptcies</th>\n",
              "      <th>Purpose</th>\n",
              "      <th>Term</th>\n",
              "      <th>Current Loan Amount</th>\n",
              "      <th>Current Credit Balance</th>\n",
              "      <th>Monthly Debt</th>\n",
              "    </tr>\n",
              "  </thead>\n",
              "  <tbody>\n",
              "    <tr>\n",
              "      <th>0</th>\n",
              "      <td>0</td>\n",
              "      <td>1168386.0</td>\n",
              "      <td>2</td>\n",
              "      <td>0.0</td>\n",
              "      <td>9.0</td>\n",
              "      <td>12.5</td>\n",
              "      <td>220968.0</td>\n",
              "      <td>0.0</td>\n",
              "      <td>0.0</td>\n",
              "      <td>0</td>\n",
              "      <td>0</td>\n",
              "      <td>162470.0</td>\n",
              "      <td>105906.0</td>\n",
              "      <td>6813.0</td>\n",
              "    </tr>\n",
              "    <tr>\n",
              "      <th>1</th>\n",
              "      <td>0</td>\n",
              "      <td>231838.0</td>\n",
              "      <td>1</td>\n",
              "      <td>0.0</td>\n",
              "      <td>6.0</td>\n",
              "      <td>32.7</td>\n",
              "      <td>55946.0</td>\n",
              "      <td>0.0</td>\n",
              "      <td>0.0</td>\n",
              "      <td>1</td>\n",
              "      <td>0</td>\n",
              "      <td>78298.0</td>\n",
              "      <td>46037.0</td>\n",
              "      <td>2318.0</td>\n",
              "    </tr>\n",
              "    <tr>\n",
              "      <th>2</th>\n",
              "      <td>1</td>\n",
              "      <td>1152540.0</td>\n",
              "      <td>2</td>\n",
              "      <td>0.0</td>\n",
              "      <td>10.0</td>\n",
              "      <td>13.7</td>\n",
              "      <td>204600.0</td>\n",
              "      <td>0.0</td>\n",
              "      <td>0.0</td>\n",
              "      <td>0</td>\n",
              "      <td>0</td>\n",
              "      <td>200178.0</td>\n",
              "      <td>146490.0</td>\n",
              "      <td>18729.0</td>\n",
              "    </tr>\n",
              "    <tr>\n",
              "      <th>3</th>\n",
              "      <td>1</td>\n",
              "      <td>1220313.0</td>\n",
              "      <td>4</td>\n",
              "      <td>0.0</td>\n",
              "      <td>16.0</td>\n",
              "      <td>17.0</td>\n",
              "      <td>456302.0</td>\n",
              "      <td>0.0</td>\n",
              "      <td>0.0</td>\n",
              "      <td>0</td>\n",
              "      <td>0</td>\n",
              "      <td>217382.0</td>\n",
              "      <td>213199.0</td>\n",
              "      <td>27559.0</td>\n",
              "    </tr>\n",
              "    <tr>\n",
              "      <th>4</th>\n",
              "      <td>1</td>\n",
              "      <td>2340952.0</td>\n",
              "      <td>3</td>\n",
              "      <td>0.0</td>\n",
              "      <td>11.0</td>\n",
              "      <td>23.6</td>\n",
              "      <td>1207272.0</td>\n",
              "      <td>0.0</td>\n",
              "      <td>0.0</td>\n",
              "      <td>0</td>\n",
              "      <td>1</td>\n",
              "      <td>777634.0</td>\n",
              "      <td>425391.0</td>\n",
              "      <td>42605.0</td>\n",
              "    </tr>\n",
              "  </tbody>\n",
              "</table>\n",
              "</div>\n",
              "      <button class=\"colab-df-convert\" onclick=\"convertToInteractive('df-54d5855b-a99b-4e17-b6a2-fbbfb002f0bf')\"\n",
              "              title=\"Convert this dataframe to an interactive table.\"\n",
              "              style=\"display:none;\">\n",
              "        \n",
              "  <svg xmlns=\"http://www.w3.org/2000/svg\" height=\"24px\"viewBox=\"0 0 24 24\"\n",
              "       width=\"24px\">\n",
              "    <path d=\"M0 0h24v24H0V0z\" fill=\"none\"/>\n",
              "    <path d=\"M18.56 5.44l.94 2.06.94-2.06 2.06-.94-2.06-.94-.94-2.06-.94 2.06-2.06.94zm-11 1L8.5 8.5l.94-2.06 2.06-.94-2.06-.94L8.5 2.5l-.94 2.06-2.06.94zm10 10l.94 2.06.94-2.06 2.06-.94-2.06-.94-.94-2.06-.94 2.06-2.06.94z\"/><path d=\"M17.41 7.96l-1.37-1.37c-.4-.4-.92-.59-1.43-.59-.52 0-1.04.2-1.43.59L10.3 9.45l-7.72 7.72c-.78.78-.78 2.05 0 2.83L4 21.41c.39.39.9.59 1.41.59.51 0 1.02-.2 1.41-.59l7.78-7.78 2.81-2.81c.8-.78.8-2.07 0-2.86zM5.41 20L4 18.59l7.72-7.72 1.47 1.35L5.41 20z\"/>\n",
              "  </svg>\n",
              "      </button>\n",
              "      \n",
              "  <style>\n",
              "    .colab-df-container {\n",
              "      display:flex;\n",
              "      flex-wrap:wrap;\n",
              "      gap: 12px;\n",
              "    }\n",
              "\n",
              "    .colab-df-convert {\n",
              "      background-color: #E8F0FE;\n",
              "      border: none;\n",
              "      border-radius: 50%;\n",
              "      cursor: pointer;\n",
              "      display: none;\n",
              "      fill: #1967D2;\n",
              "      height: 32px;\n",
              "      padding: 0 0 0 0;\n",
              "      width: 32px;\n",
              "    }\n",
              "\n",
              "    .colab-df-convert:hover {\n",
              "      background-color: #E2EBFA;\n",
              "      box-shadow: 0px 1px 2px rgba(60, 64, 67, 0.3), 0px 1px 3px 1px rgba(60, 64, 67, 0.15);\n",
              "      fill: #174EA6;\n",
              "    }\n",
              "\n",
              "    [theme=dark] .colab-df-convert {\n",
              "      background-color: #3B4455;\n",
              "      fill: #D2E3FC;\n",
              "    }\n",
              "\n",
              "    [theme=dark] .colab-df-convert:hover {\n",
              "      background-color: #434B5C;\n",
              "      box-shadow: 0px 1px 3px 1px rgba(0, 0, 0, 0.15);\n",
              "      filter: drop-shadow(0px 1px 2px rgba(0, 0, 0, 0.3));\n",
              "      fill: #FFFFFF;\n",
              "    }\n",
              "  </style>\n",
              "\n",
              "      <script>\n",
              "        const buttonEl =\n",
              "          document.querySelector('#df-54d5855b-a99b-4e17-b6a2-fbbfb002f0bf button.colab-df-convert');\n",
              "        buttonEl.style.display =\n",
              "          google.colab.kernel.accessAllowed ? 'block' : 'none';\n",
              "\n",
              "        async function convertToInteractive(key) {\n",
              "          const element = document.querySelector('#df-54d5855b-a99b-4e17-b6a2-fbbfb002f0bf');\n",
              "          const dataTable =\n",
              "            await google.colab.kernel.invokeFunction('convertToInteractive',\n",
              "                                                     [key], {});\n",
              "          if (!dataTable) return;\n",
              "\n",
              "          const docLinkHtml = 'Like what you see? Visit the ' +\n",
              "            '<a target=\"_blank\" href=https://colab.research.google.com/notebooks/data_table.ipynb>data table notebook</a>'\n",
              "            + ' to learn more about interactive tables.';\n",
              "          element.innerHTML = '';\n",
              "          dataTable['output_type'] = 'display_data';\n",
              "          await google.colab.output.renderOutput(dataTable, element);\n",
              "          const docLink = document.createElement('div');\n",
              "          docLink.innerHTML = docLinkHtml;\n",
              "          element.appendChild(docLink);\n",
              "        }\n",
              "      </script>\n",
              "    </div>\n",
              "  </div>\n",
              "  "
            ]
          },
          "metadata": {},
          "execution_count": 330
        }
      ]
    },
    {
      "cell_type": "code",
      "source": [
        "'''df_test_norm = df_test.copy()\n",
        "df_test_norm[NUMERIC_FEATURE_NAMES] = scaler.fit_transform(df_test_norm[NUMERIC_FEATURE_NAMES])\n",
        "\n",
        "df_test = df_test_norm.copy()'''"
      ],
      "metadata": {
        "colab": {
          "base_uri": "https://localhost:8080/",
          "height": 36
        },
        "id": "T9E_q22zP_vJ",
        "outputId": "74b1f90d-6d67-4fb4-cf12-eea822b8fb04"
      },
      "execution_count": null,
      "outputs": [
        {
          "output_type": "execute_result",
          "data": {
            "text/plain": [
              "'df_test_norm = df_test.copy()\\ndf_test_norm[NUMERIC_FEATURE_NAMES] = scaler.fit_transform(df_test_norm[NUMERIC_FEATURE_NAMES])\\n\\ndf_test = df_test_norm.copy()'"
            ],
            "application/vnd.google.colaboratory.intrinsic+json": {
              "type": "string"
            }
          },
          "metadata": {},
          "execution_count": 331
        }
      ]
    },
    {
      "cell_type": "code",
      "source": [
        "predictions = final_model.predict(df_test[important_features_top])\n",
        "predictions"
      ],
      "metadata": {
        "colab": {
          "base_uri": "https://localhost:8080/"
        },
        "id": "NwRSzkU-QOHi",
        "outputId": "2e214587-98d8-403c-dfde-09eacc92ef8c"
      },
      "execution_count": null,
      "outputs": [
        {
          "output_type": "execute_result",
          "data": {
            "text/plain": [
              "array([1, 1, 0, ..., 0, 1, 1])"
            ]
          },
          "metadata": {},
          "execution_count": 332
        }
      ]
    },
    {
      "cell_type": "code",
      "source": [
        "df_test['Predictions'] = predictions\n",
        "df_test.head()"
      ],
      "metadata": {
        "colab": {
          "base_uri": "https://localhost:8080/",
          "height": 284
        },
        "id": "P6-t4vKORfEh",
        "outputId": "da37fd61-d7a9-41ba-e1eb-db06ed813fa1"
      },
      "execution_count": null,
      "outputs": [
        {
          "output_type": "execute_result",
          "data": {
            "text/plain": [
              "   Home Ownership  Annual Income  Years in current job  Tax Liens  \\\n",
              "0               0      1168386.0                     2        0.0   \n",
              "1               0       231838.0                     1        0.0   \n",
              "2               1      1152540.0                     2        0.0   \n",
              "3               1      1220313.0                     4        0.0   \n",
              "4               1      2340952.0                     3        0.0   \n",
              "\n",
              "   Number of Open Accounts  Years of Credit History  Maximum Open Credit  \\\n",
              "0                      9.0                     12.5             220968.0   \n",
              "1                      6.0                     32.7              55946.0   \n",
              "2                     10.0                     13.7             204600.0   \n",
              "3                     16.0                     17.0             456302.0   \n",
              "4                     11.0                     23.6            1207272.0   \n",
              "\n",
              "   Number of Credit Problems  Bankruptcies  Purpose  Term  \\\n",
              "0                        0.0           0.0        0     0   \n",
              "1                        0.0           0.0        1     0   \n",
              "2                        0.0           0.0        0     0   \n",
              "3                        0.0           0.0        0     0   \n",
              "4                        0.0           0.0        0     1   \n",
              "\n",
              "   Current Loan Amount  Current Credit Balance  Monthly Debt  Predictions  \n",
              "0             162470.0                105906.0        6813.0            1  \n",
              "1              78298.0                 46037.0        2318.0            1  \n",
              "2             200178.0                146490.0       18729.0            0  \n",
              "3             217382.0                213199.0       27559.0            1  \n",
              "4             777634.0                425391.0       42605.0            0  "
            ],
            "text/html": [
              "\n",
              "  <div id=\"df-c123ee78-e09a-4a40-9afd-90d9cd8efebc\">\n",
              "    <div class=\"colab-df-container\">\n",
              "      <div>\n",
              "<style scoped>\n",
              "    .dataframe tbody tr th:only-of-type {\n",
              "        vertical-align: middle;\n",
              "    }\n",
              "\n",
              "    .dataframe tbody tr th {\n",
              "        vertical-align: top;\n",
              "    }\n",
              "\n",
              "    .dataframe thead th {\n",
              "        text-align: right;\n",
              "    }\n",
              "</style>\n",
              "<table border=\"1\" class=\"dataframe\">\n",
              "  <thead>\n",
              "    <tr style=\"text-align: right;\">\n",
              "      <th></th>\n",
              "      <th>Home Ownership</th>\n",
              "      <th>Annual Income</th>\n",
              "      <th>Years in current job</th>\n",
              "      <th>Tax Liens</th>\n",
              "      <th>Number of Open Accounts</th>\n",
              "      <th>Years of Credit History</th>\n",
              "      <th>Maximum Open Credit</th>\n",
              "      <th>Number of Credit Problems</th>\n",
              "      <th>Bankruptcies</th>\n",
              "      <th>Purpose</th>\n",
              "      <th>Term</th>\n",
              "      <th>Current Loan Amount</th>\n",
              "      <th>Current Credit Balance</th>\n",
              "      <th>Monthly Debt</th>\n",
              "      <th>Predictions</th>\n",
              "    </tr>\n",
              "  </thead>\n",
              "  <tbody>\n",
              "    <tr>\n",
              "      <th>0</th>\n",
              "      <td>0</td>\n",
              "      <td>1168386.0</td>\n",
              "      <td>2</td>\n",
              "      <td>0.0</td>\n",
              "      <td>9.0</td>\n",
              "      <td>12.5</td>\n",
              "      <td>220968.0</td>\n",
              "      <td>0.0</td>\n",
              "      <td>0.0</td>\n",
              "      <td>0</td>\n",
              "      <td>0</td>\n",
              "      <td>162470.0</td>\n",
              "      <td>105906.0</td>\n",
              "      <td>6813.0</td>\n",
              "      <td>1</td>\n",
              "    </tr>\n",
              "    <tr>\n",
              "      <th>1</th>\n",
              "      <td>0</td>\n",
              "      <td>231838.0</td>\n",
              "      <td>1</td>\n",
              "      <td>0.0</td>\n",
              "      <td>6.0</td>\n",
              "      <td>32.7</td>\n",
              "      <td>55946.0</td>\n",
              "      <td>0.0</td>\n",
              "      <td>0.0</td>\n",
              "      <td>1</td>\n",
              "      <td>0</td>\n",
              "      <td>78298.0</td>\n",
              "      <td>46037.0</td>\n",
              "      <td>2318.0</td>\n",
              "      <td>1</td>\n",
              "    </tr>\n",
              "    <tr>\n",
              "      <th>2</th>\n",
              "      <td>1</td>\n",
              "      <td>1152540.0</td>\n",
              "      <td>2</td>\n",
              "      <td>0.0</td>\n",
              "      <td>10.0</td>\n",
              "      <td>13.7</td>\n",
              "      <td>204600.0</td>\n",
              "      <td>0.0</td>\n",
              "      <td>0.0</td>\n",
              "      <td>0</td>\n",
              "      <td>0</td>\n",
              "      <td>200178.0</td>\n",
              "      <td>146490.0</td>\n",
              "      <td>18729.0</td>\n",
              "      <td>0</td>\n",
              "    </tr>\n",
              "    <tr>\n",
              "      <th>3</th>\n",
              "      <td>1</td>\n",
              "      <td>1220313.0</td>\n",
              "      <td>4</td>\n",
              "      <td>0.0</td>\n",
              "      <td>16.0</td>\n",
              "      <td>17.0</td>\n",
              "      <td>456302.0</td>\n",
              "      <td>0.0</td>\n",
              "      <td>0.0</td>\n",
              "      <td>0</td>\n",
              "      <td>0</td>\n",
              "      <td>217382.0</td>\n",
              "      <td>213199.0</td>\n",
              "      <td>27559.0</td>\n",
              "      <td>1</td>\n",
              "    </tr>\n",
              "    <tr>\n",
              "      <th>4</th>\n",
              "      <td>1</td>\n",
              "      <td>2340952.0</td>\n",
              "      <td>3</td>\n",
              "      <td>0.0</td>\n",
              "      <td>11.0</td>\n",
              "      <td>23.6</td>\n",
              "      <td>1207272.0</td>\n",
              "      <td>0.0</td>\n",
              "      <td>0.0</td>\n",
              "      <td>0</td>\n",
              "      <td>1</td>\n",
              "      <td>777634.0</td>\n",
              "      <td>425391.0</td>\n",
              "      <td>42605.0</td>\n",
              "      <td>0</td>\n",
              "    </tr>\n",
              "  </tbody>\n",
              "</table>\n",
              "</div>\n",
              "      <button class=\"colab-df-convert\" onclick=\"convertToInteractive('df-c123ee78-e09a-4a40-9afd-90d9cd8efebc')\"\n",
              "              title=\"Convert this dataframe to an interactive table.\"\n",
              "              style=\"display:none;\">\n",
              "        \n",
              "  <svg xmlns=\"http://www.w3.org/2000/svg\" height=\"24px\"viewBox=\"0 0 24 24\"\n",
              "       width=\"24px\">\n",
              "    <path d=\"M0 0h24v24H0V0z\" fill=\"none\"/>\n",
              "    <path d=\"M18.56 5.44l.94 2.06.94-2.06 2.06-.94-2.06-.94-.94-2.06-.94 2.06-2.06.94zm-11 1L8.5 8.5l.94-2.06 2.06-.94-2.06-.94L8.5 2.5l-.94 2.06-2.06.94zm10 10l.94 2.06.94-2.06 2.06-.94-2.06-.94-.94-2.06-.94 2.06-2.06.94z\"/><path d=\"M17.41 7.96l-1.37-1.37c-.4-.4-.92-.59-1.43-.59-.52 0-1.04.2-1.43.59L10.3 9.45l-7.72 7.72c-.78.78-.78 2.05 0 2.83L4 21.41c.39.39.9.59 1.41.59.51 0 1.02-.2 1.41-.59l7.78-7.78 2.81-2.81c.8-.78.8-2.07 0-2.86zM5.41 20L4 18.59l7.72-7.72 1.47 1.35L5.41 20z\"/>\n",
              "  </svg>\n",
              "      </button>\n",
              "      \n",
              "  <style>\n",
              "    .colab-df-container {\n",
              "      display:flex;\n",
              "      flex-wrap:wrap;\n",
              "      gap: 12px;\n",
              "    }\n",
              "\n",
              "    .colab-df-convert {\n",
              "      background-color: #E8F0FE;\n",
              "      border: none;\n",
              "      border-radius: 50%;\n",
              "      cursor: pointer;\n",
              "      display: none;\n",
              "      fill: #1967D2;\n",
              "      height: 32px;\n",
              "      padding: 0 0 0 0;\n",
              "      width: 32px;\n",
              "    }\n",
              "\n",
              "    .colab-df-convert:hover {\n",
              "      background-color: #E2EBFA;\n",
              "      box-shadow: 0px 1px 2px rgba(60, 64, 67, 0.3), 0px 1px 3px 1px rgba(60, 64, 67, 0.15);\n",
              "      fill: #174EA6;\n",
              "    }\n",
              "\n",
              "    [theme=dark] .colab-df-convert {\n",
              "      background-color: #3B4455;\n",
              "      fill: #D2E3FC;\n",
              "    }\n",
              "\n",
              "    [theme=dark] .colab-df-convert:hover {\n",
              "      background-color: #434B5C;\n",
              "      box-shadow: 0px 1px 3px 1px rgba(0, 0, 0, 0.15);\n",
              "      filter: drop-shadow(0px 1px 2px rgba(0, 0, 0, 0.3));\n",
              "      fill: #FFFFFF;\n",
              "    }\n",
              "  </style>\n",
              "\n",
              "      <script>\n",
              "        const buttonEl =\n",
              "          document.querySelector('#df-c123ee78-e09a-4a40-9afd-90d9cd8efebc button.colab-df-convert');\n",
              "        buttonEl.style.display =\n",
              "          google.colab.kernel.accessAllowed ? 'block' : 'none';\n",
              "\n",
              "        async function convertToInteractive(key) {\n",
              "          const element = document.querySelector('#df-c123ee78-e09a-4a40-9afd-90d9cd8efebc');\n",
              "          const dataTable =\n",
              "            await google.colab.kernel.invokeFunction('convertToInteractive',\n",
              "                                                     [key], {});\n",
              "          if (!dataTable) return;\n",
              "\n",
              "          const docLinkHtml = 'Like what you see? Visit the ' +\n",
              "            '<a target=\"_blank\" href=https://colab.research.google.com/notebooks/data_table.ipynb>data table notebook</a>'\n",
              "            + ' to learn more about interactive tables.';\n",
              "          element.innerHTML = '';\n",
              "          dataTable['output_type'] = 'display_data';\n",
              "          await google.colab.output.renderOutput(dataTable, element);\n",
              "          const docLink = document.createElement('div');\n",
              "          docLink.innerHTML = docLinkHtml;\n",
              "          element.appendChild(docLink);\n",
              "        }\n",
              "      </script>\n",
              "    </div>\n",
              "  </div>\n",
              "  "
            ]
          },
          "metadata": {},
          "execution_count": 333
        }
      ]
    },
    {
      "cell_type": "code",
      "source": [
        "df_predictions = df_test['Predictions']\n",
        "df_predictions"
      ],
      "metadata": {
        "colab": {
          "base_uri": "https://localhost:8080/"
        },
        "id": "skg8fir4Trak",
        "outputId": "0b20f3b4-bed6-482a-bb70-06989c792c5a"
      },
      "execution_count": null,
      "outputs": [
        {
          "output_type": "execute_result",
          "data": {
            "text/plain": [
              "0       1\n",
              "1       1\n",
              "2       0\n",
              "3       1\n",
              "4       0\n",
              "       ..\n",
              "2495    0\n",
              "2496    1\n",
              "2497    0\n",
              "2498    1\n",
              "2499    1\n",
              "Name: Predictions, Length: 2500, dtype: int64"
            ]
          },
          "metadata": {},
          "execution_count": 334
        }
      ]
    },
    {
      "cell_type": "code",
      "source": [
        "df_predictions.to_csv('NSafronova_predictions.csv')"
      ],
      "metadata": {
        "id": "DftpwZB_WaXj"
      },
      "execution_count": null,
      "outputs": []
    }
  ]
}