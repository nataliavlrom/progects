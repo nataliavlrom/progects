{
  "nbformat": 4,
  "nbformat_minor": 0,
  "metadata": {
    "colab": {
      "name": "terver_project.ipynb",
      "provenance": [],
      "authorship_tag": "ABX9TyMVzJ/QxistTCZqj5Zw0p4V",
      "include_colab_link": true
    },
    "kernelspec": {
      "name": "python3",
      "display_name": "Python 3"
    },
    "language_info": {
      "name": "python"
    }
  },
  "cells": [
    {
      "cell_type": "markdown",
      "metadata": {
        "id": "view-in-github",
        "colab_type": "text"
      },
      "source": [
        "<a href=\"https://colab.research.google.com/github/nataliavlrom/progects/blob/main/terver_project.ipynb\" target=\"_parent\"><img src=\"https://colab.research.google.com/assets/colab-badge.svg\" alt=\"Open In Colab\"/></a>"
      ]
    },
    {
      "cell_type": "markdown",
      "metadata": {
        "id": "mnga3bV6ZZWz"
      },
      "source": [
        "# Курсовой проект \n",
        "\n",
        "**Линейная регрессия (условия применимости метода проверить ,можно с графиками, построить модель, исследовать на статистическую значимость модель ,можно и коэффициенты (самостоятельное изучение), коэффициент детерминации)**\n",
        "\n",
        "\n",
        "\n",
        "\n",
        "\n"
      ]
    },
    {
      "cell_type": "markdown",
      "metadata": {
        "id": "wMKMa37hDEEk"
      },
      "source": [
        "**Условия применения линейного регрессионного анализа:**\n",
        "\n",
        "1. Линейная взаимосвязь независимой (x) и зависимой переменной (y)\n",
        "2. Нормальное распределение остатков\n",
        "3. Гомоскедастичность - постоянная изменчивость остатков на всех уровнях независимой переменной"
      ]
    },
    {
      "cell_type": "markdown",
      "metadata": {
        "id": "hFM5KKtIeeT5"
      },
      "source": [
        "**Настройка среды. Загрузка данных**"
      ]
    },
    {
      "cell_type": "code",
      "metadata": {
        "id": "PgVoISiGebKP"
      },
      "source": [
        "import pandas as pd\n",
        "import numpy as np\n",
        "import matplotlib.pyplot as plt\n",
        "import seaborn as sns\n",
        "import scipy.stats as stats\n",
        "import pylab\n",
        "from sklearn.linear_model import LinearRegression\n",
        "import statsmodels.api as sm\n",
        "import statsmodels.formula.api as smf\n",
        "from google.colab import files"
      ],
      "execution_count": 122,
      "outputs": []
    },
    {
      "cell_type": "code",
      "metadata": {
        "colab": {
          "resources": {
            "http://localhost:8080/nbextensions/google.colab/files.js": {
              "data": "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",
              "ok": true,
              "headers": [
                [
                  "content-type",
                  "application/javascript"
                ]
              ],
              "status": 200,
              "status_text": ""
            }
          },
          "base_uri": "https://localhost:8080/",
          "height": 111
        },
        "id": "sij7qIEyh7gp",
        "outputId": "e2219cc8-0559-425a-f975-188da8de0067"
      },
      "source": [
        "files.upload()"
      ],
      "execution_count": 123,
      "outputs": [
        {
          "output_type": "display_data",
          "data": {
            "text/html": [
              "\n",
              "     <input type=\"file\" id=\"files-834a1ee5-806b-49a5-9db7-b98f99b3cbc0\" name=\"files[]\" multiple disabled\n",
              "        style=\"border:none\" />\n",
              "     <output id=\"result-834a1ee5-806b-49a5-9db7-b98f99b3cbc0\">\n",
              "      Upload widget is only available when the cell has been executed in the\n",
              "      current browser session. Please rerun this cell to enable.\n",
              "      </output>\n",
              "      <script src=\"/nbextensions/google.colab/files.js\"></script> "
            ],
            "text/plain": [
              "<IPython.core.display.HTML object>"
            ]
          },
          "metadata": {}
        },
        {
          "output_type": "stream",
          "name": "stdout",
          "text": [
            "Saving states.csv to states (2).csv\n"
          ]
        },
        {
          "output_type": "execute_result",
          "data": {
            "text/plain": [
              "{'states.csv': b'\"state\",\"metro_res\",\"white\",\"hs_grad\",\"poverty\",\"female_house\"\\n\"Alabama\",55.4,71.3,79.9,14.6,14.2\\n\"Alaska\",65.6,70.8,90.6,8.3,10.8\\n\"Arizona\",88.2,87.7,83.8,13.3,11.1\\n\"Arkansas\",52.5,81,80.9,18,12.1\\n\"California\",94.4,77.5,81.1,12.8,12.6\\n\"Colorado\",84.5,90.2,88.7,9.4,9.6\\n\"Connecticut\",87.7,85.4,87.5,7.8,12.1\\n\"Delaware\",80.1,76.3,88.7,8.1,13.1\\n\"District  of Columbia\",100,36.2,86,16.8,18.9\\n\"Florida\",89.3,80.6,84.7,12.1,12\\n\"Georgia\",71.6,67.5,85.1,12.1,14.5\\n\"Hawaii\",91.5,25.9,88.5,10.6,12.4\\n\"Idaho\",66.4,95.5,88.2,11.8,8.7\\n\"Illinois\",87.8,79.5,85.9,11.2,12.3\\n\"Indiana\",70.8,88.9,86.4,8.7,11.1\\n\"Iowa\",61.1,94.9,89.7,8.3,8.6\\n\"Kansas\",71.4,89.3,88.6,9.4,9.3\\n\"Kentucky\",55.8,90.3,82.8,13.1,11.8\\n\"Louisiana\",72.6,64.2,79.8,17,16.6\\n\"Maine\",40.2,97.1,86.6,11.3,9.5\\n\"Maryland\",86.1,65.6,87.6,7.3,14.1\\n\"Massachusetts\",91.4,87.2,87.1,9.6,11.9\\n\"Michigan\",74.7,81.5,87.6,10.3,12.5\\n\"Minnesota\",70.9,90.2,91.6,6.5,8.9\\n\"Mississippi\",48.8,61.2,81.2,17.6,17.3\\n\"Missouri\",69.4,85.3,88.3,9.6,11.6\\n\"Montana\",54.1,90.9,90.1,13.7,8.9\\n\"Nebraska\",69.8,92.1,90.8,9.5,9.1\\n\"Nevada\",91.5,84.1,85.6,8.3,11.1\\n\"New  Hampshire\",59.3,96.3,92.1,5.6,9.1\\n\"New Jersey\",94.4,77.3,86.2,7.8,12.6\\n\"New Mexico\",75,84.9,81.7,17.8,13.2\\n\"New York\",87.5,73.6,84.2,14,14.7\\n\"North  Carolina\",60.2,74.1,81.4,13.1,12.5\\n\"North Dakota\",55.9,92.5,89.7,11.9,7.8\\n\"Ohio\",77.4,85.4,87.2,10.1,12.1\\n\"Oklahoma\",65.3,78.4,85.7,14.7,11.4\\n\"Oregon\",78.7,90.8,86.9,11.2,9.8\\n\"Pennsylvania\",77.1,86.4,86,9.2,11.6\\n\"Rhode Island\",90.9,89.2,81,10.3,12.9\\n\"South  Carolina\",60.5,67.7,80.8,13.5,14.8\\n\"South Dakota\",51.9,88.8,88.7,10.2,9\\n\"Tennessee\",63.6,80.8,81,14.2,12.9\\n\"Texas\",82.5,83.6,77.2,15.3,12.7\\n\"Utah\",88.2,93.6,89.4,9.3,9.4\\n\"Vermont\",38.2,96.9,88.9,9.9,9.3\\n\"Virginia\",73,73.9,87.8,8.7,11.9\\n\"Washington\",82,85.5,89.1,10.8,9.9\\n\"West  Virginia\",46.1,95,78.7,16,10.7\\n\"Wisconsin\",68.3,90.1,88.6,8.6,9.6\\n\"Wyoming\",65.1,94.7,90.9,9.5,8.7\\n'}"
            ]
          },
          "metadata": {},
          "execution_count": 123
        }
      ]
    },
    {
      "cell_type": "markdown",
      "metadata": {
        "id": "iAlbDx7YpJ04"
      },
      "source": [
        "**Описание данных:**\n",
        "1. state - название штатов в США\n",
        "2. mertro_res - % начеления, которое проживает в столичной области\n",
        "3. white - % белокожих\n",
        "4. hs_grad - % людей, имеющих среднее образование\n",
        "5. poverty - % людей, проживающих в бедности\n",
        "6. femail_house - % семей, где женщина домохозяйка"
      ]
    },
    {
      "cell_type": "code",
      "metadata": {
        "colab": {
          "base_uri": "https://localhost:8080/",
          "height": 1648
        },
        "id": "HqDexICpiiAQ",
        "outputId": "43bb720c-5d71-4273-b6a8-d7ba2739647b"
      },
      "source": [
        "df = pd.read_csv('states.csv')\n",
        "df"
      ],
      "execution_count": 124,
      "outputs": [
        {
          "output_type": "execute_result",
          "data": {
            "text/html": [
              "<div>\n",
              "<style scoped>\n",
              "    .dataframe tbody tr th:only-of-type {\n",
              "        vertical-align: middle;\n",
              "    }\n",
              "\n",
              "    .dataframe tbody tr th {\n",
              "        vertical-align: top;\n",
              "    }\n",
              "\n",
              "    .dataframe thead th {\n",
              "        text-align: right;\n",
              "    }\n",
              "</style>\n",
              "<table border=\"1\" class=\"dataframe\">\n",
              "  <thead>\n",
              "    <tr style=\"text-align: right;\">\n",
              "      <th></th>\n",
              "      <th>state</th>\n",
              "      <th>metro_res</th>\n",
              "      <th>white</th>\n",
              "      <th>hs_grad</th>\n",
              "      <th>poverty</th>\n",
              "      <th>female_house</th>\n",
              "    </tr>\n",
              "  </thead>\n",
              "  <tbody>\n",
              "    <tr>\n",
              "      <th>0</th>\n",
              "      <td>Alabama</td>\n",
              "      <td>55.4</td>\n",
              "      <td>71.3</td>\n",
              "      <td>79.9</td>\n",
              "      <td>14.6</td>\n",
              "      <td>14.2</td>\n",
              "    </tr>\n",
              "    <tr>\n",
              "      <th>1</th>\n",
              "      <td>Alaska</td>\n",
              "      <td>65.6</td>\n",
              "      <td>70.8</td>\n",
              "      <td>90.6</td>\n",
              "      <td>8.3</td>\n",
              "      <td>10.8</td>\n",
              "    </tr>\n",
              "    <tr>\n",
              "      <th>2</th>\n",
              "      <td>Arizona</td>\n",
              "      <td>88.2</td>\n",
              "      <td>87.7</td>\n",
              "      <td>83.8</td>\n",
              "      <td>13.3</td>\n",
              "      <td>11.1</td>\n",
              "    </tr>\n",
              "    <tr>\n",
              "      <th>3</th>\n",
              "      <td>Arkansas</td>\n",
              "      <td>52.5</td>\n",
              "      <td>81.0</td>\n",
              "      <td>80.9</td>\n",
              "      <td>18.0</td>\n",
              "      <td>12.1</td>\n",
              "    </tr>\n",
              "    <tr>\n",
              "      <th>4</th>\n",
              "      <td>California</td>\n",
              "      <td>94.4</td>\n",
              "      <td>77.5</td>\n",
              "      <td>81.1</td>\n",
              "      <td>12.8</td>\n",
              "      <td>12.6</td>\n",
              "    </tr>\n",
              "    <tr>\n",
              "      <th>5</th>\n",
              "      <td>Colorado</td>\n",
              "      <td>84.5</td>\n",
              "      <td>90.2</td>\n",
              "      <td>88.7</td>\n",
              "      <td>9.4</td>\n",
              "      <td>9.6</td>\n",
              "    </tr>\n",
              "    <tr>\n",
              "      <th>6</th>\n",
              "      <td>Connecticut</td>\n",
              "      <td>87.7</td>\n",
              "      <td>85.4</td>\n",
              "      <td>87.5</td>\n",
              "      <td>7.8</td>\n",
              "      <td>12.1</td>\n",
              "    </tr>\n",
              "    <tr>\n",
              "      <th>7</th>\n",
              "      <td>Delaware</td>\n",
              "      <td>80.1</td>\n",
              "      <td>76.3</td>\n",
              "      <td>88.7</td>\n",
              "      <td>8.1</td>\n",
              "      <td>13.1</td>\n",
              "    </tr>\n",
              "    <tr>\n",
              "      <th>8</th>\n",
              "      <td>District  of Columbia</td>\n",
              "      <td>100.0</td>\n",
              "      <td>36.2</td>\n",
              "      <td>86.0</td>\n",
              "      <td>16.8</td>\n",
              "      <td>18.9</td>\n",
              "    </tr>\n",
              "    <tr>\n",
              "      <th>9</th>\n",
              "      <td>Florida</td>\n",
              "      <td>89.3</td>\n",
              "      <td>80.6</td>\n",
              "      <td>84.7</td>\n",
              "      <td>12.1</td>\n",
              "      <td>12.0</td>\n",
              "    </tr>\n",
              "    <tr>\n",
              "      <th>10</th>\n",
              "      <td>Georgia</td>\n",
              "      <td>71.6</td>\n",
              "      <td>67.5</td>\n",
              "      <td>85.1</td>\n",
              "      <td>12.1</td>\n",
              "      <td>14.5</td>\n",
              "    </tr>\n",
              "    <tr>\n",
              "      <th>11</th>\n",
              "      <td>Hawaii</td>\n",
              "      <td>91.5</td>\n",
              "      <td>25.9</td>\n",
              "      <td>88.5</td>\n",
              "      <td>10.6</td>\n",
              "      <td>12.4</td>\n",
              "    </tr>\n",
              "    <tr>\n",
              "      <th>12</th>\n",
              "      <td>Idaho</td>\n",
              "      <td>66.4</td>\n",
              "      <td>95.5</td>\n",
              "      <td>88.2</td>\n",
              "      <td>11.8</td>\n",
              "      <td>8.7</td>\n",
              "    </tr>\n",
              "    <tr>\n",
              "      <th>13</th>\n",
              "      <td>Illinois</td>\n",
              "      <td>87.8</td>\n",
              "      <td>79.5</td>\n",
              "      <td>85.9</td>\n",
              "      <td>11.2</td>\n",
              "      <td>12.3</td>\n",
              "    </tr>\n",
              "    <tr>\n",
              "      <th>14</th>\n",
              "      <td>Indiana</td>\n",
              "      <td>70.8</td>\n",
              "      <td>88.9</td>\n",
              "      <td>86.4</td>\n",
              "      <td>8.7</td>\n",
              "      <td>11.1</td>\n",
              "    </tr>\n",
              "    <tr>\n",
              "      <th>15</th>\n",
              "      <td>Iowa</td>\n",
              "      <td>61.1</td>\n",
              "      <td>94.9</td>\n",
              "      <td>89.7</td>\n",
              "      <td>8.3</td>\n",
              "      <td>8.6</td>\n",
              "    </tr>\n",
              "    <tr>\n",
              "      <th>16</th>\n",
              "      <td>Kansas</td>\n",
              "      <td>71.4</td>\n",
              "      <td>89.3</td>\n",
              "      <td>88.6</td>\n",
              "      <td>9.4</td>\n",
              "      <td>9.3</td>\n",
              "    </tr>\n",
              "    <tr>\n",
              "      <th>17</th>\n",
              "      <td>Kentucky</td>\n",
              "      <td>55.8</td>\n",
              "      <td>90.3</td>\n",
              "      <td>82.8</td>\n",
              "      <td>13.1</td>\n",
              "      <td>11.8</td>\n",
              "    </tr>\n",
              "    <tr>\n",
              "      <th>18</th>\n",
              "      <td>Louisiana</td>\n",
              "      <td>72.6</td>\n",
              "      <td>64.2</td>\n",
              "      <td>79.8</td>\n",
              "      <td>17.0</td>\n",
              "      <td>16.6</td>\n",
              "    </tr>\n",
              "    <tr>\n",
              "      <th>19</th>\n",
              "      <td>Maine</td>\n",
              "      <td>40.2</td>\n",
              "      <td>97.1</td>\n",
              "      <td>86.6</td>\n",
              "      <td>11.3</td>\n",
              "      <td>9.5</td>\n",
              "    </tr>\n",
              "    <tr>\n",
              "      <th>20</th>\n",
              "      <td>Maryland</td>\n",
              "      <td>86.1</td>\n",
              "      <td>65.6</td>\n",
              "      <td>87.6</td>\n",
              "      <td>7.3</td>\n",
              "      <td>14.1</td>\n",
              "    </tr>\n",
              "    <tr>\n",
              "      <th>21</th>\n",
              "      <td>Massachusetts</td>\n",
              "      <td>91.4</td>\n",
              "      <td>87.2</td>\n",
              "      <td>87.1</td>\n",
              "      <td>9.6</td>\n",
              "      <td>11.9</td>\n",
              "    </tr>\n",
              "    <tr>\n",
              "      <th>22</th>\n",
              "      <td>Michigan</td>\n",
              "      <td>74.7</td>\n",
              "      <td>81.5</td>\n",
              "      <td>87.6</td>\n",
              "      <td>10.3</td>\n",
              "      <td>12.5</td>\n",
              "    </tr>\n",
              "    <tr>\n",
              "      <th>23</th>\n",
              "      <td>Minnesota</td>\n",
              "      <td>70.9</td>\n",
              "      <td>90.2</td>\n",
              "      <td>91.6</td>\n",
              "      <td>6.5</td>\n",
              "      <td>8.9</td>\n",
              "    </tr>\n",
              "    <tr>\n",
              "      <th>24</th>\n",
              "      <td>Mississippi</td>\n",
              "      <td>48.8</td>\n",
              "      <td>61.2</td>\n",
              "      <td>81.2</td>\n",
              "      <td>17.6</td>\n",
              "      <td>17.3</td>\n",
              "    </tr>\n",
              "    <tr>\n",
              "      <th>25</th>\n",
              "      <td>Missouri</td>\n",
              "      <td>69.4</td>\n",
              "      <td>85.3</td>\n",
              "      <td>88.3</td>\n",
              "      <td>9.6</td>\n",
              "      <td>11.6</td>\n",
              "    </tr>\n",
              "    <tr>\n",
              "      <th>26</th>\n",
              "      <td>Montana</td>\n",
              "      <td>54.1</td>\n",
              "      <td>90.9</td>\n",
              "      <td>90.1</td>\n",
              "      <td>13.7</td>\n",
              "      <td>8.9</td>\n",
              "    </tr>\n",
              "    <tr>\n",
              "      <th>27</th>\n",
              "      <td>Nebraska</td>\n",
              "      <td>69.8</td>\n",
              "      <td>92.1</td>\n",
              "      <td>90.8</td>\n",
              "      <td>9.5</td>\n",
              "      <td>9.1</td>\n",
              "    </tr>\n",
              "    <tr>\n",
              "      <th>28</th>\n",
              "      <td>Nevada</td>\n",
              "      <td>91.5</td>\n",
              "      <td>84.1</td>\n",
              "      <td>85.6</td>\n",
              "      <td>8.3</td>\n",
              "      <td>11.1</td>\n",
              "    </tr>\n",
              "    <tr>\n",
              "      <th>29</th>\n",
              "      <td>New  Hampshire</td>\n",
              "      <td>59.3</td>\n",
              "      <td>96.3</td>\n",
              "      <td>92.1</td>\n",
              "      <td>5.6</td>\n",
              "      <td>9.1</td>\n",
              "    </tr>\n",
              "    <tr>\n",
              "      <th>30</th>\n",
              "      <td>New Jersey</td>\n",
              "      <td>94.4</td>\n",
              "      <td>77.3</td>\n",
              "      <td>86.2</td>\n",
              "      <td>7.8</td>\n",
              "      <td>12.6</td>\n",
              "    </tr>\n",
              "    <tr>\n",
              "      <th>31</th>\n",
              "      <td>New Mexico</td>\n",
              "      <td>75.0</td>\n",
              "      <td>84.9</td>\n",
              "      <td>81.7</td>\n",
              "      <td>17.8</td>\n",
              "      <td>13.2</td>\n",
              "    </tr>\n",
              "    <tr>\n",
              "      <th>32</th>\n",
              "      <td>New York</td>\n",
              "      <td>87.5</td>\n",
              "      <td>73.6</td>\n",
              "      <td>84.2</td>\n",
              "      <td>14.0</td>\n",
              "      <td>14.7</td>\n",
              "    </tr>\n",
              "    <tr>\n",
              "      <th>33</th>\n",
              "      <td>North  Carolina</td>\n",
              "      <td>60.2</td>\n",
              "      <td>74.1</td>\n",
              "      <td>81.4</td>\n",
              "      <td>13.1</td>\n",
              "      <td>12.5</td>\n",
              "    </tr>\n",
              "    <tr>\n",
              "      <th>34</th>\n",
              "      <td>North Dakota</td>\n",
              "      <td>55.9</td>\n",
              "      <td>92.5</td>\n",
              "      <td>89.7</td>\n",
              "      <td>11.9</td>\n",
              "      <td>7.8</td>\n",
              "    </tr>\n",
              "    <tr>\n",
              "      <th>35</th>\n",
              "      <td>Ohio</td>\n",
              "      <td>77.4</td>\n",
              "      <td>85.4</td>\n",
              "      <td>87.2</td>\n",
              "      <td>10.1</td>\n",
              "      <td>12.1</td>\n",
              "    </tr>\n",
              "    <tr>\n",
              "      <th>36</th>\n",
              "      <td>Oklahoma</td>\n",
              "      <td>65.3</td>\n",
              "      <td>78.4</td>\n",
              "      <td>85.7</td>\n",
              "      <td>14.7</td>\n",
              "      <td>11.4</td>\n",
              "    </tr>\n",
              "    <tr>\n",
              "      <th>37</th>\n",
              "      <td>Oregon</td>\n",
              "      <td>78.7</td>\n",
              "      <td>90.8</td>\n",
              "      <td>86.9</td>\n",
              "      <td>11.2</td>\n",
              "      <td>9.8</td>\n",
              "    </tr>\n",
              "    <tr>\n",
              "      <th>38</th>\n",
              "      <td>Pennsylvania</td>\n",
              "      <td>77.1</td>\n",
              "      <td>86.4</td>\n",
              "      <td>86.0</td>\n",
              "      <td>9.2</td>\n",
              "      <td>11.6</td>\n",
              "    </tr>\n",
              "    <tr>\n",
              "      <th>39</th>\n",
              "      <td>Rhode Island</td>\n",
              "      <td>90.9</td>\n",
              "      <td>89.2</td>\n",
              "      <td>81.0</td>\n",
              "      <td>10.3</td>\n",
              "      <td>12.9</td>\n",
              "    </tr>\n",
              "    <tr>\n",
              "      <th>40</th>\n",
              "      <td>South  Carolina</td>\n",
              "      <td>60.5</td>\n",
              "      <td>67.7</td>\n",
              "      <td>80.8</td>\n",
              "      <td>13.5</td>\n",
              "      <td>14.8</td>\n",
              "    </tr>\n",
              "    <tr>\n",
              "      <th>41</th>\n",
              "      <td>South Dakota</td>\n",
              "      <td>51.9</td>\n",
              "      <td>88.8</td>\n",
              "      <td>88.7</td>\n",
              "      <td>10.2</td>\n",
              "      <td>9.0</td>\n",
              "    </tr>\n",
              "    <tr>\n",
              "      <th>42</th>\n",
              "      <td>Tennessee</td>\n",
              "      <td>63.6</td>\n",
              "      <td>80.8</td>\n",
              "      <td>81.0</td>\n",
              "      <td>14.2</td>\n",
              "      <td>12.9</td>\n",
              "    </tr>\n",
              "    <tr>\n",
              "      <th>43</th>\n",
              "      <td>Texas</td>\n",
              "      <td>82.5</td>\n",
              "      <td>83.6</td>\n",
              "      <td>77.2</td>\n",
              "      <td>15.3</td>\n",
              "      <td>12.7</td>\n",
              "    </tr>\n",
              "    <tr>\n",
              "      <th>44</th>\n",
              "      <td>Utah</td>\n",
              "      <td>88.2</td>\n",
              "      <td>93.6</td>\n",
              "      <td>89.4</td>\n",
              "      <td>9.3</td>\n",
              "      <td>9.4</td>\n",
              "    </tr>\n",
              "    <tr>\n",
              "      <th>45</th>\n",
              "      <td>Vermont</td>\n",
              "      <td>38.2</td>\n",
              "      <td>96.9</td>\n",
              "      <td>88.9</td>\n",
              "      <td>9.9</td>\n",
              "      <td>9.3</td>\n",
              "    </tr>\n",
              "    <tr>\n",
              "      <th>46</th>\n",
              "      <td>Virginia</td>\n",
              "      <td>73.0</td>\n",
              "      <td>73.9</td>\n",
              "      <td>87.8</td>\n",
              "      <td>8.7</td>\n",
              "      <td>11.9</td>\n",
              "    </tr>\n",
              "    <tr>\n",
              "      <th>47</th>\n",
              "      <td>Washington</td>\n",
              "      <td>82.0</td>\n",
              "      <td>85.5</td>\n",
              "      <td>89.1</td>\n",
              "      <td>10.8</td>\n",
              "      <td>9.9</td>\n",
              "    </tr>\n",
              "    <tr>\n",
              "      <th>48</th>\n",
              "      <td>West  Virginia</td>\n",
              "      <td>46.1</td>\n",
              "      <td>95.0</td>\n",
              "      <td>78.7</td>\n",
              "      <td>16.0</td>\n",
              "      <td>10.7</td>\n",
              "    </tr>\n",
              "    <tr>\n",
              "      <th>49</th>\n",
              "      <td>Wisconsin</td>\n",
              "      <td>68.3</td>\n",
              "      <td>90.1</td>\n",
              "      <td>88.6</td>\n",
              "      <td>8.6</td>\n",
              "      <td>9.6</td>\n",
              "    </tr>\n",
              "    <tr>\n",
              "      <th>50</th>\n",
              "      <td>Wyoming</td>\n",
              "      <td>65.1</td>\n",
              "      <td>94.7</td>\n",
              "      <td>90.9</td>\n",
              "      <td>9.5</td>\n",
              "      <td>8.7</td>\n",
              "    </tr>\n",
              "  </tbody>\n",
              "</table>\n",
              "</div>"
            ],
            "text/plain": [
              "                    state  metro_res  white  hs_grad  poverty  female_house\n",
              "0                 Alabama       55.4   71.3     79.9     14.6          14.2\n",
              "1                  Alaska       65.6   70.8     90.6      8.3          10.8\n",
              "2                 Arizona       88.2   87.7     83.8     13.3          11.1\n",
              "3                Arkansas       52.5   81.0     80.9     18.0          12.1\n",
              "4              California       94.4   77.5     81.1     12.8          12.6\n",
              "5                Colorado       84.5   90.2     88.7      9.4           9.6\n",
              "6             Connecticut       87.7   85.4     87.5      7.8          12.1\n",
              "7                Delaware       80.1   76.3     88.7      8.1          13.1\n",
              "8   District  of Columbia      100.0   36.2     86.0     16.8          18.9\n",
              "9                 Florida       89.3   80.6     84.7     12.1          12.0\n",
              "10                Georgia       71.6   67.5     85.1     12.1          14.5\n",
              "11                 Hawaii       91.5   25.9     88.5     10.6          12.4\n",
              "12                  Idaho       66.4   95.5     88.2     11.8           8.7\n",
              "13               Illinois       87.8   79.5     85.9     11.2          12.3\n",
              "14                Indiana       70.8   88.9     86.4      8.7          11.1\n",
              "15                   Iowa       61.1   94.9     89.7      8.3           8.6\n",
              "16                 Kansas       71.4   89.3     88.6      9.4           9.3\n",
              "17               Kentucky       55.8   90.3     82.8     13.1          11.8\n",
              "18              Louisiana       72.6   64.2     79.8     17.0          16.6\n",
              "19                  Maine       40.2   97.1     86.6     11.3           9.5\n",
              "20               Maryland       86.1   65.6     87.6      7.3          14.1\n",
              "21          Massachusetts       91.4   87.2     87.1      9.6          11.9\n",
              "22               Michigan       74.7   81.5     87.6     10.3          12.5\n",
              "23              Minnesota       70.9   90.2     91.6      6.5           8.9\n",
              "24            Mississippi       48.8   61.2     81.2     17.6          17.3\n",
              "25               Missouri       69.4   85.3     88.3      9.6          11.6\n",
              "26                Montana       54.1   90.9     90.1     13.7           8.9\n",
              "27               Nebraska       69.8   92.1     90.8      9.5           9.1\n",
              "28                 Nevada       91.5   84.1     85.6      8.3          11.1\n",
              "29         New  Hampshire       59.3   96.3     92.1      5.6           9.1\n",
              "30             New Jersey       94.4   77.3     86.2      7.8          12.6\n",
              "31             New Mexico       75.0   84.9     81.7     17.8          13.2\n",
              "32               New York       87.5   73.6     84.2     14.0          14.7\n",
              "33        North  Carolina       60.2   74.1     81.4     13.1          12.5\n",
              "34           North Dakota       55.9   92.5     89.7     11.9           7.8\n",
              "35                   Ohio       77.4   85.4     87.2     10.1          12.1\n",
              "36               Oklahoma       65.3   78.4     85.7     14.7          11.4\n",
              "37                 Oregon       78.7   90.8     86.9     11.2           9.8\n",
              "38           Pennsylvania       77.1   86.4     86.0      9.2          11.6\n",
              "39           Rhode Island       90.9   89.2     81.0     10.3          12.9\n",
              "40        South  Carolina       60.5   67.7     80.8     13.5          14.8\n",
              "41           South Dakota       51.9   88.8     88.7     10.2           9.0\n",
              "42              Tennessee       63.6   80.8     81.0     14.2          12.9\n",
              "43                  Texas       82.5   83.6     77.2     15.3          12.7\n",
              "44                   Utah       88.2   93.6     89.4      9.3           9.4\n",
              "45                Vermont       38.2   96.9     88.9      9.9           9.3\n",
              "46               Virginia       73.0   73.9     87.8      8.7          11.9\n",
              "47             Washington       82.0   85.5     89.1     10.8           9.9\n",
              "48         West  Virginia       46.1   95.0     78.7     16.0          10.7\n",
              "49              Wisconsin       68.3   90.1     88.6      8.6           9.6\n",
              "50                Wyoming       65.1   94.7     90.9      9.5           8.7"
            ]
          },
          "metadata": {},
          "execution_count": 124
        }
      ]
    },
    {
      "cell_type": "code",
      "metadata": {
        "colab": {
          "base_uri": "https://localhost:8080/",
          "height": 0
        },
        "id": "whUtRlahYQhq",
        "outputId": "4191774c-a693-4c80-aef8-d73c45849c04"
      },
      "source": [
        "df.shape"
      ],
      "execution_count": 125,
      "outputs": [
        {
          "output_type": "execute_result",
          "data": {
            "text/plain": [
              "(51, 6)"
            ]
          },
          "metadata": {},
          "execution_count": 125
        }
      ]
    },
    {
      "cell_type": "markdown",
      "metadata": {
        "id": "8yn_CEgtfFmB"
      },
      "source": [
        "# Описательная статистика "
      ]
    },
    {
      "cell_type": "code",
      "metadata": {
        "colab": {
          "base_uri": "https://localhost:8080/",
          "height": 300
        },
        "id": "Wj8e-TCFYTEq",
        "outputId": "2bb53a17-855d-4f4d-8db4-b7f386bdb5c7"
      },
      "source": [
        "df.describe()"
      ],
      "execution_count": 126,
      "outputs": [
        {
          "output_type": "execute_result",
          "data": {
            "text/html": [
              "<div>\n",
              "<style scoped>\n",
              "    .dataframe tbody tr th:only-of-type {\n",
              "        vertical-align: middle;\n",
              "    }\n",
              "\n",
              "    .dataframe tbody tr th {\n",
              "        vertical-align: top;\n",
              "    }\n",
              "\n",
              "    .dataframe thead th {\n",
              "        text-align: right;\n",
              "    }\n",
              "</style>\n",
              "<table border=\"1\" class=\"dataframe\">\n",
              "  <thead>\n",
              "    <tr style=\"text-align: right;\">\n",
              "      <th></th>\n",
              "      <th>metro_res</th>\n",
              "      <th>white</th>\n",
              "      <th>hs_grad</th>\n",
              "      <th>poverty</th>\n",
              "      <th>female_house</th>\n",
              "    </tr>\n",
              "  </thead>\n",
              "  <tbody>\n",
              "    <tr>\n",
              "      <th>count</th>\n",
              "      <td>51.000000</td>\n",
              "      <td>51.000000</td>\n",
              "      <td>51.000000</td>\n",
              "      <td>51.000000</td>\n",
              "      <td>51.000000</td>\n",
              "    </tr>\n",
              "    <tr>\n",
              "      <th>mean</th>\n",
              "      <td>72.249020</td>\n",
              "      <td>81.719608</td>\n",
              "      <td>86.011765</td>\n",
              "      <td>11.349020</td>\n",
              "      <td>11.633333</td>\n",
              "    </tr>\n",
              "    <tr>\n",
              "      <th>std</th>\n",
              "      <td>15.275894</td>\n",
              "      <td>13.897223</td>\n",
              "      <td>3.725998</td>\n",
              "      <td>3.099185</td>\n",
              "      <td>2.356155</td>\n",
              "    </tr>\n",
              "    <tr>\n",
              "      <th>min</th>\n",
              "      <td>38.200000</td>\n",
              "      <td>25.900000</td>\n",
              "      <td>77.200000</td>\n",
              "      <td>5.600000</td>\n",
              "      <td>7.800000</td>\n",
              "    </tr>\n",
              "    <tr>\n",
              "      <th>25%</th>\n",
              "      <td>60.800000</td>\n",
              "      <td>76.800000</td>\n",
              "      <td>83.300000</td>\n",
              "      <td>9.250000</td>\n",
              "      <td>9.550000</td>\n",
              "    </tr>\n",
              "    <tr>\n",
              "      <th>50%</th>\n",
              "      <td>71.600000</td>\n",
              "      <td>85.400000</td>\n",
              "      <td>86.900000</td>\n",
              "      <td>10.600000</td>\n",
              "      <td>11.800000</td>\n",
              "    </tr>\n",
              "    <tr>\n",
              "      <th>75%</th>\n",
              "      <td>86.800000</td>\n",
              "      <td>90.250000</td>\n",
              "      <td>88.700000</td>\n",
              "      <td>13.400000</td>\n",
              "      <td>12.650000</td>\n",
              "    </tr>\n",
              "    <tr>\n",
              "      <th>max</th>\n",
              "      <td>100.000000</td>\n",
              "      <td>97.100000</td>\n",
              "      <td>92.100000</td>\n",
              "      <td>18.000000</td>\n",
              "      <td>18.900000</td>\n",
              "    </tr>\n",
              "  </tbody>\n",
              "</table>\n",
              "</div>"
            ],
            "text/plain": [
              "        metro_res      white    hs_grad    poverty  female_house\n",
              "count   51.000000  51.000000  51.000000  51.000000     51.000000\n",
              "mean    72.249020  81.719608  86.011765  11.349020     11.633333\n",
              "std     15.275894  13.897223   3.725998   3.099185      2.356155\n",
              "min     38.200000  25.900000  77.200000   5.600000      7.800000\n",
              "25%     60.800000  76.800000  83.300000   9.250000      9.550000\n",
              "50%     71.600000  85.400000  86.900000  10.600000     11.800000\n",
              "75%     86.800000  90.250000  88.700000  13.400000     12.650000\n",
              "max    100.000000  97.100000  92.100000  18.000000     18.900000"
            ]
          },
          "metadata": {},
          "execution_count": 126
        }
      ]
    },
    {
      "cell_type": "code",
      "metadata": {
        "colab": {
          "base_uri": "https://localhost:8080/",
          "height": 283
        },
        "id": "x8btNPc6_Bon",
        "outputId": "fe01f32f-11a0-4e99-8936-83446b8e7140"
      },
      "source": [
        "df.boxplot()"
      ],
      "execution_count": 127,
      "outputs": [
        {
          "output_type": "execute_result",
          "data": {
            "text/plain": [
              "<matplotlib.axes._subplots.AxesSubplot at 0x7f230481d050>"
            ]
          },
          "metadata": {},
          "execution_count": 127
        },
        {
          "output_type": "display_data",
          "data": {
            "image/png": "[encoded data removed]",
            "text/plain": [
              "<Figure size 432x288 with 1 Axes>"
            ]
          },
          "metadata": {
            "needs_background": "light"
          }
        }
      ]
    },
    {
      "cell_type": "code",
      "metadata": {
        "id": "JGP3VEjaaEfT"
      },
      "source": [
        "corelation = df.corr()"
      ],
      "execution_count": 128,
      "outputs": []
    },
    {
      "cell_type": "code",
      "metadata": {
        "colab": {
          "base_uri": "https://localhost:8080/",
          "height": 346
        },
        "id": "4mM9b5rseKcf",
        "outputId": "626d7e45-06ba-4948-9637-7d1c98718728"
      },
      "source": [
        "sns.heatmap(corelation, xticklabels=corelation.columns, yticklabels=corelation.columns, annot=True)"
      ],
      "execution_count": 129,
      "outputs": [
        {
          "output_type": "execute_result",
          "data": {
            "text/plain": [
              "<matplotlib.axes._subplots.AxesSubplot at 0x7f230460e250>"
            ]
          },
          "metadata": {},
          "execution_count": 129
        },
        {
          "output_type": "display_data",
          "data": {
            "image/png": "[encoded data removed]",
            "text/plain": [
              "<Figure size 432x288 with 2 Axes>"
            ]
          },
          "metadata": {
            "needs_background": "light"
          }
        }
      ]
    },
    {
      "cell_type": "markdown",
      "metadata": {
        "id": "jyLMYpRfKnnT"
      },
      "source": [
        "*В таблице представлены коэффициенты корреляции Пирсона между количественными переменными*\n",
        "\n",
        "Выявлена сильная корреляционная взаимосвязь между несколькими переменными.\n",
        "\n",
        "Далее будет выполнен линейный регрессионный анализ между уровнем образования - независимая переменная и уровнем бедности - зависимая переменная."
      ]
    },
    {
      "cell_type": "code",
      "metadata": {
        "colab": {
          "base_uri": "https://localhost:8080/",
          "height": 920
        },
        "id": "t3uRPyZ1elZ3",
        "outputId": "352b976f-111d-4661-9502-b714dbe4e038"
      },
      "source": [
        "sns.pairplot(df)"
      ],
      "execution_count": 130,
      "outputs": [
        {
          "output_type": "execute_result",
          "data": {
            "text/plain": [
              "<seaborn.axisgrid.PairGrid at 0x7f2304586150>"
            ]
          },
          "metadata": {},
          "execution_count": 130
        },
        {
          "output_type": "display_data",
          "data": {
            "image/png": "[encoded data removed]",
            "text/plain": [
              "<Figure size 900x900 with 30 Axes>"
            ]
          },
          "metadata": {
            "needs_background": "light"
          }
        }
      ]
    },
    {
      "cell_type": "markdown",
      "metadata": {
        "id": "9s8mJMEFK8s0"
      },
      "source": [
        "*В сводной таблице представлены диаграммы рассеяния между парами количественных переменных. На диагонали таблицы представлен характер распределения каждой переменной*"
      ]
    },
    {
      "cell_type": "code",
      "metadata": {
        "colab": {
          "base_uri": "https://localhost:8080/",
          "height": 299
        },
        "id": "j0Fs82TqK2Fx",
        "outputId": "2181c701-d28e-4cd4-b012-bc1101306714"
      },
      "source": [
        "plt.scatter(df['hs_grad'], df['poverty'])\n",
        "plt.xlabel('% населения со средним образованием')\n",
        "plt.ylabel('уровень бедности')\n",
        "plt.title(\"Диаграмма рассяния\",fontsize=18)\n",
        "plt.show()"
      ],
      "execution_count": 131,
      "outputs": [
        {
          "output_type": "display_data",
          "data": {
            "image/png": "[encoded data removed]",
            "text/plain": [
              "<Figure size 432x288 with 1 Axes>"
            ]
          },
          "metadata": {
            "needs_background": "light"
          }
        }
      ]
    },
    {
      "cell_type": "markdown",
      "metadata": {
        "id": "TRsdu_ctMvwz"
      },
      "source": [
        "*Диаграмма рассеяния для двух переменных:*\n",
        "\n",
        "x - процент населения со средним образованием\n",
        "\n",
        "y - уровень бедности\n",
        "\n",
        "Прослеживается линейная зависимость переменных"
      ]
    },
    {
      "cell_type": "code",
      "metadata": {
        "colab": {
          "base_uri": "https://localhost:8080/",
          "height": 354
        },
        "id": "gL9sxLQwhpUD",
        "outputId": "fdd6b5d4-346d-4b3c-bc38-76f9b6b5d166"
      },
      "source": [
        "sns.distplot(df['hs_grad'])\n",
        "plt.xlabel('% населения со средним образованием')\n",
        "plt.ylabel('Частота')\n",
        "plt.title(\"Гистограмма распределения уровня образования\",fontsize=18)\n",
        "plt.show()"
      ],
      "execution_count": 135,
      "outputs": [
        {
          "output_type": "stream",
          "name": "stderr",
          "text": [
            "/usr/local/lib/python3.7/dist-packages/seaborn/distributions.py:2619: FutureWarning: `distplot` is a deprecated function and will be removed in a future version. Please adapt your code to use either `displot` (a figure-level function with similar flexibility) or `histplot` (an axes-level function for histograms).\n",
            "  warnings.warn(msg, FutureWarning)\n"
          ]
        },
        {
          "output_type": "display_data",
          "data": {
            "image/png": "[encoded data removed]",
            "text/plain": [
              "<Figure size 432x288 with 1 Axes>"
            ]
          },
          "metadata": {
            "needs_background": "light"
          }
        }
      ]
    },
    {
      "cell_type": "markdown",
      "metadata": {
        "id": "vE0vnadMRLzt"
      },
      "source": [
        "Гистограмма распределения уровня образования\n",
        "\n",
        "*Отсутствуют значимые выбросы*"
      ]
    },
    {
      "cell_type": "code",
      "metadata": {
        "colab": {
          "base_uri": "https://localhost:8080/",
          "height": 354
        },
        "id": "-450GrZBh6Hw",
        "outputId": "8f1cdc0d-4006-4d49-ea9a-a2d8a31baa05"
      },
      "source": [
        "sns.distplot(df['poverty'])\n",
        "plt.xlabel('Уровень бедности')\n",
        "plt.ylabel('Частота')\n",
        "plt.title(\"Гистограмма распределения уровня бедности\",fontsize=18)\n",
        "plt.show()"
      ],
      "execution_count": 137,
      "outputs": [
        {
          "output_type": "stream",
          "name": "stderr",
          "text": [
            "/usr/local/lib/python3.7/dist-packages/seaborn/distributions.py:2619: FutureWarning: `distplot` is a deprecated function and will be removed in a future version. Please adapt your code to use either `displot` (a figure-level function with similar flexibility) or `histplot` (an axes-level function for histograms).\n",
            "  warnings.warn(msg, FutureWarning)\n"
          ]
        },
        {
          "output_type": "display_data",
          "data": {
            "image/png": "[encoded data removed]",
            "text/plain": [
              "<Figure size 432x288 with 1 Axes>"
            ]
          },
          "metadata": {
            "needs_background": "light"
          }
        }
      ]
    },
    {
      "cell_type": "markdown",
      "metadata": {
        "id": "l8cq5PQJRBWY"
      },
      "source": [
        "Гистограмма распределения уровня бедности\n",
        "\n",
        "*Отсутствуют значимые выбросы*"
      ]
    },
    {
      "cell_type": "code",
      "metadata": {
        "colab": {
          "base_uri": "https://localhost:8080/",
          "height": 308
        },
        "id": "pLT-4img8hAl",
        "outputId": "631afc9f-ad61-4d81-c293-6ff70add9318"
      },
      "source": [
        "stats.probplot(df['hs_grad'], dist=\"norm\", plot=pylab)\n",
        "plt.xticks(fontsize=13)\n",
        "plt.yticks(fontsize=13)\n",
        "plt.xlabel(\"Теоретические квантили\",fontsize=15)\n",
        "plt.ylabel(\"Квантили выборки\",fontsize=15)\n",
        "plt.title(\"Q-Q plot распределения уровня образования\",fontsize=18)\n",
        "plt.grid(True)\n",
        "plt.show()"
      ],
      "execution_count": 138,
      "outputs": [
        {
          "output_type": "display_data",
          "data": {
            "image/png": "[encoded data removed]",
            "text/plain": [
              "<Figure size 432x288 with 1 Axes>"
            ]
          },
          "metadata": {
            "needs_background": "light"
          }
        }
      ]
    },
    {
      "cell_type": "markdown",
      "metadata": {
        "id": "9UL7ednl8psR"
      },
      "source": [
        "*QQ plot для уровня образования*\n",
        "\n",
        "Данные выборки близки к нормальному распределению"
      ]
    },
    {
      "cell_type": "code",
      "metadata": {
        "colab": {
          "base_uri": "https://localhost:8080/",
          "height": 308
        },
        "id": "u3C6ld1UIzP8",
        "outputId": "5164aea3-36a6-49fa-ebd2-d9ae4ba32dc0"
      },
      "source": [
        "stats.probplot(df['poverty'], dist=\"norm\", plot=pylab)\n",
        "plt.xticks(fontsize=13)\n",
        "plt.yticks(fontsize=13)\n",
        "plt.xlabel(\"Теоретические квантили\",fontsize=15)\n",
        "plt.ylabel(\"Квантили выборки\",fontsize=15)\n",
        "plt.title(\"Q-Q plot распределения уровня бедности\",fontsize=18)\n",
        "plt.grid(True)\n",
        "plt.show()"
      ],
      "execution_count": 139,
      "outputs": [
        {
          "output_type": "display_data",
          "data": {
            "image/png": "[encoded data removed]",
            "text/plain": [
              "<Figure size 432x288 with 1 Axes>"
            ]
          },
          "metadata": {
            "needs_background": "light"
          }
        }
      ]
    },
    {
      "cell_type": "markdown",
      "metadata": {
        "id": "XJedLW6U9JVe"
      },
      "source": [
        "*QQ plot уровня бедности*\n",
        "\n",
        "Данные выборки близки к нормальному распределению"
      ]
    },
    {
      "cell_type": "markdown",
      "metadata": {
        "id": "I3Pj48QG9SYZ"
      },
      "source": [
        "**Таким образом, учитывая нормальное распределение случайных величин - уровень образования (x) и уровень бедности (y), отсутствие значимых выбросов и линейную взаимосвязь переменных, возможно применение линейного регрессионного анализа.**"
      ]
    },
    {
      "cell_type": "markdown",
      "metadata": {
        "id": "c80MW3GrJy78"
      },
      "source": [
        "# Регрессионный анализ"
      ]
    },
    {
      "cell_type": "markdown",
      "metadata": {
        "id": "dPsamifCHKoC"
      },
      "source": [
        "**Регрессионный анализ с одной независимой переменной:**\n",
        "1. уровень образования - независимая переменная (x)\n",
        "2. прожиавние в бедности - зависимая переменная (y)\n",
        "\n",
        "**Задачи:**\n",
        "\n",
        "1. Построить регрессиионная модель: y_hat = b0 + b1*x\n",
        "\n",
        "2. Найти коэффициент детерминации R2\n",
        "\n",
        "3. Проверить гипотезу:\n",
        "\n",
        "Нулевая гипотеза. H0: b1 = 0\n",
        "\n",
        "Альтернативная гипотеза. Н1: b1 != 0\n",
        "\n",
        "pvalue - 5%"
      ]
    },
    {
      "cell_type": "code",
      "metadata": {
        "colab": {
          "base_uri": "https://localhost:8080/",
          "height": 0
        },
        "id": "8WCM3v7qHysa",
        "outputId": "fa1f1410-2570-4602-f6d2-400832f8ad75"
      },
      "source": [
        "x = np.array(df['hs_grad'])\n",
        "x"
      ],
      "execution_count": 149,
      "outputs": [
        {
          "output_type": "execute_result",
          "data": {
            "text/plain": [
              "array([79.9, 90.6, 83.8, 80.9, 81.1, 88.7, 87.5, 88.7, 86. , 84.7, 85.1,\n",
              "       88.5, 88.2, 85.9, 86.4, 89.7, 88.6, 82.8, 79.8, 86.6, 87.6, 87.1,\n",
              "       87.6, 91.6, 81.2, 88.3, 90.1, 90.8, 85.6, 92.1, 86.2, 81.7, 84.2,\n",
              "       81.4, 89.7, 87.2, 85.7, 86.9, 86. , 81. , 80.8, 88.7, 81. , 77.2,\n",
              "       89.4, 88.9, 87.8, 89.1, 78.7, 88.6, 90.9])"
            ]
          },
          "metadata": {},
          "execution_count": 149
        }
      ]
    },
    {
      "cell_type": "code",
      "metadata": {
        "colab": {
          "base_uri": "https://localhost:8080/",
          "height": 0
        },
        "id": "b0a3NDVyLrdl",
        "outputId": "a690fa38-cf0f-4c36-d905-a3e20fcce9be"
      },
      "source": [
        "y = np.array(df['poverty'])\n",
        "y"
      ],
      "execution_count": 150,
      "outputs": [
        {
          "output_type": "execute_result",
          "data": {
            "text/plain": [
              "array([14.6,  8.3, 13.3, 18. , 12.8,  9.4,  7.8,  8.1, 16.8, 12.1, 12.1,\n",
              "       10.6, 11.8, 11.2,  8.7,  8.3,  9.4, 13.1, 17. , 11.3,  7.3,  9.6,\n",
              "       10.3,  6.5, 17.6,  9.6, 13.7,  9.5,  8.3,  5.6,  7.8, 17.8, 14. ,\n",
              "       13.1, 11.9, 10.1, 14.7, 11.2,  9.2, 10.3, 13.5, 10.2, 14.2, 15.3,\n",
              "        9.3,  9.9,  8.7, 10.8, 16. ,  8.6,  9.5])"
            ]
          },
          "metadata": {},
          "execution_count": 150
        }
      ]
    },
    {
      "cell_type": "code",
      "metadata": {
        "id": "mYDYIJ_RL2D8"
      },
      "source": [
        "def mse_(b1, y=y, x=x, n = 51):\n",
        "  return np.sum((b0 + b1 * x - y)**2) / n"
      ],
      "execution_count": 82,
      "outputs": []
    },
    {
      "cell_type": "code",
      "metadata": {
        "id": "h-mCY_m4CA8E"
      },
      "source": [
        "b0 = 0.1"
      ],
      "execution_count": 83,
      "outputs": []
    },
    {
      "cell_type": "code",
      "metadata": {
        "id": "zw82h_PWCEz9"
      },
      "source": [
        "b1 = 0.1"
      ],
      "execution_count": 84,
      "outputs": []
    },
    {
      "cell_type": "code",
      "metadata": {
        "id": "6aUXCm03CHaX"
      },
      "source": [
        "n = 51"
      ],
      "execution_count": 85,
      "outputs": []
    },
    {
      "cell_type": "code",
      "metadata": {
        "id": "3Tn6YoXQCInY"
      },
      "source": [
        "alfa = 6e-5"
      ],
      "execution_count": 86,
      "outputs": []
    },
    {
      "cell_type": "code",
      "metadata": {
        "id": "eKHYCgXzCWLK",
        "colab": {
          "base_uri": "https://localhost:8080/",
          "height": 0
        },
        "outputId": "72e770b3-7ab9-4eff-f5f5-153bc9762900"
      },
      "source": [
        "for i in range(10000000):\n",
        "  b0 -= alfa*(2/n)*np.sum(b0 + b1*x - y)\n",
        "  b1 -=alfa*(2/n) * np.sum((b0 + b1*x - y) * x)\n",
        "  if i%1000000==0:\n",
        "    print(f'iteration:{i}, b0={b0} b1={b1},mse={mse_(b1)}')"
      ],
      "execution_count": 87,
      "outputs": [
        {
          "output_type": "stream",
          "name": "stdout",
          "text": [
            "iteration:0, b0=0.10031774117647059 b1=0.1261482357566007,mse=11.925227050607349\n",
            "iteration:1000000, b0=12.892587257993474 b1=-0.019053845359326315,mse=9.108426448221664\n",
            "iteration:2000000, b0=23.154830635800916 b1=-0.1381468316349004,mse=7.3460757827301535\n",
            "iteration:3000000, b0=31.38745500902128 b1=-0.2336861582125717,mse=6.211889716400281\n",
            "iteration:4000000, b0=37.99186903189464 b1=-0.3103301589078965,mse=5.481967994097699\n",
            "iteration:5000000, b0=43.29009261263135 b1=-0.37181586383184373,mse=5.012216392922204\n",
            "iteration:6000000, b0=47.5404580522076 b1=-0.42114121057389087,mse=4.709901007498645\n",
            "iteration:7000000, b0=50.95020588459521 b1=-0.4607112185006047,mse=4.515341601985205\n",
            "iteration:8000000, b0=53.68558957001703 b1=-0.4924552533780907,mse=4.390130103996788\n",
            "iteration:9000000, b0=55.87998172870125 b1=-0.5179210999397266,mse=4.309548447267599\n"
          ]
        }
      ]
    },
    {
      "cell_type": "code",
      "metadata": {
        "id": "7sAiMh2tbUBI"
      },
      "source": [
        "alfa = 7e-5"
      ],
      "execution_count": 88,
      "outputs": []
    },
    {
      "cell_type": "code",
      "metadata": {
        "id": "9wyg_LhibYLx",
        "colab": {
          "base_uri": "https://localhost:8080/",
          "height": 0
        },
        "outputId": "171f9c26-d729-4b08-a0cb-5628889a03d4"
      },
      "source": [
        "for i in range(10000000):\n",
        "  b0 -= alfa*(2/n)*np.sum(b0 + b1*x - y)\n",
        "  b1 -=alfa*(2/n) * np.sum((b0 + b1*x - y) * x)\n",
        "  if i%1000000==0:\n",
        "    print(f'iteration:{i}, b0={b0} b1={b1},mse={mse_(b1)}')"
      ],
      "execution_count": 89,
      "outputs": [
        {
          "output_type": "stream",
          "name": "stdout",
          "text": [
            "iteration:0, b0=57.64037742350427 b1=-0.5383504354184073,mse=4.257688958588649\n",
            "iteration:1000000, b0=59.25921134539584 b1=-0.5571369473621051,mse=4.220045687157841\n",
            "iteration:2000000, b0=60.51104143798251 b1=-0.5716643925874462,mse=4.19753578841832\n",
            "iteration:3000000, b0=61.479070683922416 b1=-0.5828983387357303,mse=4.184075333946488\n",
            "iteration:4000000, b0=62.227639220936446 b1=-0.5915854508951882,mse=4.176026260217399\n",
            "iteration:5000000, b0=62.8065007139682 b1=-0.5983031186385012,mse=4.171213080392645\n",
            "iteration:6000000, b0=63.254129236339224 b1=-0.6034978322650193,mse=4.1683348982806026\n",
            "iteration:7000000, b0=63.60027645195765 b1=-0.6075148588124561,mse=4.166613804830585\n",
            "iteration:8000000, b0=63.867949061923454 b1=-0.6106211902568196,mse=4.165584626499153\n",
            "iteration:9000000, b0=64.07493794669118 b1=-0.6130232891546853,mse=4.1649691991161175\n"
          ]
        }
      ]
    },
    {
      "cell_type": "code",
      "metadata": {
        "id": "OLerq5WccTnZ"
      },
      "source": [
        "alfa = 8e-5"
      ],
      "execution_count": 90,
      "outputs": []
    },
    {
      "cell_type": "code",
      "metadata": {
        "id": "DklJob8EcYgQ",
        "colab": {
          "base_uri": "https://localhost:8080/",
          "height": 0
        },
        "outputId": "7cb345cc-b474-428c-98e3-d5036c06ebce"
      },
      "source": [
        "for i in range(10000000):\n",
        "  b0 -= alfa*(2/n)*np.sum(b0 + b1*x - y)\n",
        "  b1 -=alfa*(2/n) * np.sum((b0 + b1*x - y) * x)\n",
        "  if i%1000000==0:\n",
        "    print(f'iteration:{i}, b0={b0} b1={b1},mse={mse_(b1)}')"
      ],
      "execution_count": 91,
      "outputs": [
        {
          "output_type": "stream",
          "name": "stdout",
          "text": [
            "iteration:0, b0=64.23500065833811 b1=-0.6148808117013118,mse=4.164601186213396\n",
            "iteration:1000000, b0=64.37400322047228 b1=-0.6164939315577834,mse=4.164357935716351\n",
            "iteration:2000000, b0=64.47761576983004 b1=-0.6176963515899273,mse=4.164222780489847\n",
            "iteration:3000000, b0=64.55484859359605 b1=-0.6185926358239406,mse=4.164147685328797\n",
            "iteration:4000000, b0=64.61241796240292 b1=-0.6192607263469548,mse=4.164105960836458\n",
            "iteration:5000000, b0=64.65533018629067 b1=-0.6197587212128887,mse=4.1640827778079235\n",
            "iteration:6000000, b0=64.68731697018656 b1=-0.6201299267276518,mse=4.164069896816886\n",
            "iteration:7000000, b0=64.71115992800556 b1=-0.6204066234239963,mse=4.164062739860236\n",
            "iteration:8000000, b0=64.72893247554634 b1=-0.6206128732201622,mse=4.164058763300651\n",
            "iteration:9000000, b0=64.7421801375385 b1=-0.6207666118768903,mse=4.164056553838309\n"
          ]
        }
      ]
    },
    {
      "cell_type": "code",
      "metadata": {
        "id": "5k3unyOCeFm_"
      },
      "source": [
        " alfa = 9e-5"
      ],
      "execution_count": 92,
      "outputs": []
    },
    {
      "cell_type": "code",
      "metadata": {
        "id": "oirtiduheQVG",
        "colab": {
          "base_uri": "https://localhost:8080/",
          "height": 0
        },
        "outputId": "9684bade-cd26-4675-fbb7-6214cfc95eac"
      },
      "source": [
        "for i in range(10000000):\n",
        "  b0 -= alfa*(2/n)*np.sum(b0 + b1*x - y)\n",
        "  b1 -=alfa*(2/n) * np.sum((b0 + b1*x - y) * x)\n",
        "  if i%1000000==0:\n",
        "    print(f'iteration:{i}, b0={b0} b1={b1},mse={mse_(b1)}')"
      ],
      "execution_count": 93,
      "outputs": [
        {
          "output_type": "stream",
          "name": "stdout",
          "text": [
            "iteration:0, b0=64.75205494961723 b1=-0.620881208744105,mse=4.164055326213233\n",
            "iteration:1000000, b0=64.76019293389079 b1=-0.6209756497610137,mse=4.16405458370479\n",
            "iteration:2000000, b0=64.76604019147824 b1=-0.6210435069794837,mse=4.164054200375365\n",
            "iteration:3000000, b0=64.77024152932023 b1=-0.6210922633572467,mse=4.1640540024766795\n",
            "iteration:4000000, b0=64.77326025038587 b1=-0.6211272955089499,mse=4.164053900308967\n",
            "iteration:5000000, b0=64.77542924445805 b1=-0.6211524666088055,mse=4.1640538475635855\n",
            "iteration:6000000, b0=64.77698769758707 b1=-0.621170552402508,mse=4.164053820333112\n",
            "iteration:7000000, b0=64.77810746835183 b1=-0.6211835473028153,mse=4.164053806275034\n",
            "iteration:8000000, b0=64.77891203959258 b1=-0.6211928843237421,mse=4.164053799017373\n",
            "iteration:9000000, b0=64.77949013548672 b1=-0.6211995931062438,mse=4.164053795270514\n"
          ]
        }
      ]
    },
    {
      "cell_type": "code",
      "metadata": {
        "id": "Uaf1ZuQIE5Vz"
      },
      "source": [
        "b0 = 64.78"
      ],
      "execution_count": 147,
      "outputs": []
    },
    {
      "cell_type": "code",
      "metadata": {
        "id": "Oz1HoB8IE_Lr"
      },
      "source": [
        "b1 = -0.62"
      ],
      "execution_count": 148,
      "outputs": []
    },
    {
      "cell_type": "code",
      "metadata": {
        "colab": {
          "base_uri": "https://localhost:8080/",
          "height": 0
        },
        "id": "7wnUS6liFENL",
        "outputId": "1043dfdb-7d31-4e72-e60c-43c3aaa06d35"
      },
      "source": [
        "y_hat = b0 + b1*x\n",
        "y_hat"
      ],
      "execution_count": 151,
      "outputs": [
        {
          "output_type": "execute_result",
          "data": {
            "text/plain": [
              "array([15.242,  8.608, 12.824, 14.622, 14.498,  9.786, 10.53 ,  9.786,\n",
              "       11.46 , 12.266, 12.018,  9.91 , 10.096, 11.522, 11.212,  9.166,\n",
              "        9.848, 13.444, 15.304, 11.088, 10.468, 10.778, 10.468,  7.988,\n",
              "       14.436, 10.034,  8.918,  8.484, 11.708,  7.678, 11.336, 14.126,\n",
              "       12.576, 14.312,  9.166, 10.716, 11.646, 10.902, 11.46 , 14.56 ,\n",
              "       14.684,  9.786, 14.56 , 16.916,  9.352,  9.662, 10.344,  9.538,\n",
              "       15.986,  9.848,  8.422])"
            ]
          },
          "metadata": {},
          "execution_count": 151
        }
      ]
    },
    {
      "cell_type": "code",
      "metadata": {
        "colab": {
          "base_uri": "https://localhost:8080/",
          "height": 299
        },
        "id": "31YIpNTqFsWt",
        "outputId": "a9a7f222-90d2-4f6c-912f-9c7faba2c4b9"
      },
      "source": [
        "plt.scatter(df['hs_grad'], df['poverty'])\n",
        "plt.plot(x, b0+b1*x)\n",
        "plt.xlabel('% населения со средним образованием')\n",
        "plt.ylabel('уровень бедности')\n",
        "plt.title(\"Диаграмма рассяния\",fontsize=18)\n",
        "plt.show()"
      ],
      "execution_count": 152,
      "outputs": [
        {
          "output_type": "display_data",
          "data": {
            "image/png": "[encoded data removed]",
            "text/plain": [
              "<Figure size 432x288 with 1 Axes>"
            ]
          },
          "metadata": {
            "needs_background": "light"
          }
        }
      ]
    },
    {
      "cell_type": "code",
      "metadata": {
        "id": "9eoI0QJbG7pv"
      },
      "source": [
        "x = x.reshape((-1, 1))\n"
      ],
      "execution_count": 153,
      "outputs": []
    },
    {
      "cell_type": "code",
      "metadata": {
        "id": "FoURmWofQQYr"
      },
      "source": [
        "model = LinearRegression()"
      ],
      "execution_count": 154,
      "outputs": []
    },
    {
      "cell_type": "code",
      "metadata": {
        "colab": {
          "base_uri": "https://localhost:8080/",
          "height": 0
        },
        "id": "owRPGWe2QR-h",
        "outputId": "b1c8db08-9f64-43ef-9a99-47bb077bc4a8"
      },
      "source": [
        "model.fit(x, y)"
      ],
      "execution_count": 155,
      "outputs": [
        {
          "output_type": "execute_result",
          "data": {
            "text/plain": [
              "LinearRegression(copy_X=True, fit_intercept=True, n_jobs=None, normalize=False)"
            ]
          },
          "metadata": {},
          "execution_count": 155
        }
      ]
    },
    {
      "cell_type": "code",
      "metadata": {
        "id": "iQAzAqRVQiPY"
      },
      "source": [
        "model = LinearRegression().fit(x, y)\n"
      ],
      "execution_count": 156,
      "outputs": []
    },
    {
      "cell_type": "code",
      "metadata": {
        "colab": {
          "base_uri": "https://localhost:8080/",
          "height": 0
        },
        "id": "0Fpax_UpQ3r3",
        "outputId": "2331618e-bda4-42b3-dac9-dbc2108cfc5a"
      },
      "source": [
        "r_sq = model.score(x, y)\n",
        "print('coefficient of determination:', r_sq)"
      ],
      "execution_count": 158,
      "outputs": [
        {
          "output_type": "stream",
          "name": "stdout",
          "text": [
            "coefficient of determination: 0.5577972503105937\n"
          ]
        }
      ]
    },
    {
      "cell_type": "code",
      "metadata": {
        "colab": {
          "base_uri": "https://localhost:8080/",
          "height": 0
        },
        "id": "xNaK-3u6RFDz",
        "outputId": "0c67d33a-2fde-4246-db93-0614af4cee8c"
      },
      "source": [
        "print('intercept:', model.intercept_)"
      ],
      "execution_count": 159,
      "outputs": [
        {
          "output_type": "stream",
          "name": "stdout",
          "text": [
            "intercept: 64.7809657701021\n"
          ]
        }
      ]
    },
    {
      "cell_type": "code",
      "metadata": {
        "colab": {
          "base_uri": "https://localhost:8080/",
          "height": 0
        },
        "id": "tw7epcdpRHAC",
        "outputId": "20789540-a5e5-4a5e-8099-b67db7ac60b8"
      },
      "source": [
        "print('slope:', model.coef_)"
      ],
      "execution_count": 160,
      "outputs": [
        {
          "output_type": "stream",
          "name": "stdout",
          "text": [
            "slope: [-0.62121672]\n"
          ]
        }
      ]
    },
    {
      "cell_type": "code",
      "metadata": {
        "id": "vJ5etZWjSKDs"
      },
      "source": [
        "x = sm.add_constant(x)"
      ],
      "execution_count": 161,
      "outputs": []
    },
    {
      "cell_type": "code",
      "metadata": {
        "id": "f_5coDmASSvi"
      },
      "source": [
        "model = sm.OLS(y, x)"
      ],
      "execution_count": 162,
      "outputs": []
    },
    {
      "cell_type": "code",
      "metadata": {
        "id": "wWlvwBczSX13"
      },
      "source": [
        "results = model.fit()"
      ],
      "execution_count": 163,
      "outputs": []
    },
    {
      "cell_type": "code",
      "metadata": {
        "colab": {
          "base_uri": "https://localhost:8080/",
          "height": 0
        },
        "id": "YtyD36UcSd2Q",
        "outputId": "21254e7f-17ae-43d3-f3d6-3f3cddce5b5e"
      },
      "source": [
        "print(results.summary())"
      ],
      "execution_count": 164,
      "outputs": [
        {
          "output_type": "stream",
          "name": "stdout",
          "text": [
            "                            OLS Regression Results                            \n",
            "==============================================================================\n",
            "Dep. Variable:                      y   R-squared:                       0.558\n",
            "Model:                            OLS   Adj. R-squared:                  0.549\n",
            "Method:                 Least Squares   F-statistic:                     61.81\n",
            "Date:                Sat, 02 Oct 2021   Prob (F-statistic):           3.11e-10\n",
            "Time:                        20:17:46   Log-Likelihood:                -108.74\n",
            "No. Observations:                  51   AIC:                             221.5\n",
            "Df Residuals:                      49   BIC:                             225.3\n",
            "Df Model:                           1                                         \n",
            "Covariance Type:            nonrobust                                         \n",
            "==============================================================================\n",
            "                 coef    std err          t      P>|t|      [0.025      0.975]\n",
            "------------------------------------------------------------------------------\n",
            "const         64.7810      6.803      9.523      0.000      51.111      78.451\n",
            "x1            -0.6212      0.079     -7.862      0.000      -0.780      -0.462\n",
            "==============================================================================\n",
            "Omnibus:                        3.534   Durbin-Watson:                   1.977\n",
            "Prob(Omnibus):                  0.171   Jarque-Bera (JB):                2.653\n",
            "Skew:                           0.540   Prob(JB):                        0.265\n",
            "Kurtosis:                       3.289   Cond. No.                     2.01e+03\n",
            "==============================================================================\n",
            "\n",
            "Warnings:\n",
            "[1] Standard Errors assume that the covariance matrix of the errors is correctly specified.\n",
            "[2] The condition number is large, 2.01e+03. This might indicate that there are\n",
            "strong multicollinearity or other numerical problems.\n"
          ]
        }
      ]
    },
    {
      "cell_type": "markdown",
      "metadata": {
        "id": "Q2GtW55dQHDo"
      },
      "source": [
        "**Вывод:**\n",
        "\n",
        "1. Регрессионная модель: y_hat = b0 + b1*x\n",
        "(b0 = 64.78 ; b1 = -0.62; y_hat = 64.78 - 0.62*x)\n",
        "\n",
        "2. Результаты t-теста(H0: b1 = 0; H1: b1 != 0)\n",
        "\n",
        "b1 = -0.62, ст.ошибка 0,079, t = -7.862, pvalue < 0.05\n",
        "\n",
        "Полученные данные позволяют отвергнуть нулевую гипотезу.\n",
        "\n",
        "Таким образом, при увеличении уровня образования на 1% - уровень бедности снижается на 0,62%\n",
        "\n",
        "3. Коэффициент детерминации(R**2) = 0,558\n",
        "\n",
        "То есть 55,8% изменчвости зависимой переменной объясняется полученной моделью (в нашем случае влиянием независимой переменной - уровень образования, которя является предиктором)"
      ]
    },
    {
      "cell_type": "markdown",
      "metadata": {
        "id": "JcnXrV8HH9nm"
      },
      "source": [
        "# Aнализ остатков"
      ]
    },
    {
      "cell_type": "code",
      "metadata": {
        "colab": {
          "base_uri": "https://localhost:8080/",
          "height": 0
        },
        "id": "0Q2vPkw7eLpf",
        "outputId": "35cbddaa-93c3-4180-de42-52f294ddcf6e"
      },
      "source": [
        "residuals = results.resid\n",
        "residuals"
      ],
      "execution_count": 165,
      "outputs": [
        {
          "output_type": "execute_result",
          "data": {
            "text/plain": [
              "array([-0.54575002, -0.19873114,  0.57699518,  3.4754667 , -1.60028996,\n",
              "       -0.2790429 , -2.62450296, -1.5790429 ,  5.44367196, -0.06390977,\n",
              "        0.18457691,  0.79671375,  1.81034874, -0.21844971, -2.40784135,\n",
              "       -0.75782618, -0.34116457, -0.24422154,  1.79212831,  0.31640199,\n",
              "       -3.06238129, -1.07298965, -0.06238129, -1.37751442,  3.26183171,\n",
              "       -0.32752959,  4.8906605 ,  1.12551221, -3.30481473, -1.96690606,\n",
              "       -3.4320847 ,  3.77244007,  1.52548187, -1.11392494,  2.84217382,\n",
              "       -0.51086798,  3.15730694,  0.40276701, -2.15632804, -4.16241163,\n",
              "       -1.08665497,  0.5209571 , -0.26241163, -1.52303516,  0.0558088 ,\n",
              "        0.34520044, -1.53813795,  1.36944379,  0.10878992, -1.14116457,\n",
              "        1.18763388])"
            ]
          },
          "metadata": {},
          "execution_count": 165
        }
      ]
    },
    {
      "cell_type": "code",
      "metadata": {
        "id": "sCr9IQxUf2_G",
        "colab": {
          "base_uri": "https://localhost:8080/",
          "height": 356
        },
        "outputId": "f1ce61a7-a871-4564-957b-b81787ea2a77"
      },
      "source": [
        "plt.figure(figsize=(8,5))\n",
        "plt.title(\"Распределение остатков\",fontsize=16)\n",
        "plt.scatter(df['hs_grad'], residuals)\n",
        "plt.grid(True)\n",
        "n = np.linspace(78, 92, 100)\n",
        "plt.plot(n, 0*n, color='red',linestyle='--',lw=3)\n",
        "plt.xlabel('% среднего образования',fontsize=14)\n",
        "plt.ylabel('Остатки',fontsize=14)\n",
        "plt.show()"
      ],
      "execution_count": 166,
      "outputs": [
        {
          "output_type": "display_data",
          "data": {
            "image/png": "[encoded data removed]",
            "text/plain": [
              "<Figure size 576x360 with 1 Axes>"
            ]
          },
          "metadata": {
            "needs_background": "light"
          }
        }
      ]
    },
    {
      "cell_type": "code",
      "metadata": {
        "colab": {
          "base_uri": "https://localhost:8080/",
          "height": 359
        },
        "id": "MVAUMbWEa1GY",
        "outputId": "68e2cc95-2e15-4008-964a-4f6ac45707ed"
      },
      "source": [
        "plt.figure(figsize=(8,5))\n",
        "plt.hist(residuals,bins=20,edgecolor='k')\n",
        "plt.ylabel('Частота',fontsize=15)\n",
        "plt.xlabel('Распределение остатков',fontsize=15)\n",
        "plt.title(\"Гистограмма распределения остатков\",fontsize=18)\n",
        "plt.show()"
      ],
      "execution_count": 167,
      "outputs": [
        {
          "output_type": "display_data",
          "data": {
            "image/png": "[encoded data removed]",
            "text/plain": [
              "<Figure size 576x360 with 1 Axes>"
            ]
          },
          "metadata": {
            "needs_background": "light"
          }
        }
      ]
    },
    {
      "cell_type": "code",
      "metadata": {
        "colab": {
          "base_uri": "https://localhost:8080/",
          "height": 307
        },
        "id": "nhUxqhbmc7T_",
        "outputId": "a5c71e12-1fe8-4e8b-8ba2-0b2b090d44ba"
      },
      "source": [
        "stats.probplot(residuals, dist=\"norm\", plot=pylab)\n",
        "plt.xticks(fontsize=13)\n",
        "plt.yticks(fontsize=13)\n",
        "plt.xlabel(\"Теоретические квантили\",fontsize=15)\n",
        "plt.ylabel(\"Квантили выборки\",fontsize=15)\n",
        "plt.title(\"Q-Q plot распределения остатков\",fontsize=18)\n",
        "plt.grid(True)\n",
        "plt.show()"
      ],
      "execution_count": 168,
      "outputs": [
        {
          "output_type": "display_data",
          "data": {
            "image/png": "[encoded data removed]",
            "text/plain": [
              "<Figure size 432x288 with 1 Axes>"
            ]
          },
          "metadata": {
            "needs_background": "light"
          }
        }
      ]
    },
    {
      "cell_type": "code",
      "metadata": {
        "colab": {
          "base_uri": "https://localhost:8080/",
          "height": 0
        },
        "id": "3U4q67TNjq5_",
        "outputId": "c4cb3a99-54d4-44d0-85ae-debf3753ff31"
      },
      "source": [
        "stats.shapiro(residuals)"
      ],
      "execution_count": 169,
      "outputs": [
        {
          "output_type": "execute_result",
          "data": {
            "text/plain": [
              "(0.9680377244949341, 0.1831192970275879)"
            ]
          },
          "metadata": {},
          "execution_count": 169
        }
      ]
    },
    {
      "cell_type": "markdown",
      "metadata": {
        "id": "e3WjxlttkqBD"
      },
      "source": [
        "Тест Шапиро-Уилка распределения остатков: р > 0.05 \n",
        "\n",
        "Таким образом, распределение остактов является нормальным"
      ]
    },
    {
      "cell_type": "markdown",
      "metadata": {
        "id": "r88ReFwHlP0u"
      },
      "source": [
        "**Вывод по анализу остатков:**\n",
        "\n",
        "1. Взаимосвязь переменных x и y является линейной\n",
        "2. Распределение остатков является нормальным\n",
        "3. Изменчивость остатков на всех уровнях независимой переменной является постоянной (гомоскедастичность)\n",
        "\n",
        "**Учитывая вышесказанное, примененние для анализа данных линейной регресии является оправданным**"
      ]
    },
    {
      "cell_type": "markdown",
      "metadata": {
        "id": "3pG-Toq7qGuF"
      },
      "source": [
        "#Задача предсказания значений зависимой переменной"
      ]
    },
    {
      "cell_type": "markdown",
      "metadata": {
        "id": "MWwINHiUr3O-"
      },
      "source": [
        "Например: определить уровень бедности в штате с уровнем образования - 95% \n",
        "\n",
        "Ответ: 5,88%"
      ]
    },
    {
      "cell_type": "code",
      "metadata": {
        "colab": {
          "base_uri": "https://localhost:8080/",
          "height": 0
        },
        "id": "u9M6whxSsE5L",
        "outputId": "1ae2d09f-f825-4632-fa8d-72bbe066e999"
      },
      "source": [
        "y_hat95 = b0 + b1*95\n",
        "y_hat95"
      ],
      "execution_count": 170,
      "outputs": [
        {
          "output_type": "execute_result",
          "data": {
            "text/plain": [
              "5.880000000000003"
            ]
          },
          "metadata": {},
          "execution_count": 170
        }
      ]
    }
  ]
}